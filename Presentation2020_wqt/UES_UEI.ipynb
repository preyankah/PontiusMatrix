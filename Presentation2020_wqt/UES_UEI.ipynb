{
 "cells": [
  {
   "cell_type": "code",
   "execution_count": 4,
   "metadata": {},
   "outputs": [],
   "source": [
    "import pandas as pd"
   ]
  },
  {
   "cell_type": "code",
   "execution_count": 10,
   "metadata": {},
   "outputs": [],
   "source": [
    "class matrix(object):\n",
    "    def __init__ (self, df):\n",
    "        '''A dataframe is essentially the input for the matrix'''\n",
    "        self.df = pd.read_csv(df, index_col = 0)\n",
    "        \n",
    "    def printdf(self):\n",
    "        '''Call printdf to visualize .csv file in dataframe'''\n",
    "        self.dfcopy = self.df.copy(deep = True)\n",
    "        '''Use dataframe.copy to create a copy of original dataframe'''\n",
    "        '''Or this step will mess up following calculations based on columns/rows'''\n",
    "        self.dfcopy['Sum_rows'] = self.dfcopy.sum(axis = 1)\n",
    "        self.dfcopy.loc['Sum_columns'] = self.dfcopy.sum(axis=0)\n",
    "        return self.dfcopy\n",
    "    \n",
    "    def categories(self):\n",
    "        '''Display categories'''\n",
    "        categories = self.dfcopy.columns[:-1].to_list()\n",
    "        return print(\"Categories: \", categories)\n",
    "    \n",
    "    def Hits(self, category = None):\n",
    "        hits_keys = self.df.columns.to_list()\n",
    "        hits_values = []\n",
    "        for i in range(len(self.df.columns)):\n",
    "            hits_values.append(self.df.iloc[i][i]) \n",
    "        hits = {hits_keys[i]: hits_values[i] for i in range(len(hits_keys))}\n",
    "        if category is None:\n",
    "            return print(\"Total hits: \", sum(hits_values)), hits\n",
    "        #If no category specified, return total Hits and Hits dictionary for all categories\n",
    "        else:\n",
    "            return print(category,\"has\", hits[category], \"hits.\")\n",
    "        #If category specified, return hit number for that category\n",
    "        \n",
    "    def FalseAlarms(self, category = None):\n",
    "        hits = []\n",
    "        for i in range(len(self.df.columns)):\n",
    "            hits.append(self.df.iloc[i][i])\n",
    "        mapsum = self.df.sum(axis = 1).to_list()\n",
    "        FA_keys = self.df.columns[:].to_list()\n",
    "        FA_values = [] \n",
    "        for i in range(len(self.df.columns)):\n",
    "            FA_values.append(mapsum[i] - hits[i])\n",
    "        FAs = {FA_keys[i]:FA_values[i] for i in range(len(FA_keys))}\n",
    "        #return mapsum, hits, FA_keys, FA_values, FAs\n",
    "        if category is None:\n",
    "            return print(\"Total False Alarms: \", sum(FA_values)), FAs\n",
    "        #If no category specified, return total FAs and FAs dictionary for all categories\n",
    "        else:\n",
    "            return print(category,\"has\", FAs[category], \"false alarms.\")\n",
    "        \n",
    "    def df_fams(self):\n",
    "        '''Call printdf to visualize .csv file in dataframe'''\n",
    "        dfcopy2 = pd.read_csv('sample.csv', index_col = 0)\n",
    "        #self.dfcopy = self.df.copy(deep = True)\n",
    "        hits = []\n",
    "        for i in range(len(dfcopy2.columns)):\n",
    "            hits.append(dfcopy2.iloc[i][i])\n",
    "        mapsum = dfcopy2.sum(axis = 1).to_list()\n",
    "        groundsum = dfcopy2.sum(axis = 0).to_list()  \n",
    "        FA_values = [] \n",
    "        MISS_values = []\n",
    "        for i in range(len(dfcopy2.columns)):\n",
    "            FA_values.append(mapsum[i] - hits[i])\n",
    "            MISS_values.append(groundsum[i] - hits [i])\n",
    "        # Attach list to dataframe as rows and columns\n",
    "        FA_values.append(sum(FA_values))\n",
    "        MISS_values.append(sum(MISS_values))\n",
    "        MISS_values.append('//')\n",
    "        dfcopy2['Sum_map'] = dfcopy2.sum(axis = 1)\n",
    "        dfcopy2.loc['Sum_ground'] = dfcopy2.sum(axis=0)\n",
    "        dfcopy2['False_Alarms'] = FA_values\n",
    "        dfcopy2.loc['Misses'] = MISS_values\n",
    "        return dfcopy2  \n",
    "    \n",
    "    \n",
    "    def ue(self):\n",
    "        dfcopy2 = self.df.copy(deep = True)\n",
    "        hits = []\n",
    "        for i in range(len(dfcopy2.columns)):\n",
    "            hits.append(dfcopy2.iloc[i][i])\n",
    "        mapsum = dfcopy2.sum(axis = 1).to_list()\n",
    "        groundsum = dfcopy2.sum(axis = 0).to_list()  \n",
    "        FA_values = [] \n",
    "        MISS_values = []\n",
    "        for i in range(len(dfcopy2.columns)):\n",
    "            FA_values.append(mapsum[i] - hits[i])\n",
    "            MISS_values.append(groundsum[i] - hits [i])\n",
    "        # Attach list to dataframe as rows and columns\n",
    "        FA_values.append(sum(FA_values))\n",
    "        MISS_values.append(sum(MISS_values))\n",
    "        MISS_values.append('//')\n",
    "        dfcopy2['Sum_map'] = dfcopy2.sum(axis = 1)\n",
    "        dfcopy2.loc['Sum_ground'] = dfcopy2.sum(axis=0)\n",
    "        dfcopy2['False_Alarms'] = FA_values\n",
    "        dfcopy2.loc['Misses'] = MISS_values\n",
    "        # Create list of pure False Alarm and Miss values (no sum)\n",
    "        FA_pure = FA_values[:-1]\n",
    "        Miss_pure = MISS_values[:-2]\n",
    "        # Create list of uniform entry size - just an example here using error/change in names\n",
    "        ue_size_error_col = []\n",
    "        ue_size_change_row = []\n",
    "        for i in range(len(FA_pure)):\n",
    "            ue_size_error_col.append(MISS_values[i] / (len(FA_pure)-1))\n",
    "            ue_size_change_row.append(FA_values[i] / (len(FA_pure)-1))\n",
    "        # Create list of uniform entry intensity - just an example here using error/change in names\n",
    "        ue_intensity_error_row = []\n",
    "        ue_intensity_change_column = []\n",
    "        for i in range(len(FA_pure)):\n",
    "            ue_intensity_error_row.append(FA_pure[i] / (sum(groundsum)-groundsum[i]))\n",
    "            ue_intensity_change_column.append(Miss_pure[i] / (sum(mapsum)-mapsum[i]))\n",
    "        return 'uniform entry size for error assessment is', ue_size_error_col, 'uniform entry size for change assessment is',ue_size_change_row, 'uniform entry intensity for error assessment is',ue_intensity_error_row, 'uniform entry intensity for change assessment is',ue_intensity_change_column"
   ]
  },
  {
   "cell_type": "code",
   "execution_count": 11,
   "metadata": {},
   "outputs": [
    {
     "data": {
      "text/html": [
       "<div>\n",
       "<style scoped>\n",
       "    .dataframe tbody tr th:only-of-type {\n",
       "        vertical-align: middle;\n",
       "    }\n",
       "\n",
       "    .dataframe tbody tr th {\n",
       "        vertical-align: top;\n",
       "    }\n",
       "\n",
       "    .dataframe thead th {\n",
       "        text-align: right;\n",
       "    }\n",
       "</style>\n",
       "<table border=\"1\" class=\"dataframe\">\n",
       "  <thead>\n",
       "    <tr style=\"text-align: right;\">\n",
       "      <th></th>\n",
       "      <th>j1</th>\n",
       "      <th>j2</th>\n",
       "      <th>j3</th>\n",
       "      <th>j4</th>\n",
       "      <th>Sum_rows</th>\n",
       "    </tr>\n",
       "  </thead>\n",
       "  <tbody>\n",
       "    <tr>\n",
       "      <th>i1</th>\n",
       "      <td>1</td>\n",
       "      <td>0</td>\n",
       "      <td>2</td>\n",
       "      <td>0</td>\n",
       "      <td>3</td>\n",
       "    </tr>\n",
       "    <tr>\n",
       "      <th>i2</th>\n",
       "      <td>0</td>\n",
       "      <td>3</td>\n",
       "      <td>3</td>\n",
       "      <td>0</td>\n",
       "      <td>6</td>\n",
       "    </tr>\n",
       "    <tr>\n",
       "      <th>i3</th>\n",
       "      <td>2</td>\n",
       "      <td>0</td>\n",
       "      <td>3</td>\n",
       "      <td>0</td>\n",
       "      <td>5</td>\n",
       "    </tr>\n",
       "    <tr>\n",
       "      <th>i4</th>\n",
       "      <td>0</td>\n",
       "      <td>3</td>\n",
       "      <td>0</td>\n",
       "      <td>3</td>\n",
       "      <td>6</td>\n",
       "    </tr>\n",
       "    <tr>\n",
       "      <th>Sum_columns</th>\n",
       "      <td>3</td>\n",
       "      <td>6</td>\n",
       "      <td>8</td>\n",
       "      <td>3</td>\n",
       "      <td>20</td>\n",
       "    </tr>\n",
       "  </tbody>\n",
       "</table>\n",
       "</div>"
      ],
      "text/plain": [
       "             j1  j2  j3  j4  Sum_rows\n",
       "i1            1   0   2   0         3\n",
       "i2            0   3   3   0         6\n",
       "i3            2   0   3   0         5\n",
       "i4            0   3   0   3         6\n",
       "Sum_columns   3   6   8   3        20"
      ]
     },
     "execution_count": 11,
     "metadata": {},
     "output_type": "execute_result"
    }
   ],
   "source": [
    "sample = matrix(\"sample2.csv\")\n",
    "sample.printdf()"
   ]
  },
  {
   "cell_type": "code",
   "execution_count": 8,
   "metadata": {},
   "outputs": [
    {
     "data": {
      "text/plain": [
       "('uniform entry size for error assessment is',\n",
       " [0.6666666666666666, 1.0, 1.6666666666666667, 0.0],\n",
       " 'uniform entry size for change assessment is',\n",
       " [0.6666666666666666, 1.0, 0.6666666666666666, 1.0],\n",
       " 'uniform entry intensity for error assessment is',\n",
       " [0.11764705882352941,\n",
       "  0.21428571428571427,\n",
       "  0.16666666666666666,\n",
       "  0.17647058823529413],\n",
       " 'uniform entry intensity for change assessment is',\n",
       " [0.11764705882352941, 0.21428571428571427, 0.3333333333333333, 0.0])"
      ]
     },
     "execution_count": 8,
     "metadata": {},
     "output_type": "execute_result"
    }
   ],
   "source": [
    "sample = matrix(\"sample2.csv\")\n",
    "sample.ue()"
   ]
  },
  {
   "cell_type": "code",
   "execution_count": 13,
   "metadata": {},
   "outputs": [],
   "source": [
    "dfcopy2 = pd.read_csv('sample.csv', index_col = 0)\n",
    "#self.dfcopy = self.df.copy(deep = True)\n",
    "hits = []\n",
    "for i in range(len(dfcopy2.columns)):\n",
    "    hits.append(dfcopy2.iloc[i][i])\n",
    "mapsum = dfcopy2.sum(axis = 1).to_list()\n",
    "groundsum = dfcopy2.sum(axis = 0).to_list()  \n",
    "FA_values = [] \n",
    "MISS_values = []\n",
    "for i in range(len(dfcopy2.columns)):\n",
    "    FA_values.append(mapsum[i] - hits[i])\n",
    "    MISS_values.append(groundsum[i] - hits [i])\n",
    "FA_values.append(sum(FA_values))\n",
    "MISS_values.append(sum(MISS_values))\n",
    "MISS_values.append('//')\n",
    "dfcopy2['Sum_map'] = dfcopy2.sum(axis = 1)\n",
    "dfcopy2.loc['Sum_ground'] = dfcopy2.sum(axis=0)\n",
    "dfcopy2['False_Alarms'] = FA_values\n",
    "dfcopy2.loc['Misses'] = MISS_values"
   ]
  },
  {
   "cell_type": "code",
   "execution_count": 14,
   "metadata": {},
   "outputs": [
    {
     "data": {
      "text/html": [
       "<div>\n",
       "<style scoped>\n",
       "    .dataframe tbody tr th:only-of-type {\n",
       "        vertical-align: middle;\n",
       "    }\n",
       "\n",
       "    .dataframe tbody tr th {\n",
       "        vertical-align: top;\n",
       "    }\n",
       "\n",
       "    .dataframe thead th {\n",
       "        text-align: right;\n",
       "    }\n",
       "</style>\n",
       "<table border=\"1\" class=\"dataframe\">\n",
       "  <thead>\n",
       "    <tr style=\"text-align: right;\">\n",
       "      <th></th>\n",
       "      <th>Built</th>\n",
       "      <th>Barren</th>\n",
       "      <th>Forest</th>\n",
       "      <th>Water</th>\n",
       "      <th>Sum_map</th>\n",
       "      <th>False_Alarms</th>\n",
       "    </tr>\n",
       "  </thead>\n",
       "  <tbody>\n",
       "    <tr>\n",
       "      <th>Built</th>\n",
       "      <td>612</td>\n",
       "      <td>0</td>\n",
       "      <td>0</td>\n",
       "      <td>0</td>\n",
       "      <td>612</td>\n",
       "      <td>0</td>\n",
       "    </tr>\n",
       "    <tr>\n",
       "      <th>Barren</th>\n",
       "      <td>168</td>\n",
       "      <td>561</td>\n",
       "      <td>0</td>\n",
       "      <td>0</td>\n",
       "      <td>729</td>\n",
       "      <td>168</td>\n",
       "    </tr>\n",
       "    <tr>\n",
       "      <th>Forest</th>\n",
       "      <td>292</td>\n",
       "      <td>83</td>\n",
       "      <td>2197</td>\n",
       "      <td>0</td>\n",
       "      <td>2572</td>\n",
       "      <td>375</td>\n",
       "    </tr>\n",
       "    <tr>\n",
       "      <th>Water</th>\n",
       "      <td>0</td>\n",
       "      <td>0</td>\n",
       "      <td>0</td>\n",
       "      <td>183</td>\n",
       "      <td>183</td>\n",
       "      <td>0</td>\n",
       "    </tr>\n",
       "    <tr>\n",
       "      <th>Sum_ground</th>\n",
       "      <td>1072</td>\n",
       "      <td>644</td>\n",
       "      <td>2197</td>\n",
       "      <td>183</td>\n",
       "      <td>4096</td>\n",
       "      <td>543</td>\n",
       "    </tr>\n",
       "    <tr>\n",
       "      <th>Misses</th>\n",
       "      <td>460</td>\n",
       "      <td>83</td>\n",
       "      <td>0</td>\n",
       "      <td>0</td>\n",
       "      <td>543</td>\n",
       "      <td>//</td>\n",
       "    </tr>\n",
       "  </tbody>\n",
       "</table>\n",
       "</div>"
      ],
      "text/plain": [
       "            Built  Barren  Forest  Water  Sum_map False_Alarms\n",
       "Built         612       0       0      0      612            0\n",
       "Barren        168     561       0      0      729          168\n",
       "Forest        292      83    2197      0     2572          375\n",
       "Water           0       0       0    183      183            0\n",
       "Sum_ground   1072     644    2197    183     4096          543\n",
       "Misses        460      83       0      0      543           //"
      ]
     },
     "execution_count": 14,
     "metadata": {},
     "output_type": "execute_result"
    }
   ],
   "source": [
    "dfcopy2"
   ]
  },
  {
   "cell_type": "code",
   "execution_count": 15,
   "metadata": {},
   "outputs": [
    {
     "data": {
      "text/html": [
       "<div>\n",
       "<style scoped>\n",
       "    .dataframe tbody tr th:only-of-type {\n",
       "        vertical-align: middle;\n",
       "    }\n",
       "\n",
       "    .dataframe tbody tr th {\n",
       "        vertical-align: top;\n",
       "    }\n",
       "\n",
       "    .dataframe thead th {\n",
       "        text-align: right;\n",
       "    }\n",
       "</style>\n",
       "<table border=\"1\" class=\"dataframe\">\n",
       "  <thead>\n",
       "    <tr style=\"text-align: right;\">\n",
       "      <th></th>\n",
       "      <th>Built</th>\n",
       "      <th>Barren</th>\n",
       "      <th>Forest</th>\n",
       "      <th>Water</th>\n",
       "      <th>Sum_map</th>\n",
       "      <th>False_Alarms</th>\n",
       "    </tr>\n",
       "  </thead>\n",
       "  <tbody>\n",
       "    <tr>\n",
       "      <th>Built</th>\n",
       "      <td>612</td>\n",
       "      <td>0</td>\n",
       "      <td>0</td>\n",
       "      <td>0</td>\n",
       "      <td>612</td>\n",
       "      <td>0</td>\n",
       "    </tr>\n",
       "    <tr>\n",
       "      <th>Barren</th>\n",
       "      <td>168</td>\n",
       "      <td>561</td>\n",
       "      <td>0</td>\n",
       "      <td>0</td>\n",
       "      <td>729</td>\n",
       "      <td>168</td>\n",
       "    </tr>\n",
       "    <tr>\n",
       "      <th>Forest</th>\n",
       "      <td>292</td>\n",
       "      <td>83</td>\n",
       "      <td>2197</td>\n",
       "      <td>0</td>\n",
       "      <td>2572</td>\n",
       "      <td>375</td>\n",
       "    </tr>\n",
       "    <tr>\n",
       "      <th>Water</th>\n",
       "      <td>0</td>\n",
       "      <td>0</td>\n",
       "      <td>0</td>\n",
       "      <td>183</td>\n",
       "      <td>183</td>\n",
       "      <td>0</td>\n",
       "    </tr>\n",
       "    <tr>\n",
       "      <th>Sum_ground</th>\n",
       "      <td>1072</td>\n",
       "      <td>644</td>\n",
       "      <td>2197</td>\n",
       "      <td>183</td>\n",
       "      <td>4096</td>\n",
       "      <td>543</td>\n",
       "    </tr>\n",
       "    <tr>\n",
       "      <th>Misses</th>\n",
       "      <td>460</td>\n",
       "      <td>83</td>\n",
       "      <td>0</td>\n",
       "      <td>0</td>\n",
       "      <td>543</td>\n",
       "      <td>//</td>\n",
       "    </tr>\n",
       "  </tbody>\n",
       "</table>\n",
       "</div>"
      ],
      "text/plain": [
       "            Built  Barren  Forest  Water  Sum_map False_Alarms\n",
       "Built         612       0       0      0      612            0\n",
       "Barren        168     561       0      0      729          168\n",
       "Forest        292      83    2197      0     2572          375\n",
       "Water           0       0       0    183      183            0\n",
       "Sum_ground   1072     644    2197    183     4096          543\n",
       "Misses        460      83       0      0      543           //"
      ]
     },
     "execution_count": 15,
     "metadata": {},
     "output_type": "execute_result"
    }
   ],
   "source": [
    "sample.df_fams()"
   ]
  },
  {
   "cell_type": "code",
   "execution_count": null,
   "metadata": {},
   "outputs": [],
   "source": []
  },
  {
   "cell_type": "code",
   "execution_count": 63,
   "metadata": {},
   "outputs": [
    {
     "data": {
      "text/html": [
       "<div>\n",
       "<style scoped>\n",
       "    .dataframe tbody tr th:only-of-type {\n",
       "        vertical-align: middle;\n",
       "    }\n",
       "\n",
       "    .dataframe tbody tr th {\n",
       "        vertical-align: top;\n",
       "    }\n",
       "\n",
       "    .dataframe thead th {\n",
       "        text-align: right;\n",
       "    }\n",
       "</style>\n",
       "<table border=\"1\" class=\"dataframe\">\n",
       "  <thead>\n",
       "    <tr style=\"text-align: right;\">\n",
       "      <th></th>\n",
       "      <th>Built</th>\n",
       "      <th>Barren</th>\n",
       "      <th>Forest</th>\n",
       "      <th>Water</th>\n",
       "    </tr>\n",
       "  </thead>\n",
       "  <tbody>\n",
       "    <tr>\n",
       "      <th>Built</th>\n",
       "      <td>612</td>\n",
       "      <td>0</td>\n",
       "      <td>0</td>\n",
       "      <td>0</td>\n",
       "    </tr>\n",
       "    <tr>\n",
       "      <th>Barren</th>\n",
       "      <td>168</td>\n",
       "      <td>561</td>\n",
       "      <td>0</td>\n",
       "      <td>0</td>\n",
       "    </tr>\n",
       "    <tr>\n",
       "      <th>Forest</th>\n",
       "      <td>292</td>\n",
       "      <td>83</td>\n",
       "      <td>2197</td>\n",
       "      <td>0</td>\n",
       "    </tr>\n",
       "    <tr>\n",
       "      <th>Water</th>\n",
       "      <td>0</td>\n",
       "      <td>0</td>\n",
       "      <td>0</td>\n",
       "      <td>183</td>\n",
       "    </tr>\n",
       "  </tbody>\n",
       "</table>\n",
       "</div>"
      ],
      "text/plain": [
       "        Built  Barren  Forest  Water\n",
       "Built     612       0       0      0\n",
       "Barren    168     561       0      0\n",
       "Forest    292      83    2197      0\n",
       "Water       0       0       0    183"
      ]
     },
     "execution_count": 63,
     "metadata": {},
     "output_type": "execute_result"
    }
   ],
   "source": [
    "df3 = pd.read_csv('sample.csv', index_col = 0)\n",
    "df3"
   ]
  },
  {
   "cell_type": "code",
   "execution_count": 64,
   "metadata": {},
   "outputs": [],
   "source": [
    "df3 = pd.read_csv('sample.csv', index_col = 0)\n",
    "FA_pure = FA_values[:-1]\n",
    "Miss_pure = MISS_values[:-2]\n",
    "ue_size_error_col = []\n",
    "ue_size_change_row = []\n",
    "for i in range(len(FA_pure)):\n",
    "    ue_size_error_col.append(MISS_values[i] / (len(FA_pure)-1))\n",
    "    ue_size_change_row.append(FA_values[i] / (len(FA_pure)-1))\n",
    "    \n",
    "ue_intensity_error_row = []\n",
    "ue_intensity_change_column = []\n",
    "for i in range(len(FA_pure)):\n",
    "    ue_intensity_error_row.append(FA_pure[i] / (sum(FA_pure)-FA_pure[i]))\n",
    "    ue_intensity_change_column.append(Miss_pure[i] / (sum(Miss_pure)-Miss_pure[i]))"
   ]
  },
  {
   "cell_type": "code",
   "execution_count": 65,
   "metadata": {},
   "outputs": [
    {
     "data": {
      "text/plain": [
       "[153.33333333333334, 27.666666666666668, 0.0, 0.0]"
      ]
     },
     "execution_count": 65,
     "metadata": {},
     "output_type": "execute_result"
    }
   ],
   "source": [
    "ue_size_error_col"
   ]
  },
  {
   "cell_type": "code",
   "execution_count": 66,
   "metadata": {},
   "outputs": [
    {
     "data": {
      "text/plain": [
       "[0.0, 56.0, 125.0, 0.0]"
      ]
     },
     "execution_count": 66,
     "metadata": {},
     "output_type": "execute_result"
    }
   ],
   "source": [
    "ue_size_change_row"
   ]
  },
  {
   "cell_type": "code",
   "execution_count": 69,
   "metadata": {},
   "outputs": [
    {
     "data": {
      "text/plain": [
       "[0.0, 0.448, 2.232142857142857, 0.0]"
      ]
     },
     "execution_count": 69,
     "metadata": {},
     "output_type": "execute_result"
    }
   ],
   "source": [
    "ue_intensity_error_row"
   ]
  },
  {
   "cell_type": "code",
   "execution_count": 70,
   "metadata": {},
   "outputs": [
    {
     "data": {
      "text/plain": [
       "[5.542168674698795, 0.18043478260869567, 0.0, 0.0]"
      ]
     },
     "execution_count": 70,
     "metadata": {},
     "output_type": "execute_result"
    }
   ],
   "source": [
    "ue_intensity_change_column"
   ]
  },
  {
   "cell_type": "code",
   "execution_count": null,
   "metadata": {},
   "outputs": [],
   "source": []
  }
 ],
 "metadata": {
  "kernelspec": {
   "display_name": "Python 3",
   "language": "python",
   "name": "python3"
  },
  "language_info": {
   "codemirror_mode": {
    "name": "ipython",
    "version": 3
   },
   "file_extension": ".py",
   "mimetype": "text/x-python",
   "name": "python",
   "nbconvert_exporter": "python",
   "pygments_lexer": "ipython3",
   "version": "3.8.3"
  }
 },
 "nbformat": 4,
 "nbformat_minor": 4
}
