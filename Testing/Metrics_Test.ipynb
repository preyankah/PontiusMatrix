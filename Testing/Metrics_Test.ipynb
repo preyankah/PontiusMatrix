{
 "cells": [
  {
   "cell_type": "code",
   "execution_count": 1,
   "metadata": {},
   "outputs": [
    {
     "name": "stdout",
     "output_type": "stream",
     "text": [
      "Looking in indexes: https://test.pypi.org/simple/\n",
      "Collecting pontiPy==2.6\n",
      "  Downloading https://test-files.pythonhosted.org/packages/68/61/3ae4a8e1dc2724208521c46ea61a301a381fdf3149fa0b3129886ba3938f/pontiPy-2.6-py3-none-any.whl (7.5 kB)\n",
      "Requirement already satisfied: pandas in c:\\users\\prverma\\anaconda3\\lib\\site-packages (from pontiPy==2.6) (1.0.5)\n",
      "Requirement already satisfied: python-dateutil>=2.6.1 in c:\\users\\prverma\\anaconda3\\lib\\site-packages (from pandas->pontiPy==2.6) (2.8.1)\n",
      "Requirement already satisfied: pytz>=2017.2 in c:\\users\\prverma\\anaconda3\\lib\\site-packages (from pandas->pontiPy==2.6) (2020.1)\n",
      "Requirement already satisfied: numpy>=1.13.3 in c:\\users\\prverma\\anaconda3\\lib\\site-packages (from pandas->pontiPy==2.6) (1.18.5)\n",
      "Requirement already satisfied: six>=1.5 in c:\\users\\prverma\\anaconda3\\lib\\site-packages (from python-dateutil>=2.6.1->pandas->pontiPy==2.6) (1.15.0)\n",
      "Installing collected packages: pontiPy\n",
      "  Attempting uninstall: pontiPy\n",
      "    Found existing installation: pontiPy 2.5\n",
      "    Uninstalling pontiPy-2.5:\n",
      "      Successfully uninstalled pontiPy-2.5\n",
      "Successfully installed pontiPy-2.6\n",
      "Note: you may need to restart the kernel to use updated packages.\n"
     ]
    }
   ],
   "source": [
    "# pip install -i https://test.pypi.org/simple/ pontiPy==2.6"
   ]
  },
  {
   "cell_type": "code",
   "execution_count": 1,
   "metadata": {},
   "outputs": [],
   "source": [
    "from pontiPy import *\n",
    "import pandas as pd"
   ]
  },
  {
   "cell_type": "code",
   "execution_count": 2,
   "metadata": {},
   "outputs": [],
   "source": [
    "df = pd.read_csv(\"test.csv\", index_col=0)"
   ]
  },
  {
   "cell_type": "code",
   "execution_count": 3,
   "metadata": {
    "scrolled": true
   },
   "outputs": [
    {
     "data": {
      "text/html": [
       "<div>\n",
       "<style scoped>\n",
       "    .dataframe tbody tr th:only-of-type {\n",
       "        vertical-align: middle;\n",
       "    }\n",
       "\n",
       "    .dataframe tbody tr th {\n",
       "        vertical-align: top;\n",
       "    }\n",
       "\n",
       "    .dataframe thead th {\n",
       "        text-align: right;\n",
       "    }\n",
       "</style>\n",
       "<table border=\"1\" class=\"dataframe\">\n",
       "  <thead>\n",
       "    <tr style=\"text-align: right;\">\n",
       "      <th></th>\n",
       "      <th>1</th>\n",
       "      <th>2</th>\n",
       "      <th>3</th>\n",
       "      <th>4</th>\n",
       "    </tr>\n",
       "  </thead>\n",
       "  <tbody>\n",
       "    <tr>\n",
       "      <th>Row 1</th>\n",
       "      <td>1</td>\n",
       "      <td>0</td>\n",
       "      <td>2</td>\n",
       "      <td>0</td>\n",
       "    </tr>\n",
       "    <tr>\n",
       "      <th>Row 2</th>\n",
       "      <td>0</td>\n",
       "      <td>3</td>\n",
       "      <td>3</td>\n",
       "      <td>0</td>\n",
       "    </tr>\n",
       "    <tr>\n",
       "      <th>Row 3</th>\n",
       "      <td>2</td>\n",
       "      <td>0</td>\n",
       "      <td>3</td>\n",
       "      <td>0</td>\n",
       "    </tr>\n",
       "    <tr>\n",
       "      <th>Row 4</th>\n",
       "      <td>0</td>\n",
       "      <td>3</td>\n",
       "      <td>0</td>\n",
       "      <td>3</td>\n",
       "    </tr>\n",
       "  </tbody>\n",
       "</table>\n",
       "</div>"
      ],
      "text/plain": [
       "       1  2  3  4\n",
       "Row 1  1  0  2  0\n",
       "Row 2  0  3  3  0\n",
       "Row 3  2  0  3  0\n",
       "Row 4  0  3  0  3"
      ]
     },
     "metadata": {},
     "output_type": "display_data"
    }
   ],
   "source": [
    "display(df)"
   ]
  },
  {
   "cell_type": "code",
   "execution_count": 4,
   "metadata": {},
   "outputs": [],
   "source": [
    "test = pontiPy(df)"
   ]
  },
  {
   "cell_type": "code",
   "execution_count": 5,
   "metadata": {
    "scrolled": true
   },
   "outputs": [
    {
     "data": {
      "text/html": [
       "<div>\n",
       "<style scoped>\n",
       "    .dataframe tbody tr th:only-of-type {\n",
       "        vertical-align: middle;\n",
       "    }\n",
       "\n",
       "    .dataframe tbody tr th {\n",
       "        vertical-align: top;\n",
       "    }\n",
       "\n",
       "    .dataframe thead th {\n",
       "        text-align: right;\n",
       "    }\n",
       "</style>\n",
       "<table border=\"1\" class=\"dataframe\">\n",
       "  <thead>\n",
       "    <tr style=\"text-align: right;\">\n",
       "      <th></th>\n",
       "      <th>1</th>\n",
       "      <th>2</th>\n",
       "      <th>3</th>\n",
       "      <th>4</th>\n",
       "      <th>Sum</th>\n",
       "      <th>Row Disagreement</th>\n",
       "    </tr>\n",
       "  </thead>\n",
       "  <tbody>\n",
       "    <tr>\n",
       "      <th>Row 1</th>\n",
       "      <td>1</td>\n",
       "      <td>0</td>\n",
       "      <td>2</td>\n",
       "      <td>0</td>\n",
       "      <td>3</td>\n",
       "      <td>2</td>\n",
       "    </tr>\n",
       "    <tr>\n",
       "      <th>Row 2</th>\n",
       "      <td>0</td>\n",
       "      <td>3</td>\n",
       "      <td>3</td>\n",
       "      <td>0</td>\n",
       "      <td>6</td>\n",
       "      <td>3</td>\n",
       "    </tr>\n",
       "    <tr>\n",
       "      <th>Row 3</th>\n",
       "      <td>2</td>\n",
       "      <td>0</td>\n",
       "      <td>3</td>\n",
       "      <td>0</td>\n",
       "      <td>5</td>\n",
       "      <td>2</td>\n",
       "    </tr>\n",
       "    <tr>\n",
       "      <th>Row 4</th>\n",
       "      <td>0</td>\n",
       "      <td>3</td>\n",
       "      <td>0</td>\n",
       "      <td>3</td>\n",
       "      <td>6</td>\n",
       "      <td>3</td>\n",
       "    </tr>\n",
       "    <tr>\n",
       "      <th>Sum</th>\n",
       "      <td>3</td>\n",
       "      <td>6</td>\n",
       "      <td>8</td>\n",
       "      <td>3</td>\n",
       "      <td>20</td>\n",
       "      <td>10</td>\n",
       "    </tr>\n",
       "    <tr>\n",
       "      <th>Column Disagreement</th>\n",
       "      <td>2</td>\n",
       "      <td>3</td>\n",
       "      <td>5</td>\n",
       "      <td>0</td>\n",
       "      <td>10</td>\n",
       "      <td></td>\n",
       "    </tr>\n",
       "  </tbody>\n",
       "</table>\n",
       "</div>"
      ],
      "text/plain": [
       "                     1  2  3  4  Sum Row Disagreement\n",
       "Row 1                1  0  2  0    3                2\n",
       "Row 2                0  3  3  0    6                3\n",
       "Row 3                2  0  3  0    5                2\n",
       "Row 4                0  3  0  3    6                3\n",
       "Sum                  3  6  8  3   20               10\n",
       "Column Disagreement  2  3  5  0   10                 "
      ]
     },
     "execution_count": 5,
     "metadata": {},
     "output_type": "execute_result"
    }
   ],
   "source": [
    "test.matrix()"
   ]
  },
  {
   "cell_type": "code",
   "execution_count": 7,
   "metadata": {},
   "outputs": [
    {
     "name": "stdout",
     "output_type": "stream",
     "text": [
      "Shift: 3\n"
     ]
    }
   ],
   "source": [
    "print(\"Shift:\", test.shift())"
   ]
  },
  {
   "cell_type": "markdown",
   "metadata": {},
   "source": [
    "### Stratum Test"
   ]
  },
  {
   "cell_type": "code",
   "execution_count": 6,
   "metadata": {},
   "outputs": [],
   "source": [
    "ob = pontiPy(df, stratum=[6666, 2114, 11111, 1998])"
   ]
  },
  {
   "cell_type": "code",
   "execution_count": 9,
   "metadata": {},
   "outputs": [
    {
     "data": {
      "text/plain": [
       "10944.400000000001"
      ]
     },
     "execution_count": 9,
     "metadata": {},
     "output_type": "execute_result"
    }
   ],
   "source": [
    "ob.matrix()\n",
    "ob.row_disagreement()"
   ]
  },
  {
   "cell_type": "markdown",
   "metadata": {},
   "source": [
    "### Uniform Intensity for Neither"
   ]
  },
  {
   "cell_type": "code",
   "execution_count": 12,
   "metadata": {},
   "outputs": [
    {
     "name": "stdout",
     "output_type": "stream",
     "text": [
      "Uniform Intensity: [0.11764705882352941, 0.21428571428571427, 0.3333333333333333, 0.0]\n"
     ]
    }
   ],
   "source": [
    "ob = pontiPy(df)\n",
    "# print(ob.dataframe)\n",
    "print(\"Uniform Intensity:\", ob.uniformintensity('y'))"
   ]
  },
  {
   "cell_type": "markdown",
   "metadata": {},
   "source": [
    "### Uniform Size and Intensity for Change"
   ]
  },
  {
   "cell_type": "code",
   "execution_count": 14,
   "metadata": {},
   "outputs": [
    {
     "name": "stdout",
     "output_type": "stream",
     "text": [
      "Uniform Intensity: [0.11764705882352941, 0.21428571428571427, 0.3333333333333333, 0.0]\n",
      "Uniform Size: [0.6666666666666666, 1.0, 0.6666666666666666, 1.0]\n",
      "Uniform Size for Category 4: 0.6666666666666666\n"
     ]
    }
   ],
   "source": [
    "ob = pontiPy_Change(df)\n",
    "# print(ob.dataframe)\n",
    "print(\"Uniform Intensity:\", ob.uniformintensity_change())\n",
    "print(\"Uniform Size:\",ob.uniformsize())\n",
    "print(\"Uniform Size for Category 4:\",ob.uniformsize(0))"
   ]
  },
  {
   "cell_type": "markdown",
   "metadata": {},
   "source": [
    "### Uniform Size and Intensity for Error"
   ]
  },
  {
   "cell_type": "code",
   "execution_count": 15,
   "metadata": {},
   "outputs": [
    {
     "name": "stdout",
     "output_type": "stream",
     "text": [
      "Uniform Intensity: [0.11764705882352941, 0.21428571428571427, 0.16666666666666666, 0.17647058823529413]\n",
      "Uniform Size: [0.6666666666666666, 1.0, 1.6666666666666667, 0.0]\n",
      "Uniform Size for Category 4: 0.0\n"
     ]
    }
   ],
   "source": [
    "ob = pontiPy_Error(df)\n",
    "# print(ob.dataframe)\n",
    "print(\"Uniform Intensity:\", ob.uniformintensity_error())\n",
    "print(\"Uniform Size:\",ob.uniformsize())\n",
    "print(\"Uniform Size for Category 4:\",ob.uniformsize(3))"
   ]
  },
  {
   "cell_type": "markdown",
   "metadata": {},
   "source": [
    "## Testing Parent Class (Neither)"
   ]
  },
  {
   "cell_type": "code",
   "execution_count": null,
   "metadata": {},
   "outputs": [],
   "source": [
    "coast_95_20_neither = pontiPy(df)"
   ]
  },
  {
   "cell_type": "code",
   "execution_count": null,
   "metadata": {},
   "outputs": [],
   "source": [
    "print(\"Miss:\", coast_95_20_neither.column_disagreement())\n",
    "print(\"Exchange for Category 2:\", coast_95_20_neither.exchange(2, Total = True))\n",
    "print(\"Total Size:\", coast_95_20_neither.size())\n",
    "print(\"Shift:\", coast_95_20_neither.shift())\n",
    "print(\"Total Difference:\", coast_95_20_neither.difference())\n",
    "print(\"Difference for Category 2:\", coast_95_20_neither.difference(2))"
   ]
  },
  {
   "cell_type": "code",
   "execution_count": null,
   "metadata": {},
   "outputs": [],
   "source": [
    "print(\"Exchange for Category 2:\", coast_95_20_neither.exchange(2, Total = True))\n",
    "print(coast_95_20_neither.exchange(0))\n",
    "print(coast_95_20_neither.exchange(1))\n",
    "print(coast_95_20_neither.exchange(2))\n",
    "print(coast_95_20_neither.exchange(3))\n",
    "print(coast_95_20_neither.exchange(2, 0))"
   ]
  },
  {
   "cell_type": "code",
   "execution_count": null,
   "metadata": {},
   "outputs": [],
   "source": [
    "print(\"Total Size:\", coast_95_20_neither.size())\n",
    "print(coast_95_20_neither.size(0))\n",
    "print(coast_95_20_neither.size(1))\n",
    "print(coast_95_20_neither.size(2))\n",
    "print(coast_95_20_neither.size(3))"
   ]
  },
  {
   "cell_type": "code",
   "execution_count": null,
   "metadata": {},
   "outputs": [],
   "source": [
    "print(\"Shift:\", coast_95_20_neither.shift())"
   ]
  },
  {
   "cell_type": "code",
   "execution_count": null,
   "metadata": {},
   "outputs": [],
   "source": [
    "print(\"Total Difference:\", coast_95_20_neither.difference())\n",
    "print(\"Difference for Category 2:\", coast_95_20_neither.difference(2))"
   ]
  },
  {
   "cell_type": "code",
   "execution_count": null,
   "metadata": {},
   "outputs": [],
   "source": [
    "print(coast_95_20_neither.quantity(0, label = True))"
   ]
  },
  {
   "cell_type": "code",
   "execution_count": null,
   "metadata": {},
   "outputs": [],
   "source": [
    "coast_95_20_neither.matrix()"
   ]
  },
  {
   "cell_type": "code",
   "execution_count": null,
   "metadata": {},
   "outputs": [],
   "source": [
    "coast_95_20_neither.dataframe"
   ]
  },
  {
   "cell_type": "markdown",
   "metadata": {},
   "source": [
    "## Testing Change Subclass"
   ]
  },
  {
   "cell_type": "code",
   "execution_count": null,
   "metadata": {},
   "outputs": [],
   "source": [
    "coast_95_20_change = pontiPy_Change(df)"
   ]
  },
  {
   "cell_type": "code",
   "execution_count": null,
   "metadata": {},
   "outputs": [],
   "source": [
    "# Functions available: Will return the same value\n",
    "print(coast_95_20_change.gain())\n",
    "print(coast_95_20_change.column_disagreement())"
   ]
  },
  {
   "cell_type": "code",
   "execution_count": null,
   "metadata": {},
   "outputs": [],
   "source": [
    "# Functions available: Will return the same value\n",
    "print(coast_95_20_change.loss())\n",
    "# OR\n",
    "print(coast_95_20_change.row_disagreement())"
   ]
  },
  {
   "cell_type": "code",
   "execution_count": null,
   "metadata": {},
   "outputs": [],
   "source": [
    "# Functions available: Will return the same value\n",
    "print(coast_95_20_change.persistence())\n",
    "# OR\n",
    "print(coast_95_20_change.agreement())"
   ]
  },
  {
   "cell_type": "code",
   "execution_count": null,
   "metadata": {},
   "outputs": [],
   "source": [
    "print(\"Exchange for Category 2:\", coast_95_20_change.exchange(2, Total = True))"
   ]
  },
  {
   "cell_type": "code",
   "execution_count": null,
   "metadata": {},
   "outputs": [],
   "source": [
    "print(\"Total Size:\", coast_95_20_change.size())"
   ]
  },
  {
   "cell_type": "code",
   "execution_count": null,
   "metadata": {},
   "outputs": [],
   "source": [
    "print(\"Shift:\", coast_95_20_change.shift())"
   ]
  },
  {
   "cell_type": "code",
   "execution_count": null,
   "metadata": {},
   "outputs": [],
   "source": [
    "print(coast_95_20_change.quantity(0, label = True))"
   ]
  },
  {
   "cell_type": "code",
   "execution_count": null,
   "metadata": {},
   "outputs": [],
   "source": [
    "coast_95_20_change.matrix()"
   ]
  },
  {
   "cell_type": "markdown",
   "metadata": {},
   "source": [
    "## Testing Error Subclass"
   ]
  },
  {
   "cell_type": "code",
   "execution_count": null,
   "metadata": {},
   "outputs": [],
   "source": [
    "coast_95_20_error = pontiPy_Error(df)"
   ]
  },
  {
   "cell_type": "code",
   "execution_count": null,
   "metadata": {},
   "outputs": [],
   "source": [
    "# Functions available: Will return the same value\n",
    "print(coast_95_20_error.miss())\n",
    "print(coast_95_20_error.column_disagreement())\n",
    "# OR\n",
    "print(coast_95_20_error.miss(1))\n",
    "print(coast_95_20_error.column_disagreement(1))"
   ]
  },
  {
   "cell_type": "code",
   "execution_count": null,
   "metadata": {},
   "outputs": [],
   "source": [
    "# Functions available: Will return the same value\n",
    "print(coast_95_20_error.false_alarm())\n",
    "print(coast_95_20_error.row_disagreement())\n",
    "# OR\n",
    "print(coast_95_20_error.false_alarm(1))\n",
    "print(coast_95_20_error.row_disagreement(1))"
   ]
  },
  {
   "cell_type": "code",
   "execution_count": null,
   "metadata": {},
   "outputs": [],
   "source": [
    "# Functions available: Will return the same value\n",
    "print(coast_95_20_error.hit())\n",
    "print(coast_95_20_error.agreement())\n",
    "# OR\n",
    "print(coast_95_20_error.hit(1))\n",
    "print(coast_95_20_error.agreement(1))"
   ]
  },
  {
   "cell_type": "code",
   "execution_count": null,
   "metadata": {},
   "outputs": [],
   "source": [
    "print(\"Exchange for Category 2:\", coast_95_20_error.exchange(2, Total = True))"
   ]
  },
  {
   "cell_type": "code",
   "execution_count": null,
   "metadata": {},
   "outputs": [],
   "source": [
    "print(\"Total Size:\", coast_95_20_error.size())"
   ]
  },
  {
   "cell_type": "code",
   "execution_count": null,
   "metadata": {},
   "outputs": [],
   "source": [
    "print(\"Shift:\", coast_95_20_error.shift())"
   ]
  },
  {
   "cell_type": "code",
   "execution_count": null,
   "metadata": {},
   "outputs": [],
   "source": [
    "print(coast_95_20_error.quantity(0, label = True))"
   ]
  },
  {
   "cell_type": "code",
   "execution_count": null,
   "metadata": {},
   "outputs": [],
   "source": [
    "coast_95_20_error.matrix()"
   ]
  },
  {
   "cell_type": "code",
   "execution_count": null,
   "metadata": {},
   "outputs": [],
   "source": [
    "test.dataframe"
   ]
  },
  {
   "cell_type": "markdown",
   "metadata": {},
   "source": [
    "# Testing Plots"
   ]
  },
  {
   "cell_type": "code",
   "execution_count": null,
   "metadata": {},
   "outputs": [],
   "source": [
    "test.entrySize()"
   ]
  },
  {
   "cell_type": "code",
   "execution_count": null,
   "metadata": {},
   "outputs": [],
   "source": [
    "# coast_95_20_error.entrySize()"
   ]
  },
  {
   "cell_type": "code",
   "execution_count": null,
   "metadata": {},
   "outputs": [],
   "source": [
    "# coast_95_20_change.entrySize()"
   ]
  }
 ],
 "metadata": {
  "kernelspec": {
   "display_name": "Python 3",
   "language": "python",
   "name": "python3"
  },
  "language_info": {
   "codemirror_mode": {
    "name": "ipython",
    "version": 3
   },
   "file_extension": ".py",
   "mimetype": "text/x-python",
   "name": "python",
   "nbconvert_exporter": "python",
   "pygments_lexer": "ipython3",
   "version": "3.8.3"
  }
 },
 "nbformat": 4,
 "nbformat_minor": 4
}
