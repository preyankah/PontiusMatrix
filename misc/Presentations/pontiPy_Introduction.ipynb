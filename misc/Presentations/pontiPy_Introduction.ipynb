{
 "cells": [
  {
   "cell_type": "markdown",
   "metadata": {},
   "source": [
    "![Raster Images ](images/slide-01.png \"Raster Images\")\n",
    "-----"
   ]
  },
  {
   "cell_type": "markdown",
   "metadata": {},
   "source": [
    "-----"
   ]
  },
  {
   "cell_type": "markdown",
   "metadata": {},
   "source": [
    "![Raster Images ](images/slide-02.png \"Raster Images\")\n",
    "-----"
   ]
  },
  {
   "cell_type": "markdown",
   "metadata": {},
   "source": [
    "-----"
   ]
  },
  {
   "cell_type": "markdown",
   "metadata": {},
   "source": [
    "![Raster Images ](images/slide-03.png \"Raster Images\")\n",
    "-----"
   ]
  },
  {
   "cell_type": "markdown",
   "metadata": {},
   "source": [
    "-----"
   ]
  },
  {
   "cell_type": "markdown",
   "metadata": {},
   "source": [
    "<center> <span style=\"font-family:Arial Rounded MT; font-size:3em; color:#FFCD3F\">Process</span> </center> "
   ]
  },
  {
   "cell_type": "markdown",
   "metadata": {},
   "source": [
    "<span style=\"font-family:Arial Rounded MT; font-size:2em; color:#538EBB\">Input</span>"
   ]
  },
  {
   "cell_type": "markdown",
   "metadata": {},
   "source": [
    "![Raster Images ](images/raster.png \"Raster Images\")\n",
    "\n",
    "<br>\n",
    "\n",
    "\n",
    "<center> <span style=\"font-family:Arial Rounded MT; font-size:1em; color:#538EBB\">Raster Images from 1971 and 1985</span> </center>"
   ]
  },
  {
   "cell_type": "markdown",
   "metadata": {},
   "source": [
    "-----"
   ]
  },
  {
   "cell_type": "markdown",
   "metadata": {},
   "source": [
    "<span style=\"font-family:Arial Rounded MT; font-size:2em; color:#538EBB\">Library Imports</span>"
   ]
  },
  {
   "cell_type": "code",
   "execution_count": 38,
   "metadata": {},
   "outputs": [],
   "source": [
    "import numpy as np\n",
    "import pandas as pd"
   ]
  },
  {
   "cell_type": "markdown",
   "metadata": {},
   "source": [
    "<span style=\"font-family:Arial Rounded MT; font-size:2em; color:#538EBB\">Contingency Matrix</span>"
   ]
  },
  {
   "cell_type": "code",
   "execution_count": 39,
   "metadata": {},
   "outputs": [
    {
     "data": {
      "text/html": [
       "<div>\n",
       "<style scoped>\n",
       "    .dataframe tbody tr th:only-of-type {\n",
       "        vertical-align: middle;\n",
       "    }\n",
       "\n",
       "    .dataframe tbody tr th {\n",
       "        vertical-align: top;\n",
       "    }\n",
       "\n",
       "    .dataframe thead th {\n",
       "        text-align: right;\n",
       "    }\n",
       "</style>\n",
       "<table border=\"1\" class=\"dataframe\">\n",
       "  <thead>\n",
       "    <tr style=\"text-align: right;\">\n",
       "      <th></th>\n",
       "      <th>Built</th>\n",
       "      <th>Barren</th>\n",
       "      <th>Forest</th>\n",
       "      <th>Water</th>\n",
       "    </tr>\n",
       "  </thead>\n",
       "  <tbody>\n",
       "    <tr>\n",
       "      <th>Built</th>\n",
       "      <td>612</td>\n",
       "      <td>0</td>\n",
       "      <td>0</td>\n",
       "      <td>0</td>\n",
       "    </tr>\n",
       "    <tr>\n",
       "      <th>Barren</th>\n",
       "      <td>168</td>\n",
       "      <td>561</td>\n",
       "      <td>0</td>\n",
       "      <td>0</td>\n",
       "    </tr>\n",
       "    <tr>\n",
       "      <th>Forest</th>\n",
       "      <td>292</td>\n",
       "      <td>83</td>\n",
       "      <td>2197</td>\n",
       "      <td>0</td>\n",
       "    </tr>\n",
       "    <tr>\n",
       "      <th>Water</th>\n",
       "      <td>0</td>\n",
       "      <td>0</td>\n",
       "      <td>0</td>\n",
       "      <td>183</td>\n",
       "    </tr>\n",
       "  </tbody>\n",
       "</table>\n",
       "</div>"
      ],
      "text/plain": [
       "        Built  Barren  Forest  Water\n",
       "Built     612       0       0      0\n",
       "Barren    168     561       0      0\n",
       "Forest    292      83    2197      0\n",
       "Water       0       0       0    183"
      ]
     },
     "metadata": {},
     "output_type": "display_data"
    }
   ],
   "source": [
    "df = pd.read_csv('sample.csv', index_col= 0)\n",
    "display(df)"
   ]
  },
  {
   "cell_type": "markdown",
   "metadata": {},
   "source": [
    "<span style=\"font-family:Arial Rounded MT; font-size:2em; color:#538EBB\">Translating Logic</span>"
   ]
  },
  {
   "cell_type": "code",
   "execution_count": null,
   "metadata": {},
   "outputs": [],
   "source": [
    "# false alarm quantity\n",
    "def false_alarm_quantity(data):\n",
    "    false_alarm_quantity_np = np.zeros(shape = (1, len(data)))\n",
    "    for i in range(0, len(data)):\n",
    "        false_alarm_quantity_np[0,i] = np.max((0, (false_alarms(data)[0,i] - misses(data)[0,i])))\n",
    "    return(false_alarm_quantity_np)"
   ]
  },
  {
   "cell_type": "code",
   "execution_count": null,
   "metadata": {},
   "outputs": [],
   "source": [
    "# misss quantity\n",
    "def miss_quantity(data):\n",
    "    miss_quantity_np = np.zeros(shape = (1, len(data)))\n",
    "    for i in range(0, len(data)):\n",
    "        miss_quantity_np[0,i] = np.max((0, (misses(data)[0,i] - false_alarms(data)[0, i])))\n",
    "    return(miss_quantity_np)"
   ]
  },
  {
   "cell_type": "code",
   "execution_count": null,
   "metadata": {},
   "outputs": [],
   "source": [
    "# Quantity difference/disagreement for k (Dqk):\n",
    "def size_of_quantity_difference(data):\n",
    "    size_of_quantity_difference_np = abs(misses(data) - false_alarms(data))\n",
    "    return(size_of_quantity_difference_np)"
   ]
  },
  {
   "cell_type": "code",
   "execution_count": null,
   "metadata": {},
   "outputs": [],
   "source": [
    "# extent of contingency table (total pixel count)\n",
    "def extent(data):\n",
    "    return(np.sum(data))"
   ]
  },
  {
   "cell_type": "code",
   "execution_count": null,
   "metadata": {},
   "outputs": [],
   "source": [
    "#find column sums\n",
    "def column_totals(data):\n",
    "    column_totals_np = np.zeros(shape=(1, len(data)))\n",
    "    for i in range(0, len(data)):\n",
    "        column_totals_np[0,i] = np.sum((data[:,i]))\n",
    "    return(column_totals_np)"
   ]
  },
  {
   "cell_type": "code",
   "execution_count": null,
   "metadata": {},
   "outputs": [],
   "source": [
    "# find row totals:\n",
    "def row_totals(data):\n",
    "    row_totals_np = np.zeros(shape=(1, len(data)))\n",
    "    for i in range(0, len(data)):\n",
    "        row_totals_np[0,i] = np.sum((data[i,:]))\n",
    "    return(row_totals_np)"
   ]
  },
  {
   "cell_type": "markdown",
   "metadata": {},
   "source": [
    "-----"
   ]
  },
  {
   "cell_type": "markdown",
   "metadata": {},
   "source": [
    "![ ](images/slide4.png \"\")\n",
    "-----"
   ]
  },
  {
   "cell_type": "markdown",
   "metadata": {},
   "source": [
    "-----\n",
    "![Raster Images ](images/hellopontipy.png \"Raster Images\")\n",
    "\n",
    "-----"
   ]
  },
  {
   "cell_type": "code",
   "execution_count": null,
   "metadata": {},
   "outputs": [],
   "source": [
    "!pip install -i https://test.pypi.org/simple/ testpontipy2"
   ]
  },
  {
   "cell_type": "code",
   "execution_count": 40,
   "metadata": {},
   "outputs": [],
   "source": [
    "from testpontipy2 import testpontipy2"
   ]
  },
  {
   "cell_type": "markdown",
   "metadata": {},
   "source": [
    "<center> <span style=\"font-family:Arial Rounded MT; font-size:3em; color:#FFCD3F\">Functions</span> </center>"
   ]
  },
  {
   "cell_type": "markdown",
   "metadata": {},
   "source": [
    "<span style=\"font-family:Arial Rounded MT; font-size:2em; color:#538EBB\">Class Object</span>"
   ]
  },
  {
   "cell_type": "code",
   "execution_count": 41,
   "metadata": {},
   "outputs": [],
   "source": [
    "pd_table_func = testpontipy2(df)"
   ]
  },
  {
   "cell_type": "markdown",
   "metadata": {},
   "source": [
    "<span style=\"font-family:Arial Rounded MT; font-size:2em; color:#538EBB\">Contingency Table</span>"
   ]
  },
  {
   "cell_type": "code",
   "execution_count": 42,
   "metadata": {},
   "outputs": [
    {
     "data": {
      "text/html": [
       "<div>\n",
       "<style scoped>\n",
       "    .dataframe tbody tr th:only-of-type {\n",
       "        vertical-align: middle;\n",
       "    }\n",
       "\n",
       "    .dataframe tbody tr th {\n",
       "        vertical-align: top;\n",
       "    }\n",
       "\n",
       "    .dataframe thead th {\n",
       "        text-align: right;\n",
       "    }\n",
       "</style>\n",
       "<table border=\"1\" class=\"dataframe\">\n",
       "  <thead>\n",
       "    <tr style=\"text-align: right;\">\n",
       "      <th></th>\n",
       "      <th>Built</th>\n",
       "      <th>Barren</th>\n",
       "      <th>Forest</th>\n",
       "      <th>Water</th>\n",
       "      <th>Col Sum</th>\n",
       "      <th>Hits</th>\n",
       "      <th>Miss</th>\n",
       "      <th>False Alarm</th>\n",
       "    </tr>\n",
       "  </thead>\n",
       "  <tbody>\n",
       "    <tr>\n",
       "      <th>Built</th>\n",
       "      <td>612</td>\n",
       "      <td>0</td>\n",
       "      <td>0</td>\n",
       "      <td>0</td>\n",
       "      <td>612</td>\n",
       "      <td>612</td>\n",
       "      <td>460</td>\n",
       "      <td>0</td>\n",
       "    </tr>\n",
       "    <tr>\n",
       "      <th>Barren</th>\n",
       "      <td>168</td>\n",
       "      <td>561</td>\n",
       "      <td>0</td>\n",
       "      <td>0</td>\n",
       "      <td>729</td>\n",
       "      <td>561</td>\n",
       "      <td>83</td>\n",
       "      <td>168</td>\n",
       "    </tr>\n",
       "    <tr>\n",
       "      <th>Forest</th>\n",
       "      <td>292</td>\n",
       "      <td>83</td>\n",
       "      <td>2197</td>\n",
       "      <td>0</td>\n",
       "      <td>2572</td>\n",
       "      <td>2197</td>\n",
       "      <td>0</td>\n",
       "      <td>375</td>\n",
       "    </tr>\n",
       "    <tr>\n",
       "      <th>Water</th>\n",
       "      <td>0</td>\n",
       "      <td>0</td>\n",
       "      <td>0</td>\n",
       "      <td>183</td>\n",
       "      <td>183</td>\n",
       "      <td>183</td>\n",
       "      <td>0</td>\n",
       "      <td>0</td>\n",
       "    </tr>\n",
       "    <tr>\n",
       "      <th>Row Sum</th>\n",
       "      <td>1072</td>\n",
       "      <td>644</td>\n",
       "      <td>2197</td>\n",
       "      <td>183</td>\n",
       "      <td>4096</td>\n",
       "      <td>3553</td>\n",
       "      <td>543</td>\n",
       "      <td>543</td>\n",
       "    </tr>\n",
       "  </tbody>\n",
       "</table>\n",
       "</div>"
      ],
      "text/plain": [
       "         Built  Barren  Forest  Water  Col Sum  Hits  Miss  False Alarm\n",
       "Built      612       0       0      0      612   612   460            0\n",
       "Barren     168     561       0      0      729   561    83          168\n",
       "Forest     292      83    2197      0     2572  2197     0          375\n",
       "Water        0       0       0    183      183   183     0            0\n",
       "Row Sum   1072     644    2197    183     4096  3553   543          543"
      ]
     },
     "metadata": {},
     "output_type": "display_data"
    }
   ],
   "source": [
    "display(pd_table_func.contingency_table())"
   ]
  },
  {
   "cell_type": "markdown",
   "metadata": {},
   "source": [
    "<span style=\"font-family:Arial Rounded MT; font-size:2em; color:#538EBB\">Hits, Misses, & False Alarms</span>\n",
    "\n",
    "<span style=\"font-family:Arial Rounded MT; font-size:1em; color:#386E9E\">1. No category specified = Sum of H, M, or FA</span>\n",
    "\n",
    "<span style=\"font-family:Arial Rounded MT; font-size:1em; color:#386E9E\">2. Category k specified = H, M, or FA for category k</span>"
   ]
  },
  {
   "cell_type": "code",
   "execution_count": 43,
   "metadata": {},
   "outputs": [
    {
     "name": "stdout",
     "output_type": "stream",
     "text": [
      "Total Hits: 3553 Hectares\n",
      "Total Misses: 543 Hectares\n",
      "The Total False Alarms: 543 Hectares\n"
     ]
    }
   ],
   "source": [
    "print('Total Hits:', pd_table_func.hits(), 'Hectares')\n",
    "print('Total Misses:', pd_table_func.miss(), 'Hectares')\n",
    "print('The Total False Alarms:', pd_table_func.false_alarm(), 'Hectares')"
   ]
  },
  {
   "cell_type": "code",
   "execution_count": 44,
   "metadata": {},
   "outputs": [
    {
     "name": "stdout",
     "output_type": "stream",
     "text": [
      "Hits for Category 1: 612 Hectares\n",
      "Misses for Category 1: 460 Hectares\n",
      "False Alarms for Category 1: 0 Hectares\n"
     ]
    }
   ],
   "source": [
    "print('Hits for Category 1:', pd_table_func.hits(0), 'Hectares')\n",
    "print('Misses for Category 1:', pd_table_func.miss(0), 'Hectares')\n",
    "print('False Alarms for Category 1:', pd_table_func.false_alarm(0), 'Hectares')"
   ]
  },
  {
   "cell_type": "markdown",
   "metadata": {},
   "source": [
    "-----"
   ]
  },
  {
   "cell_type": "markdown",
   "metadata": {},
   "source": [
    "<span style=\"font-family:Arial Rounded MT; font-size:2em; color:#386E9E\">Quantity</span>\n",
    "\n",
    "<span style=\"font-family:Arial Rounded MT; font-size:1em; color:#386E9E\">1. No category specified = Total quantity disagreement</span>\n",
    "\n",
    "<span style=\"font-family:Arial Rounded MT; font-size:1em; color:#386E9E\">2. Category k specified = </span>  <br>\n",
    "> <span style=\"font-family:Arial Rounded MT; font-size:1em; color:#386E9E\">a) FALSE (default) = Dictionary </span>  <br>\n",
    "> - <span style=\"font-family:Arial Rounded MT; font-size:1em; color:#386E9E\">  Key = Labels Miss/False Alarm/Blank </span> <br>\n",
    "> - <span style=\"font-family:Arial Rounded MT; font-size:1em; color:#386E9E\">Value = Quantity value </span>\n",
    "\n",
    "> <span style=\"font-family:Arial Rounded MT; font-size:1em; color:#386E9E\">b) TRUE = Quantity disagreement for category k</span>"
   ]
  },
  {
   "cell_type": "code",
   "execution_count": 45,
   "metadata": {},
   "outputs": [
    {
     "name": "stdout",
     "output_type": "stream",
     "text": [
      "Total Quantity Disagreement: 230 Hectares\n"
     ]
    }
   ],
   "source": [
    "print('Total Quantity Disagreement:', pd_table_func.quantity(), 'Hectares')"
   ]
  },
  {
   "cell_type": "code",
   "execution_count": 46,
   "metadata": {},
   "outputs": [
    {
     "name": "stdout",
     "output_type": "stream",
     "text": [
      "Quantity Disagreement for Category 1: 460 Hectares\n"
     ]
    }
   ],
   "source": [
    "print('Quantity Disagreement for Category 1:', pd_table_func.quantity(0, False), 'Hectares')"
   ]
  },
  {
   "cell_type": "code",
   "execution_count": 47,
   "metadata": {},
   "outputs": [
    {
     "name": "stdout",
     "output_type": "stream",
     "text": [
      "Quantity Disagreement for Category 1 w/ label: {'Miss': 460} Hectares\n"
     ]
    }
   ],
   "source": [
    "print('Quantity Disagreement for Category 1 w/ label:', pd_table_func.quantity(0, True), 'Hectares')"
   ]
  },
  {
   "cell_type": "markdown",
   "metadata": {},
   "source": [
    "-----"
   ]
  },
  {
   "cell_type": "markdown",
   "metadata": {},
   "source": [
    "<span style=\"font-family:Arial Rounded MT; font-size:2em; color:#386E9E\">Exchange</span>\n",
    "\n",
    "<span style=\"font-family:Arial Rounded MT; font-size:1em; color:#386E9E\">1. No category specified = Total exchange disagreement</span>\n",
    "\n",
    "<span style=\"font-family:Arial Rounded MT; font-size:1em; color:#386E9E\">2. Category k specified = Dictionary + Sum of exchange for category k</span>  <br>\n",
    "> <span style=\"font-family:Arial Rounded MT; font-size:1em; color:#386E9E\">Key = Category # exchanged with category k</span>  <br>\n",
    "> <span style=\"font-family:Arial Rounded MT; font-size:1em; color:#386E9E\">Value = Exchange value </span>\n",
    "\n",
    "<span style=\"font-family:Arial Rounded MT; font-size:1em; color:#386E9E\">3. Two categories specified = Exchange disagreement between them</span>"
   ]
  },
  {
   "cell_type": "code",
   "execution_count": 48,
   "metadata": {},
   "outputs": [
    {
     "name": "stdout",
     "output_type": "stream",
     "text": [
      "Total Exchange Disagreement: 0 Hectares\n"
     ]
    }
   ],
   "source": [
    "print('Total Exchange Disagreement:', pd_table_func.exchange(), 'Hectares')"
   ]
  },
  {
   "cell_type": "code",
   "execution_count": 49,
   "metadata": {},
   "outputs": [
    {
     "name": "stdout",
     "output_type": "stream",
     "text": [
      "Exchange Disagreement for Category 1: {'Category 1': 0, 'Category 2': 0, 'Category 3': 0, 'Total Exchange': 0} in Hectares\n"
     ]
    }
   ],
   "source": [
    "print('Exchange Disagreement for Category 1:', pd_table_func.exchange(0, None, False), 'in Hectares')"
   ]
  },
  {
   "cell_type": "code",
   "execution_count": 50,
   "metadata": {},
   "outputs": [
    {
     "name": "stdout",
     "output_type": "stream",
     "text": [
      "Exchange between Category 1 and 2: 0 Hectares\n"
     ]
    }
   ],
   "source": [
    "print('Exchange between Category 1 and 2:', pd_table_func.exchange(0,1), 'Hectares')"
   ]
  },
  {
   "cell_type": "markdown",
   "metadata": {},
   "source": [
    "-----"
   ]
  },
  {
   "cell_type": "markdown",
   "metadata": {},
   "source": [
    "<span style=\"font-family:Arial Rounded MT; font-size:2em; color:#386E9E\">Size</span>\n",
    "\n",
    "<span style=\"font-family:Arial Rounded MT; font-size:1em; color:#386E9E\">1. No category specified = Size of extent</span>\n",
    "\n",
    "<span style=\"font-family:Arial Rounded MT; font-size:1em; color:#386E9E\">2. Category k specified = Size of category k</span>  <br>\n",
    "> <span style=\"font-family:Arial Rounded MT; font-size:1em; color:#386E9E\">a) Axis 'X' = Size of category k in X (row sum)</span>  <br>\n",
    "> <span style=\"font-family:Arial Rounded MT; font-size:1em; color:#386E9E\">b) Axis 'Y' = Size of category k in Y (col sum)</span> <br>\n",
    "> <span style=\"font-family:Arial Rounded MT; font-size:1em; color:#386E9E\">c) No Axis specified = Size of category k</span>"
   ]
  },
  {
   "cell_type": "code",
   "execution_count": 51,
   "metadata": {},
   "outputs": [
    {
     "name": "stdout",
     "output_type": "stream",
     "text": [
      "Size of Extent: 4096 Hectares\n"
     ]
    }
   ],
   "source": [
    "print('Size of Extent:', pd_table_func.size(), 'Hectares')"
   ]
  },
  {
   "cell_type": "code",
   "execution_count": 52,
   "metadata": {},
   "outputs": [
    {
     "name": "stdout",
     "output_type": "stream",
     "text": [
      "Size of Category 1 in X: 612 Hectares\n"
     ]
    }
   ],
   "source": [
    "print('Size of Category 1 in X:', pd_table_func.size(0,'X'),'Hectares')"
   ]
  },
  {
   "cell_type": "code",
   "execution_count": 53,
   "metadata": {},
   "outputs": [
    {
     "name": "stdout",
     "output_type": "stream",
     "text": [
      "Size of Category 1 in Y: 1072 Hectares\n"
     ]
    }
   ],
   "source": [
    "print('Size of Category 1 in Y:', pd_table_func.size(0,'Y'),'Hectares')"
   ]
  },
  {
   "cell_type": "markdown",
   "metadata": {},
   "source": [
    "-----"
   ]
  },
  {
   "cell_type": "markdown",
   "metadata": {},
   "source": [
    "<center> <span style=\"font-family:Arial Rounded MT; font-size:3em; color:#FFCD3F\">Metrics</span> </center>"
   ]
  },
  {
   "cell_type": "markdown",
   "metadata": {},
   "source": [
    "<span style=\"font-family:Arial Rounded MT; font-size:2em; color:#386E9E\">False Alarm Quantity Intensity</span>\n",
    "\n",
    "<br>\n",
    "<span style=\"font-family:Arial; font-size:1.5em; color:#386E9E\">= (False Alarm Quantity of Category k) / (Size of Category k in X)</span>"
   ]
  },
  {
   "cell_type": "code",
   "execution_count": 54,
   "metadata": {},
   "outputs": [
    {
     "name": "stdout",
     "output_type": "stream",
     "text": [
      "FAQI for Category 1 11.66\n",
      "FAQI for Category 2 14.58\n"
     ]
    }
   ],
   "source": [
    "for i in range(len(df)):\n",
    "    fa_label = pd_table_func.quantity(i,True)\n",
    "    if \"False Alarm\" in fa_label:\n",
    "        faqi = round((fa_label[\"False Alarm\"]/pd_table_func.size(i,'X'))*100, 2)\n",
    "        print('FAQI for Category', i , faqi)\n",
    "    else:\n",
    "        pass"
   ]
  },
  {
   "cell_type": "markdown",
   "metadata": {},
   "source": [
    "-----"
   ]
  },
  {
   "cell_type": "markdown",
   "metadata": {},
   "source": [
    "![Raster Images ](images/futurework.PNG \"Raster Images\")\n",
    "-----"
   ]
  },
  {
   "cell_type": "markdown",
   "metadata": {},
   "source": [
    "-----\n",
    "\n",
    "<center> <font size=\"10\" color='#FFCD3F' face = 'Arial Rounded MT'>Feedback or Questions?</font> </center>\n",
    "\n"
   ]
  }
 ],
 "metadata": {
  "kernelspec": {
   "display_name": "Python 3",
   "language": "python",
   "name": "python3"
  },
  "language_info": {
   "codemirror_mode": {
    "name": "ipython",
    "version": 3
   },
   "file_extension": ".py",
   "mimetype": "text/x-python",
   "name": "python",
   "nbconvert_exporter": "python",
   "pygments_lexer": "ipython3",
   "version": "3.6.6"
  }
 },
 "nbformat": 4,
 "nbformat_minor": 2
}
