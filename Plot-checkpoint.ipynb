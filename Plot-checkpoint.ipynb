{
 "cells": [
  {
   "cell_type": "code",
   "execution_count": 1,
   "metadata": {},
   "outputs": [],
   "source": [
    "import pandas as pd\n",
    "import plotly\n",
    "import plotly.express as px\n",
    "import plotly.io as pio"
   ]
  },
  {
   "cell_type": "code",
   "execution_count": 2,
   "metadata": {},
   "outputs": [
    {
     "data": {
      "text/html": [
       "<div>\n",
       "<style scoped>\n",
       "    .dataframe tbody tr th:only-of-type {\n",
       "        vertical-align: middle;\n",
       "    }\n",
       "\n",
       "    .dataframe tbody tr th {\n",
       "        vertical-align: top;\n",
       "    }\n",
       "\n",
       "    .dataframe thead th {\n",
       "        text-align: right;\n",
       "    }\n",
       "</style>\n",
       "<table border=\"1\" class=\"dataframe\">\n",
       "  <thead>\n",
       "    <tr style=\"text-align: right;\">\n",
       "      <th></th>\n",
       "      <th>Built</th>\n",
       "      <th>Barren</th>\n",
       "      <th>Forest</th>\n",
       "      <th>Water</th>\n",
       "    </tr>\n",
       "  </thead>\n",
       "  <tbody>\n",
       "    <tr>\n",
       "      <th>Built</th>\n",
       "      <td>612</td>\n",
       "      <td>20</td>\n",
       "      <td>5</td>\n",
       "      <td>0</td>\n",
       "    </tr>\n",
       "    <tr>\n",
       "      <th>Barren</th>\n",
       "      <td>168</td>\n",
       "      <td>561</td>\n",
       "      <td>0</td>\n",
       "      <td>10</td>\n",
       "    </tr>\n",
       "    <tr>\n",
       "      <th>Forest</th>\n",
       "      <td>292</td>\n",
       "      <td>83</td>\n",
       "      <td>2197</td>\n",
       "      <td>0</td>\n",
       "    </tr>\n",
       "    <tr>\n",
       "      <th>Water</th>\n",
       "      <td>10</td>\n",
       "      <td>30</td>\n",
       "      <td>10</td>\n",
       "      <td>183</td>\n",
       "    </tr>\n",
       "  </tbody>\n",
       "</table>\n",
       "</div>"
      ],
      "text/plain": [
       "        Built  Barren  Forest  Water\n",
       "Built     612      20       5      0\n",
       "Barren    168     561       0     10\n",
       "Forest    292      83    2197      0\n",
       "Water      10      30      10    183"
      ]
     },
     "metadata": {},
     "output_type": "display_data"
    }
   ],
   "source": [
    "initialDataFrame = pd.read_csv(r'sample.csv', index_col= 0)\n",
    "display(initialDataFrame)"
   ]
  },
  {
   "cell_type": "code",
   "execution_count": 33,
   "metadata": {},
   "outputs": [],
   "source": [
    "#---------------------------------------------------------------------------------------------\n",
    "# Project Name: Python Library for Pontius Matrix\n",
    "# Collaborators: Priyanka Verma, Priscilla Ahn, Max Enger, Jordan Frey\n",
    "# Purpose: Automation of Pontius Matrix Creation\n",
    "# Created: 10/28/2019\n",
    "#---------------------------------------------------------------------------------------------\n",
    "\n",
    "import plotly.express as px\n",
    "import pandas as pd\n",
    "\n",
    "class pontiPy(object):\n",
    "    def __init__(self, dataframe):\n",
    "        \"\"\"Return a new pandas dataframe object.\"\"\"\n",
    "        self.dataframe = dataframe\n",
    "        self.df_row_col_sums = dataframe.copy(deep=True)\n",
    "        column_names = []\n",
    "        for col in self.dataframe.columns:\n",
    "            column_names.append(col)\n",
    "        self.df_row_col_sums['Col Sum'] = self.df_row_col_sums.sum(axis=1)\n",
    "        self.df_row_col_sums.loc['Row Sum'] = self.df_row_col_sums.sum(axis=0)\n",
    "\n",
    "    # Function to compute Hits\n",
    "    def agreement(self, category = None):\n",
    "        _hits = []\n",
    "        for i in range(len(self.df_row_col_sums)):\n",
    "            # Hits = Diagonal cells\n",
    "            _hits.append(self.df_row_col_sums.iloc[i][i])\n",
    "        # if no category is specified\n",
    "        # len-1 because total hit sum is included in list\n",
    "        if category is None:\n",
    "            return sum(_hits[0:len(_hits)-1])\n",
    "        # List to build contingency table in the contingency() function\n",
    "        elif category == 'CONTINGENCY':\n",
    "            # replace last item with total hits\n",
    "            # right now it is the sum of the matrix\n",
    "            _hits[len(_hits)-1] = sum(_hits[0:len(_hits)-1])\n",
    "            return _hits\n",
    "        # if category is specified, return hits for that category\n",
    "        else:\n",
    "            # return\n",
    "            return _hits[category]\n",
    "\n",
    "    # Function to compute false alarms\n",
    "    def row_disagreement(self, category = None):\n",
    "        _false_alarm = []\n",
    "        # subtract one to get # of categories\n",
    "        # removes row sum from the length\n",
    "        df_length = (len(self.df_row_col_sums) - 1)\n",
    "        for i in range(len(self.df_row_col_sums)):\n",
    "            # False alarms = Column Sum - Hits for each category\n",
    "            _false_alarm.append(self.df_row_col_sums.iloc[i][df_length]-self.df_row_col_sums.iloc[i][i])\n",
    "        # if no category is specified\n",
    "        # len-1 because total false alarm sum is included in list\n",
    "        if category is None:\n",
    "            return sum(_false_alarm[0:len(_false_alarm)-1])\n",
    "        # List to build contingency table in the contingency() function\n",
    "        elif category == 'CONTINGENCY':\n",
    "            # add sum of false alarms to list as last item\n",
    "            _false_alarm[len(_false_alarm)-1] = sum(_false_alarm[0:len(_false_alarm)-1])\n",
    "            return _false_alarm\n",
    "        # if category is specified, return false alarm for that category\n",
    "        else:\n",
    "            return _false_alarm[category]\n",
    "\n",
    "    # Function to compute miss\n",
    "    def column_disagreement(self, category = None):\n",
    "        _miss = []\n",
    "        df_length = len(self.df_row_col_sums)-1\n",
    "        for i in range(len(self.df_row_col_sums)):\n",
    "            # miss = Row Sum - Hits for each category\n",
    "            _miss.append(self.df_row_col_sums.iloc[df_length][i]- self.df_row_col_sums.iloc[i][i])\n",
    "        # if no category is specified\n",
    "        if category is None:\n",
    "            return sum(_miss[0:len(_miss)-1])\n",
    "        # List to build contingency table in the contingency() function\n",
    "        # add sum of misses to list as last item\n",
    "        elif category == 'CONTINGENCY':\n",
    "            _miss[len(_miss)-1] = sum(_miss[0:len(_miss)-1])\n",
    "            return _miss\n",
    "        # if category is specified, return miss for that category\n",
    "        else:\n",
    "            return _miss[category]\n",
    "\n",
    "    # Function to compute Exchange between ALL, ONE or TWO categories\n",
    "    \"\"\"\n",
    "       1. If no category is specified (Total must be false):\n",
    "            Sum of total exchange is returned\n",
    "       2. If total is False and 1 category is specified:\n",
    "            Return is exchange for that category with all other categories + a total value in dict\n",
    "       3. If Total is True and 1 category is specified:\n",
    "            Return is total exchange for that category\n",
    "       4. If 2 categories are specified (Total must be false):\n",
    "            Return exchange between 2 categories\n",
    "    \"\"\"\n",
    "    def exchange(self, category1 = None,category2 = None, Total = False):\n",
    "        _exchange = {}\n",
    "        _categories = range(len(self.df_row_col_sums)-1)\n",
    "        for i in _categories:\n",
    "            # Create a list for every category\n",
    "            _catlist = []\n",
    "            # Exchange calculated between 2 categories\n",
    "            for j in _categories:\n",
    "                if i != j:\n",
    "                    # Create list with each exchange value for category 1\n",
    "                    _catlist.append(min(self.df_row_col_sums.iloc[i][j],self.df_row_col_sums.iloc[j][i]))\n",
    "            # Append exchange list for each category to dictionary\n",
    "            _exchange[i]=_catlist\n",
    "        # A condensed list of category and exchange sum for each\n",
    "        ex_by_category = ({k: sum(v) for k, v in _exchange.items()})\n",
    "        if category1 is None and Total is False:\n",
    "            # Total exchange\n",
    "            return sum(ex_by_category.values())\n",
    "        elif Total is True and category2 is None:\n",
    "            return ex_by_category[category1]\n",
    "        # If one category is specified\n",
    "        # Return is exchange with all categories\n",
    "        # Total must be false since it only applies to ONE category\n",
    "        elif category1 is not None and category2 is None and Total is False:\n",
    "            # Dictionary to return exchanges between cat 1 and all other categories\n",
    "            # Also returns a total exchange for category\n",
    "            _single_category = {}\n",
    "            # iterate through number of categories\n",
    "            for i in range(len(_exchange[category1])):\n",
    "                # Exchange at index 0 = exchange of 0 with category 1 since exchange cannot happen with itself\n",
    "                # Size of list with exchange is # of categories - 1\n",
    "                # If index of list item == category 1, the exchange is for the category after\n",
    "                # Example: Parameter is Category 2\n",
    "                # Exchange for Category 2: {'Category 0': 0, 'Category 1': 30, 'Category 3': 40, 'Total Exchange': 70}\n",
    "                if i != category1:\n",
    "                    # key for dictionary\n",
    "                    _cat_key = 'Category ' + str(i)\n",
    "                    # If i == category, the else statement added that category to dict\n",
    "                    # So this addition will be i+1\n",
    "                    if _cat_key in _single_category.keys():\n",
    "                        _cat_key = 'Category ' + str(i + 1)\n",
    "                        _single_category[_cat_key] = _exchange[category1][i]\n",
    "                    # if category i not in dictionary, add to dictionary\n",
    "                    else:\n",
    "                        _single_category[_cat_key] = _exchange[category1][i]\n",
    "                # Exchange at index 0 = exchange of 0 with category 1\n",
    "                # When index == category1 parameter, the key will be incremented by 1\n",
    "                # Category 1 Exchange with Category 0 = index 0 in list\n",
    "                else:\n",
    "                    _cat_key = 'Category ' + str(i+1)\n",
    "                    _single_category[_cat_key] = _exchange[category1][i]\n",
    "                    _single_category[_cat_key] = _exchange[category1][i]\n",
    "            _single_category['Total Exchange'] = sum(_single_category.values())\n",
    "            return _single_category\n",
    "\n",
    "        # To calculate exchange within pairs, it needs to find the index of the categories in dict\n",
    "        else:\n",
    "            # Categories provided as params cannot be the same since exchange happens in pairs\n",
    "            if category1 == category2:\n",
    "                return 'No Exchange Within The Same Category. Provide Two Different Categories.'\n",
    "            # When cat1 == 0, the index should be 0 for the\n",
    "            if category1 != 0 and category2 != 0 :\n",
    "                # Exchange is with the inverse cell position for the two categories\n",
    "                # The index of other category will be -1 in the second pairing\n",
    "                return min(_exchange[category1][category2-1],_exchange[category2-1][category1])\n",
    "            # If cat 1 is 0, return MIN (0[cat2-1], cat2[0])\n",
    "            elif category1 == 0:\n",
    "                return min(_exchange[category1][category2-1], _exchange[category2][category1])\n",
    "            # If cat 2 is 0, return MIN (cat1[0], cat2[cat-1])\n",
    "            elif category2 == 0:\n",
    "                return min(_exchange[category1][category2], _exchange[category2][category1-1])\n",
    "\n",
    "    # Function to compute quantity between all or one category\n",
    "    # Requires at least 1 category in parameter\n",
    "    def quantity(self, category = None, label = False):\n",
    "        if category is not None:\n",
    "            # Returned as a dictionary\n",
    "            # If no category is specified, return total quantity\n",
    "            _quantity = {}\n",
    "            # Calculate quantity by subtracting false alarms from misses\n",
    "            _q_by_category = self.column_disagreement(category) - self.row_disagreement(category)\n",
    "            # Quantity Labels\n",
    "            # If greater than 0, it is a miss quantity\n",
    "            if _q_by_category > 0:\n",
    "                _quantity['Miss'] = abs(_q_by_category)\n",
    "            # If greater than 1, it is a false alarm quantity\n",
    "            elif _q_by_category < 0:\n",
    "                _quantity['False Alarm'] = abs(_q_by_category)\n",
    "            # If 0, quantity is 0\n",
    "            else:\n",
    "            # if it isn't a miss or false alarm quantity\n",
    "                _quantity['Blank'] = abs(_q_by_category)\n",
    "\n",
    "         # If no category is specified: return the absolute sum of all quantity\n",
    "        # Divide sum quantity by 2\n",
    "        # Label is off by default\n",
    "        if category is None:\n",
    "            _categories = range(len(self.df_row_col_sums) - 1)\n",
    "            _quantity_sum = 0\n",
    "            for i in _categories:\n",
    "                _quantity_sum += abs(self.column_disagreement(i)-self.row_disagreement(i))\n",
    "            return int(_quantity_sum/2)\n",
    "        # If True: it returns the quantity value for that category\n",
    "        elif label is True:\n",
    "            return _quantity\n",
    "        # If False (Default): it returns a dictionary\n",
    "        # Dictionary Key = Miss/False Alarm/Blank label\n",
    "        # Dictionary Value = Quantity value for the key\n",
    "        elif label is False:\n",
    "            return list(_quantity.values())[0]\n",
    "\n",
    "    # Function to compute size for all or one category\n",
    "    # Axis must be specified when category is specified\n",
    "    # Determines if row or col sum for category will be returned\n",
    "    def size(self, category = None, axis= None, Total = False):\n",
    "        # size of the data frame is returned\n",
    "        if category is None and axis is None:\n",
    "            return self.df_row_col_sums.at['Row Sum', 'Col Sum']\n",
    "        # return col or row sum for category depending on axis\n",
    "        # An axis (x or y) must be provided with a category\n",
    "        elif category is not None and axis is not None:\n",
    "            if Total is False:\n",
    "                # If x is specified, return col sum for category\n",
    "                if axis.lower() == 'x':\n",
    "                    _col_sum = self.df_row_col_sums['Col Sum'][category]\n",
    "                    return _col_sum\n",
    "                # If y is specified, return row sum for category\n",
    "                elif axis.lower() == 'y':\n",
    "                    _row_sum = self.df_row_col_sums.loc['Row Sum'][category]\n",
    "                    return _row_sum\n",
    "                # if axis isn't specified, return the sum of col and row sum for category\n",
    "            else:\n",
    "                # Get row\n",
    "                if axis.lower() == 'x':\n",
    "                    _col_sum = self.df_row_col_sums.iloc[category]\n",
    "                    x_dict = _col_sum.to_dict()\n",
    "                    # Remove col sum and False Alarms if they exist\n",
    "                    x_dict.pop('Col Sum', None)\n",
    "                    x_dict.pop('False Alarms', None)\n",
    "                    return x_dict\n",
    "                # If y is specified, return col for category\n",
    "                elif axis.lower() == 'y':\n",
    "                    # list of i\n",
    "                    index_list = self.df_row_col_sums.index\n",
    "                    for col in index_list:\n",
    "                        pos = (self.df_row_col_sums.index.get_loc(col))\n",
    "                        if pos == category:\n",
    "                            y_dict = self.df_row_col_sums.get(col).to_dict()\n",
    "                            # Remove Row Sum and Misses if they exist in dictionary\n",
    "                            y_dict.pop('Row Sum', None)\n",
    "                            y_dict.pop('Misses', None)\n",
    "                            return y_dict\n",
    "        else:\n",
    "            return(self.size(category, axis = 'x') + self.size(category, axis = 'y'))\n",
    "\n",
    "    # Function to compute difference for all or one category\n",
    "    def difference(self, category = None):\n",
    "        # if no category is specified, return total size-hits\n",
    "        if category is None:\n",
    "            _total_diff = self.size() - self.agreement()\n",
    "            return _total_diff\n",
    "        # if category is specified: return size-2*hits for that category\n",
    "        else:\n",
    "            return self.size(category) - 2*(self.agreement(category))\n",
    "\n",
    "    # Function to compute total shift or shift for one category\n",
    "    def shift(self, category = None):\n",
    "        if category is None:\n",
    "            total_shift = self.difference() - self.quantity() - self.exchange()\n",
    "            return total_shift\n",
    "        else:\n",
    "            return (self.difference(category)-self.quantity(category)-(2*self.exchange(category, Total = True)))/2\n",
    "\n",
    "    # Generate final matrix\n",
    "    # This function will call previous functions\n",
    "    def matrix(self):\n",
    "        _matrix = self.df_row_col_sums.copy(deep=True)\n",
    "        miss_row = self.column_disagreement('CONTINGENCY')\n",
    "        # Add a blank item since the False Alarm column will not have misses\n",
    "        # Add a blank item since the False Alarm column will not have misses\n",
    "        # This is required since the list size will differ from matrix size\n",
    "        miss_row.append('')\n",
    "        # Add False alarm to matrix\n",
    "        _matrix[\"Row Disagreement\"] = self.row_disagreement('CONTINGENCY')\n",
    "        # Add Misses to matrix\n",
    "        _matrix.loc['Column Disagreement'] = miss_row\n",
    "        # Rename columns for display\n",
    "        _matrix = _matrix.rename({'Col Sum': 'Sum'}, axis=1)\n",
    "        _matrix = _matrix.rename({'Row Sum': 'Sum'}, axis=0)\n",
    "        return _matrix\n",
    "\n",
    "    def entrySize_sam(self):\n",
    "        self.nCategories = len(self.dataframe.columns)\n",
    "        self.df_list = self.dataframe.values.tolist()\n",
    "\n",
    "        self.df_plot = self.dataframe.copy(deep=True)\n",
    "        # delete sum column and row\n",
    "        self.df_plot.loc[\"Miss\"] = self.column_disagreement('CONTINGENCY')[:-1]\n",
    "        self.df_plot.loc[\"False Alarm\"] = self.row_disagreement('CONTINGENCY')[:-1]\n",
    "\n",
    "        # dynamically add labels in EntrySize plot based on x, y pos on plot\n",
    "        x_pos = []\n",
    "        for i in range(0, self.nCategories):\n",
    "            row_hit_sum = 0\n",
    "            for j in range(0, i):\n",
    "                row_hit_sum += (self.df_list[i][j])\n",
    "            row_hit_sum = (self.df_list[i][i] / 2) + row_hit_sum\n",
    "            x_pos.append(row_hit_sum)\n",
    "\n",
    "        fig = px.bar(self.df_plot, y=self.df_plot.index, x=self.df_plot.columns,\n",
    "                     height=350, orientation='h', width=600,\n",
    "                     opacity=1, color_discrete_sequence=px.colors.qualitative.Set1,\n",
    "                     template=\"simple_white\")\n",
    "        fig.update_xaxes(tickvals=[0, 500, 1000, 1500, 2000, 2500])\n",
    "\n",
    "        layout = fig.update_layout(\n",
    "            font=dict(family=\"Trebuchet MS\", size=12),\n",
    "            hovermode=False,\n",
    "            paper_bgcolor='rgba(0,0,0,0)',\n",
    "            plot_bgcolor='rgba(0,0,0,0)',\n",
    "            yaxis=dict(autorange=\"reversed\", type='category', title='Table Feature',\n",
    "                       title_font=dict(size=12, family='Trebuchet MS', color='blue')),\n",
    "            xaxis=dict(title='Entry size as number of Observations', dtick=1,\n",
    "                       title_font=dict(size=12, family='Trebuchet MS', color='black')),\n",
    "            legend=dict(orientation=\"h\", yanchor=\"bottom\", y=1.02, xanchor=\"right\",\n",
    "                        x=0.8, title='',\n",
    "                        font=dict(family=\"Trebuchet MS\", size=12, color=\"black\"))\n",
    "        )\n",
    "\n",
    "        for i in range(0, self.nCategories):\n",
    "            fig.add_annotation(x=x_pos[i], y=i, text=\"Hit\", hovertext='Hits for Category 1', showarrow=False,\n",
    "                               font=dict(color='white',\n",
    "                                         family='Trebuchet MS',\n",
    "                                         size=12))\n",
    "        fig.show()\n",
    "    def entrySize(self):\n",
    "        self.nCategories = len(self.dataframe.columns)\n",
    "        self.df_list = self.dataframe.values.tolist()\n",
    "\n",
    "        self.df_plot = self.dataframe.copy(deep=True)\n",
    "        # delete sum column and row\n",
    "        self.df_plot.loc[\"Miss\"] = self.column_disagreement('CONTINGENCY')[:-1]\n",
    "        self.df_plot.loc[\"False Alarm\"] = self.row_disagreement('CONTINGENCY')[:-1]\n",
    "\n",
    "        # dynamically add labels in EntrySize plot based on x, y pos on plot\n",
    "        x_pos = []\n",
    "        for i in range(0, self.nCategories):\n",
    "            row_hit_sum = 0\n",
    "            for j in range(0, i):\n",
    "                row_hit_sum += (self.df_list[i][j])\n",
    "            row_hit_sum = (self.df_list[i][i] / 2) + row_hit_sum\n",
    "            x_pos.append(row_hit_sum)\n",
    "\n",
    "        fig = px.bar(self.df_plot, y=self.df_plot.index, x=self.df_plot.columns,\n",
    "                     height=350, orientation='h', width=600,\n",
    "                     opacity=1, color_discrete_sequence=px.colors.qualitative.Set1,\n",
    "                     template=\"simple_white\")\n",
    "        \n",
    "\n",
    "        layout = fig.update_layout(\n",
    "            font=dict(family=\"Trebuchet MS\", size=12),\n",
    "            hovermode=False,\n",
    "            paper_bgcolor='rgba(0,0,0,0)',\n",
    "            plot_bgcolor='rgba(0,0,0,0)',\n",
    "            yaxis=dict(autorange=\"reversed\", type='category', title='Table Feature',\n",
    "                       title_font=dict(size=12, family='Trebuchet MS', color='black')),\n",
    "            xaxis=dict(title='Entry size as number of Observations', dtick=1,\n",
    "                       title_font=dict(size=12, family='Trebuchet MS', color='black')),\n",
    "            legend=dict(orientation=\"h\", yanchor=\"bottom\", y=1.02, xanchor=\"right\",\n",
    "                        x=0.8, title='',\n",
    "                        font=dict(family=\"Trebuchet MS\", size=12, color=\"black\"))\n",
    "        )\n",
    "\n",
    "        for i in range(0, self.nCategories):\n",
    "            fig.add_annotation(x=x_pos[i], y=i, text=\"Hit\", hovertext='Hits for Category 1', showarrow=False,\n",
    "                               font=dict(color='white',\n",
    "                                         family='Trebuchet MS',\n",
    "                                         size=12))\n",
    "        fig.show()\n",
    "\n",
    "\n",
    "class pontiPy_Change(pontiPy):\n",
    "    def loss(self, category=None):\n",
    "        return self.row_disagreement(category=category)\n",
    "\n",
    "    def gain(self, category=None):\n",
    "        return self.column_disagreement(category=category)\n",
    "\n",
    "    def persistence(self, category=None):\n",
    "        return self.agreement(category=category)\n",
    "\n",
    "    # override method in pontiPy\n",
    "    def matrix(self):\n",
    "        _matrix = self.df_row_col_sums.copy(deep=True)\n",
    "        miss_row = self.column_disagreement('CONTINGENCY')\n",
    "        # Add a blank item since the False Alarm column will not have misses\n",
    "        # This is required since the list size will differ from matrix size\n",
    "        miss_row.append('')\n",
    "        # Add False alarm to matrix\n",
    "        _matrix[\"Loss\"] = self.row_disagreement('CONTINGENCY')\n",
    "        # Add Misses to matrix\n",
    "        _matrix.loc['Gain'] = miss_row\n",
    "        # Rename columns for display\n",
    "        _matrix = _matrix.rename({'Col Sum': 'Sum'}, axis=1)\n",
    "        _matrix = _matrix.rename({'Row Sum': 'Sum'}, axis=0)\n",
    "        return _matrix\n",
    "\n",
    "class pontiPy_Error(pontiPy):\n",
    "    def false_alarm(self, category=None):\n",
    "        return self.row_disagreement(category=category)\n",
    "\n",
    "    def miss(self, category=None):\n",
    "        return self.column_disagreement(category=category)\n",
    "\n",
    "    def hit(self, category=None):\n",
    "        return self.agreement(category=category)\n",
    "\n",
    "    # override method in pontiPy\n",
    "    def matrix(self):\n",
    "        _matrix = self.df_row_col_sums.copy(deep=True)\n",
    "        miss_row = self.column_disagreement('CONTINGENCY')\n",
    "        # Add a blank item since the False Alarm column will not have misses\n",
    "        # This is required since the list size will differ from matrix size\n",
    "        miss_row.append('')\n",
    "        # Add False alarm to matrix\n",
    "        _matrix[\"False Alarm\"] = self.row_disagreement('CONTINGENCY')\n",
    "        # Add Misses to matrix\n",
    "        _matrix.loc['Miss'] = miss_row\n",
    "        # Rename columns for display\n",
    "        _matrix = _matrix.rename({'Col Sum': 'Sum'}, axis=1)\n",
    "        _matrix = _matrix.rename({'Row Sum': 'Sum'}, axis=0)\n",
    "        return _matrix"
   ]
  },
  {
   "cell_type": "code",
   "execution_count": 4,
   "metadata": {},
   "outputs": [],
   "source": [
    "NewDataFrame = pontiPy(initialDataFrame)"
   ]
  },
  {
   "cell_type": "code",
   "execution_count": 5,
   "metadata": {
    "scrolled": false
   },
   "outputs": [
    {
     "data": {
      "text/html": [
       "<div>\n",
       "<style scoped>\n",
       "    .dataframe tbody tr th:only-of-type {\n",
       "        vertical-align: middle;\n",
       "    }\n",
       "\n",
       "    .dataframe tbody tr th {\n",
       "        vertical-align: top;\n",
       "    }\n",
       "\n",
       "    .dataframe thead th {\n",
       "        text-align: right;\n",
       "    }\n",
       "</style>\n",
       "<table border=\"1\" class=\"dataframe\">\n",
       "  <thead>\n",
       "    <tr style=\"text-align: right;\">\n",
       "      <th></th>\n",
       "      <th>Built</th>\n",
       "      <th>Barren</th>\n",
       "      <th>Forest</th>\n",
       "      <th>Water</th>\n",
       "      <th>Sum</th>\n",
       "      <th>Row Disagreement</th>\n",
       "    </tr>\n",
       "  </thead>\n",
       "  <tbody>\n",
       "    <tr>\n",
       "      <th>Built</th>\n",
       "      <td>612</td>\n",
       "      <td>20</td>\n",
       "      <td>5</td>\n",
       "      <td>0</td>\n",
       "      <td>637</td>\n",
       "      <td>25</td>\n",
       "    </tr>\n",
       "    <tr>\n",
       "      <th>Barren</th>\n",
       "      <td>168</td>\n",
       "      <td>561</td>\n",
       "      <td>0</td>\n",
       "      <td>10</td>\n",
       "      <td>739</td>\n",
       "      <td>178</td>\n",
       "    </tr>\n",
       "    <tr>\n",
       "      <th>Forest</th>\n",
       "      <td>292</td>\n",
       "      <td>83</td>\n",
       "      <td>2197</td>\n",
       "      <td>0</td>\n",
       "      <td>2572</td>\n",
       "      <td>375</td>\n",
       "    </tr>\n",
       "    <tr>\n",
       "      <th>Water</th>\n",
       "      <td>10</td>\n",
       "      <td>30</td>\n",
       "      <td>10</td>\n",
       "      <td>183</td>\n",
       "      <td>233</td>\n",
       "      <td>50</td>\n",
       "    </tr>\n",
       "    <tr>\n",
       "      <th>Sum</th>\n",
       "      <td>1082</td>\n",
       "      <td>694</td>\n",
       "      <td>2212</td>\n",
       "      <td>193</td>\n",
       "      <td>4181</td>\n",
       "      <td>628</td>\n",
       "    </tr>\n",
       "    <tr>\n",
       "      <th>Column Disagreement</th>\n",
       "      <td>470</td>\n",
       "      <td>133</td>\n",
       "      <td>15</td>\n",
       "      <td>10</td>\n",
       "      <td>628</td>\n",
       "      <td></td>\n",
       "    </tr>\n",
       "  </tbody>\n",
       "</table>\n",
       "</div>"
      ],
      "text/plain": [
       "                     Built  Barren  Forest  Water   Sum Row Disagreement\n",
       "Built                  612      20       5      0   637               25\n",
       "Barren                 168     561       0     10   739              178\n",
       "Forest                 292      83    2197      0  2572              375\n",
       "Water                   10      30      10    183   233               50\n",
       "Sum                   1082     694    2212    193  4181              628\n",
       "Column Disagreement    470     133      15     10   628                 "
      ]
     },
     "metadata": {},
     "output_type": "display_data"
    }
   ],
   "source": [
    "display(NewDataFrame.matrix())"
   ]
  },
  {
   "cell_type": "code",
   "execution_count": 29,
   "metadata": {
    "scrolled": true
   },
   "outputs": [
    {
     "data": {
      "application/vnd.plotly.v1+json": {
       "config": {
        "plotlyServerURL": "https://plot.ly"
       },
       "data": [
        {
         "alignmentgroup": "True",
         "hovertemplate": "variable=Built<br>value=%{x}<br>index=%{y}<extra></extra>",
         "legendgroup": "Built",
         "marker": {
          "color": "rgb(228,26,28)",
          "opacity": 1
         },
         "name": "Built",
         "offsetgroup": "Built",
         "orientation": "h",
         "showlegend": true,
         "textposition": "auto",
         "type": "bar",
         "x": [
          612,
          168,
          292,
          10,
          470,
          25
         ],
         "xaxis": "x",
         "y": [
          "Built",
          "Barren",
          "Forest",
          "Water",
          "Miss",
          "False Alarm"
         ],
         "yaxis": "y"
        },
        {
         "alignmentgroup": "True",
         "hovertemplate": "variable=Barren<br>value=%{x}<br>index=%{y}<extra></extra>",
         "legendgroup": "Barren",
         "marker": {
          "color": "rgb(55,126,184)",
          "opacity": 1
         },
         "name": "Barren",
         "offsetgroup": "Barren",
         "orientation": "h",
         "showlegend": true,
         "textposition": "auto",
         "type": "bar",
         "x": [
          20,
          561,
          83,
          30,
          133,
          178
         ],
         "xaxis": "x",
         "y": [
          "Built",
          "Barren",
          "Forest",
          "Water",
          "Miss",
          "False Alarm"
         ],
         "yaxis": "y"
        },
        {
         "alignmentgroup": "True",
         "hovertemplate": "variable=Forest<br>value=%{x}<br>index=%{y}<extra></extra>",
         "legendgroup": "Forest",
         "marker": {
          "color": "rgb(77,175,74)",
          "opacity": 1
         },
         "name": "Forest",
         "offsetgroup": "Forest",
         "orientation": "h",
         "showlegend": true,
         "textposition": "auto",
         "type": "bar",
         "x": [
          5,
          0,
          2197,
          10,
          15,
          375
         ],
         "xaxis": "x",
         "y": [
          "Built",
          "Barren",
          "Forest",
          "Water",
          "Miss",
          "False Alarm"
         ],
         "yaxis": "y"
        },
        {
         "alignmentgroup": "True",
         "hovertemplate": "variable=Water<br>value=%{x}<br>index=%{y}<extra></extra>",
         "legendgroup": "Water",
         "marker": {
          "color": "rgb(152,78,163)",
          "opacity": 1
         },
         "name": "Water",
         "offsetgroup": "Water",
         "orientation": "h",
         "showlegend": true,
         "textposition": "auto",
         "type": "bar",
         "x": [
          0,
          10,
          0,
          183,
          10,
          50
         ],
         "xaxis": "x",
         "y": [
          "Built",
          "Barren",
          "Forest",
          "Water",
          "Miss",
          "False Alarm"
         ],
         "yaxis": "y"
        }
       ],
       "layout": {
        "annotations": [
         {
          "font": {
           "color": "white",
           "family": "Trebuchet MS",
           "size": 12
          },
          "hovertext": "Hits for Category 1",
          "showarrow": false,
          "text": "Hit",
          "x": 306,
          "y": 0
         },
         {
          "font": {
           "color": "white",
           "family": "Trebuchet MS",
           "size": 12
          },
          "hovertext": "Hits for Category 1",
          "showarrow": false,
          "text": "Hit",
          "x": 448.5,
          "y": 1
         },
         {
          "font": {
           "color": "white",
           "family": "Trebuchet MS",
           "size": 12
          },
          "hovertext": "Hits for Category 1",
          "showarrow": false,
          "text": "Hit",
          "x": 1473.5,
          "y": 2
         },
         {
          "font": {
           "color": "white",
           "family": "Trebuchet MS",
           "size": 12
          },
          "hovertext": "Hits for Category 1",
          "showarrow": false,
          "text": "Hit",
          "x": 141.5,
          "y": 3
         }
        ],
        "barmode": "relative",
        "font": {
         "family": "Trebuchet MS",
         "size": 12
        },
        "height": 350,
        "hovermode": false,
        "legend": {
         "font": {
          "color": "black",
          "family": "Trebuchet MS",
          "size": 12
         },
         "orientation": "h",
         "title": {
          "text": ""
         },
         "tracegroupgap": 0,
         "x": 0.8,
         "xanchor": "right",
         "y": 1.02,
         "yanchor": "bottom"
        },
        "margin": {
         "t": 60
        },
        "paper_bgcolor": "rgba(0,0,0,0)",
        "plot_bgcolor": "rgba(0,0,0,0)",
        "template": {
         "data": {
          "bar": [
           {
            "error_x": {
             "color": "rgb(36,36,36)"
            },
            "error_y": {
             "color": "rgb(36,36,36)"
            },
            "marker": {
             "line": {
              "color": "white",
              "width": 0.5
             }
            },
            "type": "bar"
           }
          ],
          "barpolar": [
           {
            "marker": {
             "line": {
              "color": "white",
              "width": 0.5
             }
            },
            "type": "barpolar"
           }
          ],
          "carpet": [
           {
            "aaxis": {
             "endlinecolor": "rgb(36,36,36)",
             "gridcolor": "white",
             "linecolor": "white",
             "minorgridcolor": "white",
             "startlinecolor": "rgb(36,36,36)"
            },
            "baxis": {
             "endlinecolor": "rgb(36,36,36)",
             "gridcolor": "white",
             "linecolor": "white",
             "minorgridcolor": "white",
             "startlinecolor": "rgb(36,36,36)"
            },
            "type": "carpet"
           }
          ],
          "choropleth": [
           {
            "colorbar": {
             "outlinewidth": 1,
             "tickcolor": "rgb(36,36,36)",
             "ticks": "outside"
            },
            "type": "choropleth"
           }
          ],
          "contour": [
           {
            "colorbar": {
             "outlinewidth": 1,
             "tickcolor": "rgb(36,36,36)",
             "ticks": "outside"
            },
            "colorscale": [
             [
              0,
              "#440154"
             ],
             [
              0.1111111111111111,
              "#482878"
             ],
             [
              0.2222222222222222,
              "#3e4989"
             ],
             [
              0.3333333333333333,
              "#31688e"
             ],
             [
              0.4444444444444444,
              "#26828e"
             ],
             [
              0.5555555555555556,
              "#1f9e89"
             ],
             [
              0.6666666666666666,
              "#35b779"
             ],
             [
              0.7777777777777778,
              "#6ece58"
             ],
             [
              0.8888888888888888,
              "#b5de2b"
             ],
             [
              1,
              "#fde725"
             ]
            ],
            "type": "contour"
           }
          ],
          "contourcarpet": [
           {
            "colorbar": {
             "outlinewidth": 1,
             "tickcolor": "rgb(36,36,36)",
             "ticks": "outside"
            },
            "type": "contourcarpet"
           }
          ],
          "heatmap": [
           {
            "colorbar": {
             "outlinewidth": 1,
             "tickcolor": "rgb(36,36,36)",
             "ticks": "outside"
            },
            "colorscale": [
             [
              0,
              "#440154"
             ],
             [
              0.1111111111111111,
              "#482878"
             ],
             [
              0.2222222222222222,
              "#3e4989"
             ],
             [
              0.3333333333333333,
              "#31688e"
             ],
             [
              0.4444444444444444,
              "#26828e"
             ],
             [
              0.5555555555555556,
              "#1f9e89"
             ],
             [
              0.6666666666666666,
              "#35b779"
             ],
             [
              0.7777777777777778,
              "#6ece58"
             ],
             [
              0.8888888888888888,
              "#b5de2b"
             ],
             [
              1,
              "#fde725"
             ]
            ],
            "type": "heatmap"
           }
          ],
          "heatmapgl": [
           {
            "colorbar": {
             "outlinewidth": 1,
             "tickcolor": "rgb(36,36,36)",
             "ticks": "outside"
            },
            "colorscale": [
             [
              0,
              "#440154"
             ],
             [
              0.1111111111111111,
              "#482878"
             ],
             [
              0.2222222222222222,
              "#3e4989"
             ],
             [
              0.3333333333333333,
              "#31688e"
             ],
             [
              0.4444444444444444,
              "#26828e"
             ],
             [
              0.5555555555555556,
              "#1f9e89"
             ],
             [
              0.6666666666666666,
              "#35b779"
             ],
             [
              0.7777777777777778,
              "#6ece58"
             ],
             [
              0.8888888888888888,
              "#b5de2b"
             ],
             [
              1,
              "#fde725"
             ]
            ],
            "type": "heatmapgl"
           }
          ],
          "histogram": [
           {
            "marker": {
             "line": {
              "color": "white",
              "width": 0.6
             }
            },
            "type": "histogram"
           }
          ],
          "histogram2d": [
           {
            "colorbar": {
             "outlinewidth": 1,
             "tickcolor": "rgb(36,36,36)",
             "ticks": "outside"
            },
            "colorscale": [
             [
              0,
              "#440154"
             ],
             [
              0.1111111111111111,
              "#482878"
             ],
             [
              0.2222222222222222,
              "#3e4989"
             ],
             [
              0.3333333333333333,
              "#31688e"
             ],
             [
              0.4444444444444444,
              "#26828e"
             ],
             [
              0.5555555555555556,
              "#1f9e89"
             ],
             [
              0.6666666666666666,
              "#35b779"
             ],
             [
              0.7777777777777778,
              "#6ece58"
             ],
             [
              0.8888888888888888,
              "#b5de2b"
             ],
             [
              1,
              "#fde725"
             ]
            ],
            "type": "histogram2d"
           }
          ],
          "histogram2dcontour": [
           {
            "colorbar": {
             "outlinewidth": 1,
             "tickcolor": "rgb(36,36,36)",
             "ticks": "outside"
            },
            "colorscale": [
             [
              0,
              "#440154"
             ],
             [
              0.1111111111111111,
              "#482878"
             ],
             [
              0.2222222222222222,
              "#3e4989"
             ],
             [
              0.3333333333333333,
              "#31688e"
             ],
             [
              0.4444444444444444,
              "#26828e"
             ],
             [
              0.5555555555555556,
              "#1f9e89"
             ],
             [
              0.6666666666666666,
              "#35b779"
             ],
             [
              0.7777777777777778,
              "#6ece58"
             ],
             [
              0.8888888888888888,
              "#b5de2b"
             ],
             [
              1,
              "#fde725"
             ]
            ],
            "type": "histogram2dcontour"
           }
          ],
          "mesh3d": [
           {
            "colorbar": {
             "outlinewidth": 1,
             "tickcolor": "rgb(36,36,36)",
             "ticks": "outside"
            },
            "type": "mesh3d"
           }
          ],
          "parcoords": [
           {
            "line": {
             "colorbar": {
              "outlinewidth": 1,
              "tickcolor": "rgb(36,36,36)",
              "ticks": "outside"
             }
            },
            "type": "parcoords"
           }
          ],
          "pie": [
           {
            "automargin": true,
            "type": "pie"
           }
          ],
          "scatter": [
           {
            "marker": {
             "colorbar": {
              "outlinewidth": 1,
              "tickcolor": "rgb(36,36,36)",
              "ticks": "outside"
             }
            },
            "type": "scatter"
           }
          ],
          "scatter3d": [
           {
            "line": {
             "colorbar": {
              "outlinewidth": 1,
              "tickcolor": "rgb(36,36,36)",
              "ticks": "outside"
             }
            },
            "marker": {
             "colorbar": {
              "outlinewidth": 1,
              "tickcolor": "rgb(36,36,36)",
              "ticks": "outside"
             }
            },
            "type": "scatter3d"
           }
          ],
          "scattercarpet": [
           {
            "marker": {
             "colorbar": {
              "outlinewidth": 1,
              "tickcolor": "rgb(36,36,36)",
              "ticks": "outside"
             }
            },
            "type": "scattercarpet"
           }
          ],
          "scattergeo": [
           {
            "marker": {
             "colorbar": {
              "outlinewidth": 1,
              "tickcolor": "rgb(36,36,36)",
              "ticks": "outside"
             }
            },
            "type": "scattergeo"
           }
          ],
          "scattergl": [
           {
            "marker": {
             "colorbar": {
              "outlinewidth": 1,
              "tickcolor": "rgb(36,36,36)",
              "ticks": "outside"
             }
            },
            "type": "scattergl"
           }
          ],
          "scattermapbox": [
           {
            "marker": {
             "colorbar": {
              "outlinewidth": 1,
              "tickcolor": "rgb(36,36,36)",
              "ticks": "outside"
             }
            },
            "type": "scattermapbox"
           }
          ],
          "scatterpolar": [
           {
            "marker": {
             "colorbar": {
              "outlinewidth": 1,
              "tickcolor": "rgb(36,36,36)",
              "ticks": "outside"
             }
            },
            "type": "scatterpolar"
           }
          ],
          "scatterpolargl": [
           {
            "marker": {
             "colorbar": {
              "outlinewidth": 1,
              "tickcolor": "rgb(36,36,36)",
              "ticks": "outside"
             }
            },
            "type": "scatterpolargl"
           }
          ],
          "scatterternary": [
           {
            "marker": {
             "colorbar": {
              "outlinewidth": 1,
              "tickcolor": "rgb(36,36,36)",
              "ticks": "outside"
             }
            },
            "type": "scatterternary"
           }
          ],
          "surface": [
           {
            "colorbar": {
             "outlinewidth": 1,
             "tickcolor": "rgb(36,36,36)",
             "ticks": "outside"
            },
            "colorscale": [
             [
              0,
              "#440154"
             ],
             [
              0.1111111111111111,
              "#482878"
             ],
             [
              0.2222222222222222,
              "#3e4989"
             ],
             [
              0.3333333333333333,
              "#31688e"
             ],
             [
              0.4444444444444444,
              "#26828e"
             ],
             [
              0.5555555555555556,
              "#1f9e89"
             ],
             [
              0.6666666666666666,
              "#35b779"
             ],
             [
              0.7777777777777778,
              "#6ece58"
             ],
             [
              0.8888888888888888,
              "#b5de2b"
             ],
             [
              1,
              "#fde725"
             ]
            ],
            "type": "surface"
           }
          ],
          "table": [
           {
            "cells": {
             "fill": {
              "color": "rgb(237,237,237)"
             },
             "line": {
              "color": "white"
             }
            },
            "header": {
             "fill": {
              "color": "rgb(217,217,217)"
             },
             "line": {
              "color": "white"
             }
            },
            "type": "table"
           }
          ]
         },
         "layout": {
          "annotationdefaults": {
           "arrowhead": 0,
           "arrowwidth": 1
          },
          "coloraxis": {
           "colorbar": {
            "outlinewidth": 1,
            "tickcolor": "rgb(36,36,36)",
            "ticks": "outside"
           }
          },
          "colorscale": {
           "diverging": [
            [
             0,
             "rgb(103,0,31)"
            ],
            [
             0.1,
             "rgb(178,24,43)"
            ],
            [
             0.2,
             "rgb(214,96,77)"
            ],
            [
             0.3,
             "rgb(244,165,130)"
            ],
            [
             0.4,
             "rgb(253,219,199)"
            ],
            [
             0.5,
             "rgb(247,247,247)"
            ],
            [
             0.6,
             "rgb(209,229,240)"
            ],
            [
             0.7,
             "rgb(146,197,222)"
            ],
            [
             0.8,
             "rgb(67,147,195)"
            ],
            [
             0.9,
             "rgb(33,102,172)"
            ],
            [
             1,
             "rgb(5,48,97)"
            ]
           ],
           "sequential": [
            [
             0,
             "#440154"
            ],
            [
             0.1111111111111111,
             "#482878"
            ],
            [
             0.2222222222222222,
             "#3e4989"
            ],
            [
             0.3333333333333333,
             "#31688e"
            ],
            [
             0.4444444444444444,
             "#26828e"
            ],
            [
             0.5555555555555556,
             "#1f9e89"
            ],
            [
             0.6666666666666666,
             "#35b779"
            ],
            [
             0.7777777777777778,
             "#6ece58"
            ],
            [
             0.8888888888888888,
             "#b5de2b"
            ],
            [
             1,
             "#fde725"
            ]
           ],
           "sequentialminus": [
            [
             0,
             "#440154"
            ],
            [
             0.1111111111111111,
             "#482878"
            ],
            [
             0.2222222222222222,
             "#3e4989"
            ],
            [
             0.3333333333333333,
             "#31688e"
            ],
            [
             0.4444444444444444,
             "#26828e"
            ],
            [
             0.5555555555555556,
             "#1f9e89"
            ],
            [
             0.6666666666666666,
             "#35b779"
            ],
            [
             0.7777777777777778,
             "#6ece58"
            ],
            [
             0.8888888888888888,
             "#b5de2b"
            ],
            [
             1,
             "#fde725"
            ]
           ]
          },
          "colorway": [
           "#1F77B4",
           "#FF7F0E",
           "#2CA02C",
           "#D62728",
           "#9467BD",
           "#8C564B",
           "#E377C2",
           "#7F7F7F",
           "#BCBD22",
           "#17BECF"
          ],
          "font": {
           "color": "rgb(36,36,36)"
          },
          "geo": {
           "bgcolor": "white",
           "lakecolor": "white",
           "landcolor": "white",
           "showlakes": true,
           "showland": true,
           "subunitcolor": "white"
          },
          "hoverlabel": {
           "align": "left"
          },
          "hovermode": "closest",
          "mapbox": {
           "style": "light"
          },
          "paper_bgcolor": "white",
          "plot_bgcolor": "white",
          "polar": {
           "angularaxis": {
            "gridcolor": "rgb(232,232,232)",
            "linecolor": "rgb(36,36,36)",
            "showgrid": false,
            "showline": true,
            "ticks": "outside"
           },
           "bgcolor": "white",
           "radialaxis": {
            "gridcolor": "rgb(232,232,232)",
            "linecolor": "rgb(36,36,36)",
            "showgrid": false,
            "showline": true,
            "ticks": "outside"
           }
          },
          "scene": {
           "xaxis": {
            "backgroundcolor": "white",
            "gridcolor": "rgb(232,232,232)",
            "gridwidth": 2,
            "linecolor": "rgb(36,36,36)",
            "showbackground": true,
            "showgrid": false,
            "showline": true,
            "ticks": "outside",
            "zeroline": false,
            "zerolinecolor": "rgb(36,36,36)"
           },
           "yaxis": {
            "backgroundcolor": "white",
            "gridcolor": "rgb(232,232,232)",
            "gridwidth": 2,
            "linecolor": "rgb(36,36,36)",
            "showbackground": true,
            "showgrid": false,
            "showline": true,
            "ticks": "outside",
            "zeroline": false,
            "zerolinecolor": "rgb(36,36,36)"
           },
           "zaxis": {
            "backgroundcolor": "white",
            "gridcolor": "rgb(232,232,232)",
            "gridwidth": 2,
            "linecolor": "rgb(36,36,36)",
            "showbackground": true,
            "showgrid": false,
            "showline": true,
            "ticks": "outside",
            "zeroline": false,
            "zerolinecolor": "rgb(36,36,36)"
           }
          },
          "shapedefaults": {
           "fillcolor": "black",
           "line": {
            "width": 0
           },
           "opacity": 0.3
          },
          "ternary": {
           "aaxis": {
            "gridcolor": "rgb(232,232,232)",
            "linecolor": "rgb(36,36,36)",
            "showgrid": false,
            "showline": true,
            "ticks": "outside"
           },
           "baxis": {
            "gridcolor": "rgb(232,232,232)",
            "linecolor": "rgb(36,36,36)",
            "showgrid": false,
            "showline": true,
            "ticks": "outside"
           },
           "bgcolor": "white",
           "caxis": {
            "gridcolor": "rgb(232,232,232)",
            "linecolor": "rgb(36,36,36)",
            "showgrid": false,
            "showline": true,
            "ticks": "outside"
           }
          },
          "title": {
           "x": 0.05
          },
          "xaxis": {
           "automargin": true,
           "gridcolor": "rgb(232,232,232)",
           "linecolor": "rgb(36,36,36)",
           "showgrid": false,
           "showline": true,
           "ticks": "outside",
           "title": {
            "standoff": 15
           },
           "zeroline": false,
           "zerolinecolor": "rgb(36,36,36)"
          },
          "yaxis": {
           "automargin": true,
           "gridcolor": "rgb(232,232,232)",
           "linecolor": "rgb(36,36,36)",
           "showgrid": false,
           "showline": true,
           "ticks": "outside",
           "title": {
            "standoff": 15
           },
           "zeroline": false,
           "zerolinecolor": "rgb(36,36,36)"
          }
         }
        },
        "width": 600,
        "xaxis": {
         "anchor": "y",
         "domain": [
          0,
          1
         ],
         "dtick": 1,
         "tickvals": [
          0,
          500,
          1000,
          1500,
          2000,
          2500
         ],
         "title": {
          "font": {
           "color": "black",
           "family": "Trebuchet MS",
           "size": 12
          },
          "text": "Entry size as number of Observations"
         }
        },
        "yaxis": {
         "anchor": "x",
         "autorange": "reversed",
         "domain": [
          0,
          1
         ],
         "title": {
          "font": {
           "color": "blue",
           "family": "Trebuchet MS",
           "size": 12
          },
          "text": "Table Feature"
         },
         "type": "category"
        }
       }
      },
      "text/html": [
       "<div>                            <div id=\"bf08247d-9a3b-4d9a-9d3b-6dc0bde9574f\" class=\"plotly-graph-div\" style=\"height:350px; width:600px;\"></div>            <script type=\"text/javascript\">                require([\"plotly\"], function(Plotly) {                    window.PLOTLYENV=window.PLOTLYENV || {};                                    if (document.getElementById(\"bf08247d-9a3b-4d9a-9d3b-6dc0bde9574f\")) {                    Plotly.newPlot(                        \"bf08247d-9a3b-4d9a-9d3b-6dc0bde9574f\",                        [{\"alignmentgroup\": \"True\", \"hovertemplate\": \"variable=Built<br>value=%{x}<br>index=%{y}<extra></extra>\", \"legendgroup\": \"Built\", \"marker\": {\"color\": \"rgb(228,26,28)\", \"opacity\": 1}, \"name\": \"Built\", \"offsetgroup\": \"Built\", \"orientation\": \"h\", \"showlegend\": true, \"textposition\": \"auto\", \"type\": \"bar\", \"x\": [612, 168, 292, 10, 470, 25], \"xaxis\": \"x\", \"y\": [\"Built\", \"Barren\", \"Forest\", \"Water\", \"Miss\", \"False Alarm\"], \"yaxis\": \"y\"}, {\"alignmentgroup\": \"True\", \"hovertemplate\": \"variable=Barren<br>value=%{x}<br>index=%{y}<extra></extra>\", \"legendgroup\": \"Barren\", \"marker\": {\"color\": \"rgb(55,126,184)\", \"opacity\": 1}, \"name\": \"Barren\", \"offsetgroup\": \"Barren\", \"orientation\": \"h\", \"showlegend\": true, \"textposition\": \"auto\", \"type\": \"bar\", \"x\": [20, 561, 83, 30, 133, 178], \"xaxis\": \"x\", \"y\": [\"Built\", \"Barren\", \"Forest\", \"Water\", \"Miss\", \"False Alarm\"], \"yaxis\": \"y\"}, {\"alignmentgroup\": \"True\", \"hovertemplate\": \"variable=Forest<br>value=%{x}<br>index=%{y}<extra></extra>\", \"legendgroup\": \"Forest\", \"marker\": {\"color\": \"rgb(77,175,74)\", \"opacity\": 1}, \"name\": \"Forest\", \"offsetgroup\": \"Forest\", \"orientation\": \"h\", \"showlegend\": true, \"textposition\": \"auto\", \"type\": \"bar\", \"x\": [5, 0, 2197, 10, 15, 375], \"xaxis\": \"x\", \"y\": [\"Built\", \"Barren\", \"Forest\", \"Water\", \"Miss\", \"False Alarm\"], \"yaxis\": \"y\"}, {\"alignmentgroup\": \"True\", \"hovertemplate\": \"variable=Water<br>value=%{x}<br>index=%{y}<extra></extra>\", \"legendgroup\": \"Water\", \"marker\": {\"color\": \"rgb(152,78,163)\", \"opacity\": 1}, \"name\": \"Water\", \"offsetgroup\": \"Water\", \"orientation\": \"h\", \"showlegend\": true, \"textposition\": \"auto\", \"type\": \"bar\", \"x\": [0, 10, 0, 183, 10, 50], \"xaxis\": \"x\", \"y\": [\"Built\", \"Barren\", \"Forest\", \"Water\", \"Miss\", \"False Alarm\"], \"yaxis\": \"y\"}],                        {\"annotations\": [{\"font\": {\"color\": \"white\", \"family\": \"Trebuchet MS\", \"size\": 12}, \"hovertext\": \"Hits for Category 1\", \"showarrow\": false, \"text\": \"Hit\", \"x\": 306.0, \"y\": 0}, {\"font\": {\"color\": \"white\", \"family\": \"Trebuchet MS\", \"size\": 12}, \"hovertext\": \"Hits for Category 1\", \"showarrow\": false, \"text\": \"Hit\", \"x\": 448.5, \"y\": 1}, {\"font\": {\"color\": \"white\", \"family\": \"Trebuchet MS\", \"size\": 12}, \"hovertext\": \"Hits for Category 1\", \"showarrow\": false, \"text\": \"Hit\", \"x\": 1473.5, \"y\": 2}, {\"font\": {\"color\": \"white\", \"family\": \"Trebuchet MS\", \"size\": 12}, \"hovertext\": \"Hits for Category 1\", \"showarrow\": false, \"text\": \"Hit\", \"x\": 141.5, \"y\": 3}], \"barmode\": \"relative\", \"font\": {\"family\": \"Trebuchet MS\", \"size\": 12}, \"height\": 350, \"hovermode\": false, \"legend\": {\"font\": {\"color\": \"black\", \"family\": \"Trebuchet MS\", \"size\": 12}, \"orientation\": \"h\", \"title\": {\"text\": \"\"}, \"tracegroupgap\": 0, \"x\": 0.8, \"xanchor\": \"right\", \"y\": 1.02, \"yanchor\": \"bottom\"}, \"margin\": {\"t\": 60}, \"paper_bgcolor\": \"rgba(0,0,0,0)\", \"plot_bgcolor\": \"rgba(0,0,0,0)\", \"template\": {\"data\": {\"bar\": [{\"error_x\": {\"color\": \"rgb(36,36,36)\"}, \"error_y\": {\"color\": \"rgb(36,36,36)\"}, \"marker\": {\"line\": {\"color\": \"white\", \"width\": 0.5}}, \"type\": \"bar\"}], \"barpolar\": [{\"marker\": {\"line\": {\"color\": \"white\", \"width\": 0.5}}, \"type\": \"barpolar\"}], \"carpet\": [{\"aaxis\": {\"endlinecolor\": \"rgb(36,36,36)\", \"gridcolor\": \"white\", \"linecolor\": \"white\", \"minorgridcolor\": \"white\", \"startlinecolor\": \"rgb(36,36,36)\"}, \"baxis\": {\"endlinecolor\": \"rgb(36,36,36)\", \"gridcolor\": \"white\", \"linecolor\": \"white\", \"minorgridcolor\": \"white\", \"startlinecolor\": \"rgb(36,36,36)\"}, \"type\": \"carpet\"}], \"choropleth\": [{\"colorbar\": {\"outlinewidth\": 1, \"tickcolor\": \"rgb(36,36,36)\", \"ticks\": \"outside\"}, \"type\": \"choropleth\"}], \"contour\": [{\"colorbar\": {\"outlinewidth\": 1, \"tickcolor\": \"rgb(36,36,36)\", \"ticks\": \"outside\"}, \"colorscale\": [[0.0, \"#440154\"], [0.1111111111111111, \"#482878\"], [0.2222222222222222, \"#3e4989\"], [0.3333333333333333, \"#31688e\"], [0.4444444444444444, \"#26828e\"], [0.5555555555555556, \"#1f9e89\"], [0.6666666666666666, \"#35b779\"], [0.7777777777777778, \"#6ece58\"], [0.8888888888888888, \"#b5de2b\"], [1.0, \"#fde725\"]], \"type\": \"contour\"}], \"contourcarpet\": [{\"colorbar\": {\"outlinewidth\": 1, \"tickcolor\": \"rgb(36,36,36)\", \"ticks\": \"outside\"}, \"type\": \"contourcarpet\"}], \"heatmap\": [{\"colorbar\": {\"outlinewidth\": 1, \"tickcolor\": \"rgb(36,36,36)\", \"ticks\": \"outside\"}, \"colorscale\": [[0.0, \"#440154\"], [0.1111111111111111, \"#482878\"], [0.2222222222222222, \"#3e4989\"], [0.3333333333333333, \"#31688e\"], [0.4444444444444444, \"#26828e\"], [0.5555555555555556, \"#1f9e89\"], [0.6666666666666666, \"#35b779\"], [0.7777777777777778, \"#6ece58\"], [0.8888888888888888, \"#b5de2b\"], [1.0, \"#fde725\"]], \"type\": \"heatmap\"}], \"heatmapgl\": [{\"colorbar\": {\"outlinewidth\": 1, \"tickcolor\": \"rgb(36,36,36)\", \"ticks\": \"outside\"}, \"colorscale\": [[0.0, \"#440154\"], [0.1111111111111111, \"#482878\"], [0.2222222222222222, \"#3e4989\"], [0.3333333333333333, \"#31688e\"], [0.4444444444444444, \"#26828e\"], [0.5555555555555556, \"#1f9e89\"], [0.6666666666666666, \"#35b779\"], [0.7777777777777778, \"#6ece58\"], [0.8888888888888888, \"#b5de2b\"], [1.0, \"#fde725\"]], \"type\": \"heatmapgl\"}], \"histogram\": [{\"marker\": {\"line\": {\"color\": \"white\", \"width\": 0.6}}, \"type\": \"histogram\"}], \"histogram2d\": [{\"colorbar\": {\"outlinewidth\": 1, \"tickcolor\": \"rgb(36,36,36)\", \"ticks\": \"outside\"}, \"colorscale\": [[0.0, \"#440154\"], [0.1111111111111111, \"#482878\"], [0.2222222222222222, \"#3e4989\"], [0.3333333333333333, \"#31688e\"], [0.4444444444444444, \"#26828e\"], [0.5555555555555556, \"#1f9e89\"], [0.6666666666666666, \"#35b779\"], [0.7777777777777778, \"#6ece58\"], [0.8888888888888888, \"#b5de2b\"], [1.0, \"#fde725\"]], \"type\": \"histogram2d\"}], \"histogram2dcontour\": [{\"colorbar\": {\"outlinewidth\": 1, \"tickcolor\": \"rgb(36,36,36)\", \"ticks\": \"outside\"}, \"colorscale\": [[0.0, \"#440154\"], [0.1111111111111111, \"#482878\"], [0.2222222222222222, \"#3e4989\"], [0.3333333333333333, \"#31688e\"], [0.4444444444444444, \"#26828e\"], [0.5555555555555556, \"#1f9e89\"], [0.6666666666666666, \"#35b779\"], [0.7777777777777778, \"#6ece58\"], [0.8888888888888888, \"#b5de2b\"], [1.0, \"#fde725\"]], \"type\": \"histogram2dcontour\"}], \"mesh3d\": [{\"colorbar\": {\"outlinewidth\": 1, \"tickcolor\": \"rgb(36,36,36)\", \"ticks\": \"outside\"}, \"type\": \"mesh3d\"}], \"parcoords\": [{\"line\": {\"colorbar\": {\"outlinewidth\": 1, \"tickcolor\": \"rgb(36,36,36)\", \"ticks\": \"outside\"}}, \"type\": \"parcoords\"}], \"pie\": [{\"automargin\": true, \"type\": \"pie\"}], \"scatter\": [{\"marker\": {\"colorbar\": {\"outlinewidth\": 1, \"tickcolor\": \"rgb(36,36,36)\", \"ticks\": \"outside\"}}, \"type\": \"scatter\"}], \"scatter3d\": [{\"line\": {\"colorbar\": {\"outlinewidth\": 1, \"tickcolor\": \"rgb(36,36,36)\", \"ticks\": \"outside\"}}, \"marker\": {\"colorbar\": {\"outlinewidth\": 1, \"tickcolor\": \"rgb(36,36,36)\", \"ticks\": \"outside\"}}, \"type\": \"scatter3d\"}], \"scattercarpet\": [{\"marker\": {\"colorbar\": {\"outlinewidth\": 1, \"tickcolor\": \"rgb(36,36,36)\", \"ticks\": \"outside\"}}, \"type\": \"scattercarpet\"}], \"scattergeo\": [{\"marker\": {\"colorbar\": {\"outlinewidth\": 1, \"tickcolor\": \"rgb(36,36,36)\", \"ticks\": \"outside\"}}, \"type\": \"scattergeo\"}], \"scattergl\": [{\"marker\": {\"colorbar\": {\"outlinewidth\": 1, \"tickcolor\": \"rgb(36,36,36)\", \"ticks\": \"outside\"}}, \"type\": \"scattergl\"}], \"scattermapbox\": [{\"marker\": {\"colorbar\": {\"outlinewidth\": 1, \"tickcolor\": \"rgb(36,36,36)\", \"ticks\": \"outside\"}}, \"type\": \"scattermapbox\"}], \"scatterpolar\": [{\"marker\": {\"colorbar\": {\"outlinewidth\": 1, \"tickcolor\": \"rgb(36,36,36)\", \"ticks\": \"outside\"}}, \"type\": \"scatterpolar\"}], \"scatterpolargl\": [{\"marker\": {\"colorbar\": {\"outlinewidth\": 1, \"tickcolor\": \"rgb(36,36,36)\", \"ticks\": \"outside\"}}, \"type\": \"scatterpolargl\"}], \"scatterternary\": [{\"marker\": {\"colorbar\": {\"outlinewidth\": 1, \"tickcolor\": \"rgb(36,36,36)\", \"ticks\": \"outside\"}}, \"type\": \"scatterternary\"}], \"surface\": [{\"colorbar\": {\"outlinewidth\": 1, \"tickcolor\": \"rgb(36,36,36)\", \"ticks\": \"outside\"}, \"colorscale\": [[0.0, \"#440154\"], [0.1111111111111111, \"#482878\"], [0.2222222222222222, \"#3e4989\"], [0.3333333333333333, \"#31688e\"], [0.4444444444444444, \"#26828e\"], [0.5555555555555556, \"#1f9e89\"], [0.6666666666666666, \"#35b779\"], [0.7777777777777778, \"#6ece58\"], [0.8888888888888888, \"#b5de2b\"], [1.0, \"#fde725\"]], \"type\": \"surface\"}], \"table\": [{\"cells\": {\"fill\": {\"color\": \"rgb(237,237,237)\"}, \"line\": {\"color\": \"white\"}}, \"header\": {\"fill\": {\"color\": \"rgb(217,217,217)\"}, \"line\": {\"color\": \"white\"}}, \"type\": \"table\"}]}, \"layout\": {\"annotationdefaults\": {\"arrowhead\": 0, \"arrowwidth\": 1}, \"coloraxis\": {\"colorbar\": {\"outlinewidth\": 1, \"tickcolor\": \"rgb(36,36,36)\", \"ticks\": \"outside\"}}, \"colorscale\": {\"diverging\": [[0.0, \"rgb(103,0,31)\"], [0.1, \"rgb(178,24,43)\"], [0.2, \"rgb(214,96,77)\"], [0.3, \"rgb(244,165,130)\"], [0.4, \"rgb(253,219,199)\"], [0.5, \"rgb(247,247,247)\"], [0.6, \"rgb(209,229,240)\"], [0.7, \"rgb(146,197,222)\"], [0.8, \"rgb(67,147,195)\"], [0.9, \"rgb(33,102,172)\"], [1.0, \"rgb(5,48,97)\"]], \"sequential\": [[0.0, \"#440154\"], [0.1111111111111111, \"#482878\"], [0.2222222222222222, \"#3e4989\"], [0.3333333333333333, \"#31688e\"], [0.4444444444444444, \"#26828e\"], [0.5555555555555556, \"#1f9e89\"], [0.6666666666666666, \"#35b779\"], [0.7777777777777778, \"#6ece58\"], [0.8888888888888888, \"#b5de2b\"], [1.0, \"#fde725\"]], \"sequentialminus\": [[0.0, \"#440154\"], [0.1111111111111111, \"#482878\"], [0.2222222222222222, \"#3e4989\"], [0.3333333333333333, \"#31688e\"], [0.4444444444444444, \"#26828e\"], [0.5555555555555556, \"#1f9e89\"], [0.6666666666666666, \"#35b779\"], [0.7777777777777778, \"#6ece58\"], [0.8888888888888888, \"#b5de2b\"], [1.0, \"#fde725\"]]}, \"colorway\": [\"#1F77B4\", \"#FF7F0E\", \"#2CA02C\", \"#D62728\", \"#9467BD\", \"#8C564B\", \"#E377C2\", \"#7F7F7F\", \"#BCBD22\", \"#17BECF\"], \"font\": {\"color\": \"rgb(36,36,36)\"}, \"geo\": {\"bgcolor\": \"white\", \"lakecolor\": \"white\", \"landcolor\": \"white\", \"showlakes\": true, \"showland\": true, \"subunitcolor\": \"white\"}, \"hoverlabel\": {\"align\": \"left\"}, \"hovermode\": \"closest\", \"mapbox\": {\"style\": \"light\"}, \"paper_bgcolor\": \"white\", \"plot_bgcolor\": \"white\", \"polar\": {\"angularaxis\": {\"gridcolor\": \"rgb(232,232,232)\", \"linecolor\": \"rgb(36,36,36)\", \"showgrid\": false, \"showline\": true, \"ticks\": \"outside\"}, \"bgcolor\": \"white\", \"radialaxis\": {\"gridcolor\": \"rgb(232,232,232)\", \"linecolor\": \"rgb(36,36,36)\", \"showgrid\": false, \"showline\": true, \"ticks\": \"outside\"}}, \"scene\": {\"xaxis\": {\"backgroundcolor\": \"white\", \"gridcolor\": \"rgb(232,232,232)\", \"gridwidth\": 2, \"linecolor\": \"rgb(36,36,36)\", \"showbackground\": true, \"showgrid\": false, \"showline\": true, \"ticks\": \"outside\", \"zeroline\": false, \"zerolinecolor\": \"rgb(36,36,36)\"}, \"yaxis\": {\"backgroundcolor\": \"white\", \"gridcolor\": \"rgb(232,232,232)\", \"gridwidth\": 2, \"linecolor\": \"rgb(36,36,36)\", \"showbackground\": true, \"showgrid\": false, \"showline\": true, \"ticks\": \"outside\", \"zeroline\": false, \"zerolinecolor\": \"rgb(36,36,36)\"}, \"zaxis\": {\"backgroundcolor\": \"white\", \"gridcolor\": \"rgb(232,232,232)\", \"gridwidth\": 2, \"linecolor\": \"rgb(36,36,36)\", \"showbackground\": true, \"showgrid\": false, \"showline\": true, \"ticks\": \"outside\", \"zeroline\": false, \"zerolinecolor\": \"rgb(36,36,36)\"}}, \"shapedefaults\": {\"fillcolor\": \"black\", \"line\": {\"width\": 0}, \"opacity\": 0.3}, \"ternary\": {\"aaxis\": {\"gridcolor\": \"rgb(232,232,232)\", \"linecolor\": \"rgb(36,36,36)\", \"showgrid\": false, \"showline\": true, \"ticks\": \"outside\"}, \"baxis\": {\"gridcolor\": \"rgb(232,232,232)\", \"linecolor\": \"rgb(36,36,36)\", \"showgrid\": false, \"showline\": true, \"ticks\": \"outside\"}, \"bgcolor\": \"white\", \"caxis\": {\"gridcolor\": \"rgb(232,232,232)\", \"linecolor\": \"rgb(36,36,36)\", \"showgrid\": false, \"showline\": true, \"ticks\": \"outside\"}}, \"title\": {\"x\": 0.05}, \"xaxis\": {\"automargin\": true, \"gridcolor\": \"rgb(232,232,232)\", \"linecolor\": \"rgb(36,36,36)\", \"showgrid\": false, \"showline\": true, \"ticks\": \"outside\", \"title\": {\"standoff\": 15}, \"zeroline\": false, \"zerolinecolor\": \"rgb(36,36,36)\"}, \"yaxis\": {\"automargin\": true, \"gridcolor\": \"rgb(232,232,232)\", \"linecolor\": \"rgb(36,36,36)\", \"showgrid\": false, \"showline\": true, \"ticks\": \"outside\", \"title\": {\"standoff\": 15}, \"zeroline\": false, \"zerolinecolor\": \"rgb(36,36,36)\"}}}, \"width\": 600, \"xaxis\": {\"anchor\": \"y\", \"domain\": [0.0, 1.0], \"dtick\": 1, \"tickvals\": [0, 500, 1000, 1500, 2000, 2500], \"title\": {\"font\": {\"color\": \"black\", \"family\": \"Trebuchet MS\", \"size\": 12}, \"text\": \"Entry size as number of Observations\"}}, \"yaxis\": {\"anchor\": \"x\", \"autorange\": \"reversed\", \"domain\": [0.0, 1.0], \"title\": {\"font\": {\"color\": \"blue\", \"family\": \"Trebuchet MS\", \"size\": 12}, \"text\": \"Table Feature\"}, \"type\": \"category\"}},                        {\"responsive\": true}                    ).then(function(){\n",
       "                            \n",
       "var gd = document.getElementById('bf08247d-9a3b-4d9a-9d3b-6dc0bde9574f');\n",
       "var x = new MutationObserver(function (mutations, observer) {{\n",
       "        var display = window.getComputedStyle(gd).display;\n",
       "        if (!display || display === 'none') {{\n",
       "            console.log([gd, 'removed!']);\n",
       "            Plotly.purge(gd);\n",
       "            observer.disconnect();\n",
       "        }}\n",
       "}});\n",
       "\n",
       "// Listen for the removal of the full notebook cells\n",
       "var notebookContainer = gd.closest('#notebook-container');\n",
       "if (notebookContainer) {{\n",
       "    x.observe(notebookContainer, {childList: true});\n",
       "}}\n",
       "\n",
       "// Listen for the clearing of the current output cell\n",
       "var outputEl = gd.closest('.output');\n",
       "if (outputEl) {{\n",
       "    x.observe(outputEl, {childList: true});\n",
       "}}\n",
       "\n",
       "                        })                };                });            </script>        </div>"
      ]
     },
     "metadata": {},
     "output_type": "display_data"
    }
   ],
   "source": [
    "NewDataFrame.entrySize_sam()"
   ]
  },
  {
   "cell_type": "code",
   "execution_count": 31,
   "metadata": {},
   "outputs": [],
   "source": [
    "def entryIntensity_sam(self):\n",
    "\n",
    "    #get two tables ready; one for row intensity; another for column intensity\n",
    "    self.df_plot_RowIntensity = self.dataframe.copy(deep=True)\n",
    "    self.df_plot_ColumnIntensity = self.dataframe.copy(deep=True)\n",
    "    \n",
    "    # Delete disagreement column and row in the RowIntensity table\n",
    "    \n",
    "    # Devide each cell by the sum for each row in the RowIntensity table\n",
    "    \n",
    "    # Update the RowIntensity table\n",
    "    \n",
    "    # Delete sum column and row in the RowIntensity table\n",
    "    \n",
    "    # Change diagonal cells to 0 in the RowIntensity table\n",
    "    \n",
    "    # plot the RowIntensity table\n",
    "    fig = px.bar(self.df_plot_RowIntensity, y=self.df_plot_RowIntensity.index, x=self.df_plot_RowIntensity.columns,\n",
    "                 height=350, orientation='h', width=600,\n",
    "                 opacity=1, color_discrete_sequence=px.colors.qualitative.Set1,\n",
    "                 template=\"simple_white\")\n",
    "    \n",
    "    # Calculate the gaining category’s uniform transition intensity\n",
    "    \n",
    "    # Delete disagreement column and row in the ColumnIntensity table\n",
    "    \n",
    "    # Devide each cell by the sum for each row in the ColumnIntensity table\n",
    "    \n",
    "    # Update the ColumnIntensity table\n",
    "    \n",
    "    # Delete sum column and row in the ColumnIntensity table\n",
    "    \n",
    "    # Change diagonal cells to 0 in the ColumnIntensity table\n",
    "    \n",
    "    # plot the ColumnIntensity table and add the bars for ColumnIntensity to the fig above\n",
    "    \n",
    "    # update fig layout\n",
    "        layout = fig.update_layout(\n",
    "        font=dict(family=\"Trebuchet MS\", size=12),\n",
    "        hovermode=False,\n",
    "        paper_bgcolor='rgba(0,0,0,0)',\n",
    "        plot_bgcolor='rgba(0,0,0,0)',\n",
    "        yaxis=dict(autorange=\"reversed\", type='category', title='Table Feature',\n",
    "                   title_font=dict(size=12, family='Trebuchet MS', color='black')),\n",
    "        xaxis=dict(title='Entry intensity as percentage of category size', dtick=1,\n",
    "                   title_font=dict(size=12, family='Trebuchet MS', color='black')),\n",
    "        legend=dict(orientation=\"h\", yanchor=\"bottom\", y=1.02, xanchor=\"right\",\n",
    "                    x=0.8, title='',\n",
    "                    font=dict(family=\"Trebuchet MS\", size=12, color=\"black\"))\n",
    "    )\n",
    "    \n",
    "#annotation will be added if a particular transition intensity is greater than the gaining category’s uniform transition intensity\n",
    "\n",
    "        "
   ]
  },
  {
   "cell_type": "code",
   "execution_count": 36,
   "metadata": {},
   "outputs": [
    {
     "data": {
      "text/html": [
       "<div>\n",
       "<style scoped>\n",
       "    .dataframe tbody tr th:only-of-type {\n",
       "        vertical-align: middle;\n",
       "    }\n",
       "\n",
       "    .dataframe tbody tr th {\n",
       "        vertical-align: top;\n",
       "    }\n",
       "\n",
       "    .dataframe thead th {\n",
       "        text-align: right;\n",
       "    }\n",
       "</style>\n",
       "<table border=\"1\" class=\"dataframe\">\n",
       "  <thead>\n",
       "    <tr style=\"text-align: right;\">\n",
       "      <th></th>\n",
       "      <th>Built</th>\n",
       "      <th>Barren</th>\n",
       "      <th>Forest</th>\n",
       "      <th>Water</th>\n",
       "      <th>Sum</th>\n",
       "      <th>Row Disagreement</th>\n",
       "    </tr>\n",
       "  </thead>\n",
       "  <tbody>\n",
       "    <tr>\n",
       "      <th>Built</th>\n",
       "      <td>612</td>\n",
       "      <td>20</td>\n",
       "      <td>5</td>\n",
       "      <td>0</td>\n",
       "      <td>637</td>\n",
       "      <td>25</td>\n",
       "    </tr>\n",
       "    <tr>\n",
       "      <th>Barren</th>\n",
       "      <td>168</td>\n",
       "      <td>561</td>\n",
       "      <td>0</td>\n",
       "      <td>10</td>\n",
       "      <td>739</td>\n",
       "      <td>178</td>\n",
       "    </tr>\n",
       "    <tr>\n",
       "      <th>Forest</th>\n",
       "      <td>292</td>\n",
       "      <td>83</td>\n",
       "      <td>2197</td>\n",
       "      <td>0</td>\n",
       "      <td>2572</td>\n",
       "      <td>375</td>\n",
       "    </tr>\n",
       "    <tr>\n",
       "      <th>Water</th>\n",
       "      <td>10</td>\n",
       "      <td>30</td>\n",
       "      <td>10</td>\n",
       "      <td>183</td>\n",
       "      <td>233</td>\n",
       "      <td>50</td>\n",
       "    </tr>\n",
       "    <tr>\n",
       "      <th>Sum</th>\n",
       "      <td>1082</td>\n",
       "      <td>694</td>\n",
       "      <td>2212</td>\n",
       "      <td>193</td>\n",
       "      <td>4181</td>\n",
       "      <td>628</td>\n",
       "    </tr>\n",
       "    <tr>\n",
       "      <th>Column Disagreement</th>\n",
       "      <td>470</td>\n",
       "      <td>133</td>\n",
       "      <td>15</td>\n",
       "      <td>10</td>\n",
       "      <td>628</td>\n",
       "      <td></td>\n",
       "    </tr>\n",
       "  </tbody>\n",
       "</table>\n",
       "</div>"
      ],
      "text/plain": [
       "                     Built  Barren  Forest  Water   Sum Row Disagreement\n",
       "Built                  612      20       5      0   637               25\n",
       "Barren                 168     561       0     10   739              178\n",
       "Forest                 292      83    2197      0  2572              375\n",
       "Water                   10      30      10    183   233               50\n",
       "Sum                   1082     694    2212    193  4181              628\n",
       "Column Disagreement    470     133      15     10   628                 "
      ]
     },
     "execution_count": 36,
     "metadata": {},
     "output_type": "execute_result"
    }
   ],
   "source": [
    "NewDataFrame.matrix()"
   ]
  },
  {
   "cell_type": "code",
   "execution_count": 7,
   "metadata": {},
   "outputs": [
    {
     "data": {
      "text/html": [
       "<div>\n",
       "<style scoped>\n",
       "    .dataframe tbody tr th:only-of-type {\n",
       "        vertical-align: middle;\n",
       "    }\n",
       "\n",
       "    .dataframe tbody tr th {\n",
       "        vertical-align: top;\n",
       "    }\n",
       "\n",
       "    .dataframe thead th {\n",
       "        text-align: right;\n",
       "    }\n",
       "</style>\n",
       "<table border=\"1\" class=\"dataframe\">\n",
       "  <thead>\n",
       "    <tr style=\"text-align: right;\">\n",
       "      <th></th>\n",
       "      <th>Built</th>\n",
       "      <th>Barren</th>\n",
       "      <th>Forest</th>\n",
       "      <th>Water</th>\n",
       "      <th>Sum</th>\n",
       "      <th>Row Disagreement</th>\n",
       "    </tr>\n",
       "  </thead>\n",
       "  <tbody>\n",
       "    <tr>\n",
       "      <th>Built</th>\n",
       "      <td>612</td>\n",
       "      <td>20</td>\n",
       "      <td>5</td>\n",
       "      <td>0</td>\n",
       "      <td>637</td>\n",
       "      <td>25</td>\n",
       "    </tr>\n",
       "    <tr>\n",
       "      <th>Barren</th>\n",
       "      <td>168</td>\n",
       "      <td>561</td>\n",
       "      <td>0</td>\n",
       "      <td>10</td>\n",
       "      <td>739</td>\n",
       "      <td>178</td>\n",
       "    </tr>\n",
       "    <tr>\n",
       "      <th>Forest</th>\n",
       "      <td>292</td>\n",
       "      <td>83</td>\n",
       "      <td>2197</td>\n",
       "      <td>0</td>\n",
       "      <td>2572</td>\n",
       "      <td>375</td>\n",
       "    </tr>\n",
       "    <tr>\n",
       "      <th>Water</th>\n",
       "      <td>10</td>\n",
       "      <td>30</td>\n",
       "      <td>10</td>\n",
       "      <td>183</td>\n",
       "      <td>233</td>\n",
       "      <td>50</td>\n",
       "    </tr>\n",
       "    <tr>\n",
       "      <th>Sum</th>\n",
       "      <td>1082</td>\n",
       "      <td>694</td>\n",
       "      <td>2212</td>\n",
       "      <td>193</td>\n",
       "      <td>4181</td>\n",
       "      <td>628</td>\n",
       "    </tr>\n",
       "    <tr>\n",
       "      <th>Column Disagreement</th>\n",
       "      <td>470</td>\n",
       "      <td>133</td>\n",
       "      <td>15</td>\n",
       "      <td>10</td>\n",
       "      <td>628</td>\n",
       "      <td></td>\n",
       "    </tr>\n",
       "  </tbody>\n",
       "</table>\n",
       "</div>"
      ],
      "text/plain": [
       "                     Built  Barren  Forest  Water   Sum Row Disagreement\n",
       "Built                  612      20       5      0   637               25\n",
       "Barren                 168     561       0     10   739              178\n",
       "Forest                 292      83    2197      0  2572              375\n",
       "Water                   10      30      10    183   233               50\n",
       "Sum                   1082     694    2212    193  4181              628\n",
       "Column Disagreement    470     133      15     10   628                 "
      ]
     },
     "metadata": {},
     "output_type": "display_data"
    }
   ],
   "source": [
    "display(NewDataFrame.matrix())"
   ]
  },
  {
   "cell_type": "code",
   "execution_count": 8,
   "metadata": {},
   "outputs": [
    {
     "data": {
      "text/plain": [
       "612"
      ]
     },
     "execution_count": 8,
     "metadata": {},
     "output_type": "execute_result"
    }
   ],
   "source": [
    "NewDataFrame.agreement(0)"
   ]
  },
  {
   "cell_type": "code",
   "execution_count": 9,
   "metadata": {},
   "outputs": [
    {
     "data": {
      "text/plain": [
       "25"
      ]
     },
     "execution_count": 9,
     "metadata": {},
     "output_type": "execute_result"
    }
   ],
   "source": [
    "NewDataFrame.exchange(0, Total=True)"
   ]
  },
  {
   "cell_type": "code",
   "execution_count": 10,
   "metadata": {},
   "outputs": [
    {
     "data": {
      "text/plain": [
       "0.0"
      ]
     },
     "execution_count": 10,
     "metadata": {},
     "output_type": "execute_result"
    }
   ],
   "source": [
    "NewDataFrame.shift(0)"
   ]
  },
  {
   "cell_type": "code",
   "execution_count": 11,
   "metadata": {},
   "outputs": [
    {
     "data": {
      "text/plain": [
       "{'Miss': 445}"
      ]
     },
     "execution_count": 11,
     "metadata": {},
     "output_type": "execute_result"
    }
   ],
   "source": [
    "NewDataFrame.quantity(0, label=True)"
   ]
  },
  {
   "cell_type": "code",
   "execution_count": 12,
   "metadata": {},
   "outputs": [
    {
     "data": {
      "text/plain": [
       "628"
      ]
     },
     "execution_count": 12,
     "metadata": {},
     "output_type": "execute_result"
    }
   ],
   "source": [
    "NewDataFrame.difference()"
   ]
  },
  {
   "cell_type": "code",
   "execution_count": 13,
   "metadata": {},
   "outputs": [
    {
     "data": {
      "text/plain": [
       "495"
      ]
     },
     "execution_count": 13,
     "metadata": {},
     "output_type": "execute_result"
    }
   ],
   "source": [
    "NewDataFrame.difference(0)"
   ]
  },
  {
   "cell_type": "code",
   "execution_count": 14,
   "metadata": {},
   "outputs": [
    {
     "data": {
      "text/html": [
       "<div>\n",
       "<style scoped>\n",
       "    .dataframe tbody tr th:only-of-type {\n",
       "        vertical-align: middle;\n",
       "    }\n",
       "\n",
       "    .dataframe tbody tr th {\n",
       "        vertical-align: top;\n",
       "    }\n",
       "\n",
       "    .dataframe thead th {\n",
       "        text-align: right;\n",
       "    }\n",
       "</style>\n",
       "<table border=\"1\" class=\"dataframe\">\n",
       "  <thead>\n",
       "    <tr style=\"text-align: right;\">\n",
       "      <th></th>\n",
       "      <th>Built</th>\n",
       "      <th>Barren</th>\n",
       "      <th>Forest</th>\n",
       "      <th>Water</th>\n",
       "    </tr>\n",
       "  </thead>\n",
       "  <tbody>\n",
       "    <tr>\n",
       "      <th>Built</th>\n",
       "      <td>612</td>\n",
       "      <td>20</td>\n",
       "      <td>5</td>\n",
       "      <td>0</td>\n",
       "    </tr>\n",
       "    <tr>\n",
       "      <th>Barren</th>\n",
       "      <td>168</td>\n",
       "      <td>561</td>\n",
       "      <td>0</td>\n",
       "      <td>10</td>\n",
       "    </tr>\n",
       "    <tr>\n",
       "      <th>Forest</th>\n",
       "      <td>292</td>\n",
       "      <td>83</td>\n",
       "      <td>2197</td>\n",
       "      <td>0</td>\n",
       "    </tr>\n",
       "    <tr>\n",
       "      <th>Water</th>\n",
       "      <td>10</td>\n",
       "      <td>30</td>\n",
       "      <td>10</td>\n",
       "      <td>183</td>\n",
       "    </tr>\n",
       "  </tbody>\n",
       "</table>\n",
       "</div>"
      ],
      "text/plain": [
       "        Built  Barren  Forest  Water\n",
       "Built     612      20       5      0\n",
       "Barren    168     561       0     10\n",
       "Forest    292      83    2197      0\n",
       "Water      10      30      10    183"
      ]
     },
     "execution_count": 14,
     "metadata": {},
     "output_type": "execute_result"
    }
   ],
   "source": [
    "initialDataFrame"
   ]
  },
  {
   "cell_type": "code",
   "execution_count": 15,
   "metadata": {},
   "outputs": [],
   "source": [
    "def entrySize_sam(df):\n",
    "    nCategories = len(dataframe.columns)\n",
    "    df_list = dataframe.values.tolist()\n",
    "\n",
    "    df_plot = dataframe.copy(deep=True)\n",
    "    # delete sum column and row\n",
    "    df_plot.loc[\"Miss\"] = column_disagreement('CONTINGENCY')[:-1]\n",
    "    df_plot.loc[\"False Alarm\"] = row_disagreement('CONTINGENCY')[:-1]\n",
    "\n",
    "    # dynamically add labels in EntrySize plot based on x, y pos on plot\n",
    "    x_pos = []\n",
    "    for i in range(0, nCategories):\n",
    "        row_hit_sum = 0\n",
    "        for j in range(0, i):\n",
    "            row_hit_sum += (df_list[i][j])\n",
    "        row_hit_sum = (df_list[i][i] / 2) + row_hit_sum\n",
    "        x_pos.append(row_hit_sum)\n",
    "\n",
    "    fig = px.bar(df_plot, y=df_plot.index, x=df_plot.columns,\n",
    "                 height=350, orientation='h', width=600,\n",
    "                 opacity=1, color_discrete_sequence=px.colors.qualitative.Set1,\n",
    "                 template=\"simple_white\")\n",
    "\n",
    "    layout = fig.update_layout(\n",
    "        font=dict(family=\"Trebuchet MS\", size=12),\n",
    "        hovermode=False,\n",
    "        paper_bgcolor='rgba(0,0,0,0)',\n",
    "        plot_bgcolor='rgba(0,0,0,0)',\n",
    "        yaxis=dict(autorange=\"reversed\", type='category', title='Table Feature',\n",
    "                   title_font=dict(size=12, family='Trebuchet MS', color='black')),\n",
    "        xaxis=dict(title='Entry size as number of Observations', dtick=1,\n",
    "                   title_font=dict(size=12, family='Trebuchet MS', color='black')),\n",
    "        legend=dict(orientation=\"h\", yanchor=\"bottom\", y=1.02, xanchor=\"right\",\n",
    "                    x=0.8, title='',\n",
    "                    font=dict(family=\"Trebuchet MS\", size=12, color=\"black\"))\n",
    "    )\n",
    "\n",
    "    for i in range(0, nCategories):\n",
    "        fig.add_annotation(x=x_pos[i], y=i, text=\"Hit\", hovertext='Hits for Category 1', showarrow=False,\n",
    "                           font=dict(color='white',\n",
    "                                     family='Trebuchet MS',\n",
    "                                     size=12))\n",
    "    fig.show()"
   ]
  },
  {
   "cell_type": "code",
   "execution_count": 30,
   "metadata": {},
   "outputs": [],
   "source": [
    "\n",
    "    "
   ]
  },
  {
   "cell_type": "code",
   "execution_count": 16,
   "metadata": {},
   "outputs": [],
   "source": [
    "# !pip install -i https://test.pypi.org/simple/ pontiPy==2.5"
   ]
  },
  {
   "cell_type": "code",
   "execution_count": 17,
   "metadata": {},
   "outputs": [],
   "source": [
    "from pontiPy import *"
   ]
  },
  {
   "cell_type": "code",
   "execution_count": 18,
   "metadata": {},
   "outputs": [],
   "source": [
    "df = pd.read_csv(r'sample.csv', index_col= 0)"
   ]
  },
  {
   "cell_type": "code",
   "execution_count": 19,
   "metadata": {},
   "outputs": [],
   "source": [
    "sample = pontiPy_Change(df)"
   ]
  },
  {
   "cell_type": "code",
   "execution_count": 20,
   "metadata": {},
   "outputs": [
    {
     "data": {
      "text/html": [
       "<div>\n",
       "<style scoped>\n",
       "    .dataframe tbody tr th:only-of-type {\n",
       "        vertical-align: middle;\n",
       "    }\n",
       "\n",
       "    .dataframe tbody tr th {\n",
       "        vertical-align: top;\n",
       "    }\n",
       "\n",
       "    .dataframe thead th {\n",
       "        text-align: right;\n",
       "    }\n",
       "</style>\n",
       "<table border=\"1\" class=\"dataframe\">\n",
       "  <thead>\n",
       "    <tr style=\"text-align: right;\">\n",
       "      <th></th>\n",
       "      <th>Built</th>\n",
       "      <th>Barren</th>\n",
       "      <th>Forest</th>\n",
       "      <th>Water</th>\n",
       "    </tr>\n",
       "  </thead>\n",
       "  <tbody>\n",
       "    <tr>\n",
       "      <th>Built</th>\n",
       "      <td>612</td>\n",
       "      <td>20</td>\n",
       "      <td>5</td>\n",
       "      <td>0</td>\n",
       "    </tr>\n",
       "    <tr>\n",
       "      <th>Barren</th>\n",
       "      <td>168</td>\n",
       "      <td>561</td>\n",
       "      <td>0</td>\n",
       "      <td>10</td>\n",
       "    </tr>\n",
       "    <tr>\n",
       "      <th>Forest</th>\n",
       "      <td>292</td>\n",
       "      <td>83</td>\n",
       "      <td>2197</td>\n",
       "      <td>0</td>\n",
       "    </tr>\n",
       "    <tr>\n",
       "      <th>Water</th>\n",
       "      <td>10</td>\n",
       "      <td>30</td>\n",
       "      <td>10</td>\n",
       "      <td>183</td>\n",
       "    </tr>\n",
       "  </tbody>\n",
       "</table>\n",
       "</div>"
      ],
      "text/plain": [
       "        Built  Barren  Forest  Water\n",
       "Built     612      20       5      0\n",
       "Barren    168     561       0     10\n",
       "Forest    292      83    2197      0\n",
       "Water      10      30      10    183"
      ]
     },
     "execution_count": 20,
     "metadata": {},
     "output_type": "execute_result"
    }
   ],
   "source": [
    "df"
   ]
  },
  {
   "cell_type": "code",
   "execution_count": 21,
   "metadata": {},
   "outputs": [
    {
     "data": {
      "text/html": [
       "<div>\n",
       "<style scoped>\n",
       "    .dataframe tbody tr th:only-of-type {\n",
       "        vertical-align: middle;\n",
       "    }\n",
       "\n",
       "    .dataframe tbody tr th {\n",
       "        vertical-align: top;\n",
       "    }\n",
       "\n",
       "    .dataframe thead th {\n",
       "        text-align: right;\n",
       "    }\n",
       "</style>\n",
       "<table border=\"1\" class=\"dataframe\">\n",
       "  <thead>\n",
       "    <tr style=\"text-align: right;\">\n",
       "      <th></th>\n",
       "      <th>Built</th>\n",
       "      <th>Barren</th>\n",
       "      <th>Forest</th>\n",
       "      <th>Water</th>\n",
       "      <th>Sum</th>\n",
       "      <th>Loss</th>\n",
       "    </tr>\n",
       "  </thead>\n",
       "  <tbody>\n",
       "    <tr>\n",
       "      <th>Built</th>\n",
       "      <td>612</td>\n",
       "      <td>20</td>\n",
       "      <td>5</td>\n",
       "      <td>0</td>\n",
       "      <td>637</td>\n",
       "      <td>25</td>\n",
       "    </tr>\n",
       "    <tr>\n",
       "      <th>Barren</th>\n",
       "      <td>168</td>\n",
       "      <td>561</td>\n",
       "      <td>0</td>\n",
       "      <td>10</td>\n",
       "      <td>739</td>\n",
       "      <td>178</td>\n",
       "    </tr>\n",
       "    <tr>\n",
       "      <th>Forest</th>\n",
       "      <td>292</td>\n",
       "      <td>83</td>\n",
       "      <td>2197</td>\n",
       "      <td>0</td>\n",
       "      <td>2572</td>\n",
       "      <td>375</td>\n",
       "    </tr>\n",
       "    <tr>\n",
       "      <th>Water</th>\n",
       "      <td>10</td>\n",
       "      <td>30</td>\n",
       "      <td>10</td>\n",
       "      <td>183</td>\n",
       "      <td>233</td>\n",
       "      <td>50</td>\n",
       "    </tr>\n",
       "    <tr>\n",
       "      <th>Sum</th>\n",
       "      <td>1082</td>\n",
       "      <td>694</td>\n",
       "      <td>2212</td>\n",
       "      <td>193</td>\n",
       "      <td>4181</td>\n",
       "      <td>628</td>\n",
       "    </tr>\n",
       "    <tr>\n",
       "      <th>Gain</th>\n",
       "      <td>470</td>\n",
       "      <td>133</td>\n",
       "      <td>15</td>\n",
       "      <td>10</td>\n",
       "      <td>628</td>\n",
       "      <td></td>\n",
       "    </tr>\n",
       "  </tbody>\n",
       "</table>\n",
       "</div>"
      ],
      "text/plain": [
       "        Built  Barren  Forest  Water   Sum Loss\n",
       "Built     612      20       5      0   637   25\n",
       "Barren    168     561       0     10   739  178\n",
       "Forest    292      83    2197      0  2572  375\n",
       "Water      10      30      10    183   233   50\n",
       "Sum      1082     694    2212    193  4181  628\n",
       "Gain      470     133      15     10   628     "
      ]
     },
     "execution_count": 21,
     "metadata": {},
     "output_type": "execute_result"
    }
   ],
   "source": [
    "sample.gain()\n",
    "sample.matrix()"
   ]
  },
  {
   "cell_type": "code",
   "execution_count": 25,
   "metadata": {},
   "outputs": [
    {
     "ename": "AttributeError",
     "evalue": "'pontiPy_Change' object has no attribute 'entrySize_sam'",
     "output_type": "error",
     "traceback": [
      "\u001b[1;31m---------------------------------------------------------------------------\u001b[0m",
      "\u001b[1;31mAttributeError\u001b[0m                            Traceback (most recent call last)",
      "\u001b[1;32m<ipython-input-25-3ef12222dff9>\u001b[0m in \u001b[0;36m<module>\u001b[1;34m\u001b[0m\n\u001b[1;32m----> 1\u001b[1;33m \u001b[0msample\u001b[0m\u001b[1;33m.\u001b[0m\u001b[0mentrySize_sam\u001b[0m\u001b[1;33m(\u001b[0m\u001b[1;33m)\u001b[0m\u001b[1;33m\u001b[0m\u001b[1;33m\u001b[0m\u001b[0m\n\u001b[0m",
      "\u001b[1;31mAttributeError\u001b[0m: 'pontiPy_Change' object has no attribute 'entrySize_sam'"
     ]
    }
   ],
   "source": [
    "sample.entrySize_sam()"
   ]
  },
  {
   "cell_type": "code",
   "execution_count": 23,
   "metadata": {},
   "outputs": [
    {
     "data": {
      "text/html": [
       "<div>\n",
       "<style scoped>\n",
       "    .dataframe tbody tr th:only-of-type {\n",
       "        vertical-align: middle;\n",
       "    }\n",
       "\n",
       "    .dataframe tbody tr th {\n",
       "        vertical-align: top;\n",
       "    }\n",
       "\n",
       "    .dataframe thead th {\n",
       "        text-align: right;\n",
       "    }\n",
       "</style>\n",
       "<table border=\"1\" class=\"dataframe\">\n",
       "  <thead>\n",
       "    <tr style=\"text-align: right;\">\n",
       "      <th></th>\n",
       "      <th>Built</th>\n",
       "      <th>Barren</th>\n",
       "      <th>Forest</th>\n",
       "      <th>Water</th>\n",
       "    </tr>\n",
       "  </thead>\n",
       "  <tbody>\n",
       "    <tr>\n",
       "      <th>Built</th>\n",
       "      <td>612</td>\n",
       "      <td>20</td>\n",
       "      <td>5</td>\n",
       "      <td>0</td>\n",
       "    </tr>\n",
       "    <tr>\n",
       "      <th>Barren</th>\n",
       "      <td>168</td>\n",
       "      <td>561</td>\n",
       "      <td>0</td>\n",
       "      <td>10</td>\n",
       "    </tr>\n",
       "    <tr>\n",
       "      <th>Forest</th>\n",
       "      <td>292</td>\n",
       "      <td>83</td>\n",
       "      <td>2197</td>\n",
       "      <td>0</td>\n",
       "    </tr>\n",
       "    <tr>\n",
       "      <th>Water</th>\n",
       "      <td>10</td>\n",
       "      <td>30</td>\n",
       "      <td>10</td>\n",
       "      <td>183</td>\n",
       "    </tr>\n",
       "  </tbody>\n",
       "</table>\n",
       "</div>"
      ],
      "text/plain": [
       "        Built  Barren  Forest  Water\n",
       "Built     612      20       5      0\n",
       "Barren    168     561       0     10\n",
       "Forest    292      83    2197      0\n",
       "Water      10      30      10    183"
      ]
     },
     "execution_count": 23,
     "metadata": {},
     "output_type": "execute_result"
    }
   ],
   "source": [
    "df"
   ]
  },
  {
   "cell_type": "code",
   "execution_count": 24,
   "metadata": {},
   "outputs": [
    {
     "ename": "ValueError",
     "evalue": "Cannot accept list of column references or list of columns for both `x` and `y`.",
     "output_type": "error",
     "traceback": [
      "\u001b[1;31m---------------------------------------------------------------------------\u001b[0m",
      "\u001b[1;31mValueError\u001b[0m                                Traceback (most recent call last)",
      "\u001b[1;32m<ipython-input-24-449472691f31>\u001b[0m in \u001b[0;36m<module>\u001b[1;34m\u001b[0m\n\u001b[1;32m----> 1\u001b[1;33m fig = px.bar(df, y=df.index, x=df.columns,\n\u001b[0m\u001b[0;32m      2\u001b[0m                 \u001b[0mheight\u001b[0m\u001b[1;33m=\u001b[0m\u001b[1;36m350\u001b[0m\u001b[1;33m,\u001b[0m \u001b[0morientation\u001b[0m\u001b[1;33m=\u001b[0m\u001b[1;34m'h'\u001b[0m\u001b[1;33m,\u001b[0m \u001b[0mwidth\u001b[0m\u001b[1;33m=\u001b[0m\u001b[1;36m600\u001b[0m\u001b[1;33m,\u001b[0m\u001b[1;33m\u001b[0m\u001b[1;33m\u001b[0m\u001b[0m\n\u001b[0;32m      3\u001b[0m                 \u001b[0mopacity\u001b[0m\u001b[1;33m=\u001b[0m\u001b[1;36m1\u001b[0m\u001b[1;33m,\u001b[0m \u001b[0mcolor_discrete_sequence\u001b[0m\u001b[1;33m=\u001b[0m\u001b[0mpx\u001b[0m\u001b[1;33m.\u001b[0m\u001b[0mcolors\u001b[0m\u001b[1;33m.\u001b[0m\u001b[0mqualitative\u001b[0m\u001b[1;33m.\u001b[0m\u001b[0mSet1\u001b[0m\u001b[1;33m,\u001b[0m\u001b[1;33m\u001b[0m\u001b[1;33m\u001b[0m\u001b[0m\n\u001b[0;32m      4\u001b[0m                 template=\"simple_white\")\n\u001b[0;32m      5\u001b[0m layout = fig.update_layout(\n",
      "\u001b[1;32m~\\anaconda3\\lib\\site-packages\\plotly\\express\\_chart_types.py\u001b[0m in \u001b[0;36mbar\u001b[1;34m(data_frame, x, y, color, facet_row, facet_col, facet_col_wrap, facet_row_spacing, facet_col_spacing, hover_name, hover_data, custom_data, text, base, error_x, error_x_minus, error_y, error_y_minus, animation_frame, animation_group, category_orders, labels, color_discrete_sequence, color_discrete_map, color_continuous_scale, range_color, color_continuous_midpoint, opacity, orientation, barmode, log_x, log_y, range_x, range_y, title, template, width, height)\u001b[0m\n\u001b[0;32m    348\u001b[0m     \u001b[0mmark\u001b[0m\u001b[1;33m.\u001b[0m\u001b[1;33m\u001b[0m\u001b[1;33m\u001b[0m\u001b[0m\n\u001b[0;32m    349\u001b[0m     \"\"\"\n\u001b[1;32m--> 350\u001b[1;33m     return make_figure(\n\u001b[0m\u001b[0;32m    351\u001b[0m         \u001b[0margs\u001b[0m\u001b[1;33m=\u001b[0m\u001b[0mlocals\u001b[0m\u001b[1;33m(\u001b[0m\u001b[1;33m)\u001b[0m\u001b[1;33m,\u001b[0m\u001b[1;33m\u001b[0m\u001b[1;33m\u001b[0m\u001b[0m\n\u001b[0;32m    352\u001b[0m         \u001b[0mconstructor\u001b[0m\u001b[1;33m=\u001b[0m\u001b[0mgo\u001b[0m\u001b[1;33m.\u001b[0m\u001b[0mBar\u001b[0m\u001b[1;33m,\u001b[0m\u001b[1;33m\u001b[0m\u001b[1;33m\u001b[0m\u001b[0m\n",
      "\u001b[1;32m~\\anaconda3\\lib\\site-packages\\plotly\\express\\_core.py\u001b[0m in \u001b[0;36mmake_figure\u001b[1;34m(args, constructor, trace_patch, layout_patch)\u001b[0m\n\u001b[0;32m   1824\u001b[0m     \u001b[0mapply_default_cascade\u001b[0m\u001b[1;33m(\u001b[0m\u001b[0margs\u001b[0m\u001b[1;33m)\u001b[0m\u001b[1;33m\u001b[0m\u001b[1;33m\u001b[0m\u001b[0m\n\u001b[0;32m   1825\u001b[0m \u001b[1;33m\u001b[0m\u001b[0m\n\u001b[1;32m-> 1826\u001b[1;33m     \u001b[0margs\u001b[0m \u001b[1;33m=\u001b[0m \u001b[0mbuild_dataframe\u001b[0m\u001b[1;33m(\u001b[0m\u001b[0margs\u001b[0m\u001b[1;33m,\u001b[0m \u001b[0mconstructor\u001b[0m\u001b[1;33m)\u001b[0m\u001b[1;33m\u001b[0m\u001b[1;33m\u001b[0m\u001b[0m\n\u001b[0m\u001b[0;32m   1827\u001b[0m     \u001b[1;32mif\u001b[0m \u001b[0mconstructor\u001b[0m \u001b[1;32min\u001b[0m \u001b[1;33m[\u001b[0m\u001b[0mgo\u001b[0m\u001b[1;33m.\u001b[0m\u001b[0mTreemap\u001b[0m\u001b[1;33m,\u001b[0m \u001b[0mgo\u001b[0m\u001b[1;33m.\u001b[0m\u001b[0mSunburst\u001b[0m\u001b[1;33m]\u001b[0m \u001b[1;32mand\u001b[0m \u001b[0margs\u001b[0m\u001b[1;33m[\u001b[0m\u001b[1;34m\"path\"\u001b[0m\u001b[1;33m]\u001b[0m \u001b[1;32mis\u001b[0m \u001b[1;32mnot\u001b[0m \u001b[1;32mNone\u001b[0m\u001b[1;33m:\u001b[0m\u001b[1;33m\u001b[0m\u001b[1;33m\u001b[0m\u001b[0m\n\u001b[0;32m   1828\u001b[0m         \u001b[0margs\u001b[0m \u001b[1;33m=\u001b[0m \u001b[0mprocess_dataframe_hierarchy\u001b[0m\u001b[1;33m(\u001b[0m\u001b[0margs\u001b[0m\u001b[1;33m)\u001b[0m\u001b[1;33m\u001b[0m\u001b[1;33m\u001b[0m\u001b[0m\n",
      "\u001b[1;32m~\\anaconda3\\lib\\site-packages\\plotly\\express\\_core.py\u001b[0m in \u001b[0;36mbuild_dataframe\u001b[1;34m(args, constructor)\u001b[0m\n\u001b[0;32m   1278\u001b[0m     \u001b[1;32mif\u001b[0m \u001b[0mconstructor\u001b[0m \u001b[1;32min\u001b[0m \u001b[0mcartesians\u001b[0m\u001b[1;33m:\u001b[0m\u001b[1;33m\u001b[0m\u001b[1;33m\u001b[0m\u001b[0m\n\u001b[0;32m   1279\u001b[0m         \u001b[1;32mif\u001b[0m \u001b[0mwide_x\u001b[0m \u001b[1;32mand\u001b[0m \u001b[0mwide_y\u001b[0m\u001b[1;33m:\u001b[0m\u001b[1;33m\u001b[0m\u001b[1;33m\u001b[0m\u001b[0m\n\u001b[1;32m-> 1280\u001b[1;33m             raise ValueError(\n\u001b[0m\u001b[0;32m   1281\u001b[0m                 \u001b[1;34m\"Cannot accept list of column references or list of columns for both `x` and `y`.\"\u001b[0m\u001b[1;33m\u001b[0m\u001b[1;33m\u001b[0m\u001b[0m\n\u001b[0;32m   1282\u001b[0m             )\n",
      "\u001b[1;31mValueError\u001b[0m: Cannot accept list of column references or list of columns for both `x` and `y`."
     ]
    }
   ],
   "source": [
    "fig = px.bar(df, y=df.index, x=df.columns,\n",
    "                height=350, orientation='h', width=600,\n",
    "                opacity=1, color_discrete_sequence=px.colors.qualitative.Set1,\n",
    "                template=\"simple_white\")\n",
    "layout = fig.update_layout(\n",
    "    font=dict(family=\"Trebuchet MS\", size=12),\n",
    "    hovermode=False,\n",
    "    paper_bgcolor='rgba(0,0,0,0)',\n",
    "    plot_bgcolor='rgba(0,0,0,0)',\n",
    "    yaxis=dict(autorange=\"reversed\", type='category', title='Table Feature',\n",
    "                title_font=dict(size=12, family='Trebuchet MS', color='black')),\n",
    "    xaxis=dict(title='Entry size as number of Observations', dtick=1,\n",
    "                title_font=dict(size=12, family='Trebuchet MS', color='black')),\n",
    "    legend=dict(orientation=\"h\", yanchor=\"bottom\", y=1.02, xanchor=\"right\",\n",
    "                x=0.8, title='',\n",
    "                font=dict(family=\"Trebuchet MS\", size=12, color=\"black\"))\n",
    ")\n",
    "\n",
    "fig.show()"
   ]
  },
  {
   "cell_type": "code",
   "execution_count": null,
   "metadata": {},
   "outputs": [],
   "source": [
    "df= pd.read_csv(r'C:\\Users\\wenxi\\Desktop\\Plotly\\sampleCalculated.csv', index_col= 0, header=None, index_row=0)\n",
    "df"
   ]
  },
  {
   "cell_type": "code",
   "execution_count": null,
   "metadata": {},
   "outputs": [],
   "source": [
    "fig = px.bar(df, y=df.columns, x=df.index, orientation='h', title=\"Wide-Form Input\")\n",
    "fig.show()"
   ]
  }
 ],
 "metadata": {
  "kernelspec": {
   "display_name": "Python 3",
   "language": "python",
   "name": "python3"
  },
  "language_info": {
   "codemirror_mode": {
    "name": "ipython",
    "version": 3
   },
   "file_extension": ".py",
   "mimetype": "text/x-python",
   "name": "python",
   "nbconvert_exporter": "python",
   "pygments_lexer": "ipython3",
   "version": "3.8.3"
  }
 },
 "nbformat": 4,
 "nbformat_minor": 4
}
