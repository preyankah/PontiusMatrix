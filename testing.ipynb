{
 "cells": [
  {
   "cell_type": "code",
   "execution_count": 1,
   "metadata": {},
   "outputs": [],
   "source": [
    "from PontiusMatrix import *\n",
    "import pandas as pd"
   ]
  },
  {
   "cell_type": "code",
   "execution_count": 2,
   "metadata": {},
   "outputs": [],
   "source": [
    "df = pd.read_csv(\"./Testing/coastal_1995_2000.csv\", index_col=0)"
   ]
  },
  {
   "cell_type": "code",
   "execution_count": 3,
   "metadata": {
    "scrolled": false
   },
   "outputs": [
    {
     "data": {
      "text/html": [
       "<div>\n",
       "<style scoped>\n",
       "    .dataframe tbody tr th:only-of-type {\n",
       "        vertical-align: middle;\n",
       "    }\n",
       "\n",
       "    .dataframe tbody tr th {\n",
       "        vertical-align: top;\n",
       "    }\n",
       "\n",
       "    .dataframe thead th {\n",
       "        text-align: right;\n",
       "    }\n",
       "</style>\n",
       "<table border=\"1\" class=\"dataframe\">\n",
       "  <thead>\n",
       "    <tr style=\"text-align: right;\">\n",
       "      <th></th>\n",
       "      <th>Cultivated</th>\n",
       "      <th>Forest</th>\n",
       "      <th>Garden</th>\n",
       "      <th>Water</th>\n",
       "      <th>Built</th>\n",
       "      <th>Unused</th>\n",
       "    </tr>\n",
       "  </thead>\n",
       "  <tbody>\n",
       "    <tr>\n",
       "      <th>Cultivated</th>\n",
       "      <td>824</td>\n",
       "      <td>120</td>\n",
       "      <td>2</td>\n",
       "      <td>5</td>\n",
       "      <td>124</td>\n",
       "      <td>4</td>\n",
       "    </tr>\n",
       "    <tr>\n",
       "      <th>Forest</th>\n",
       "      <td>49</td>\n",
       "      <td>397</td>\n",
       "      <td>18</td>\n",
       "      <td>3</td>\n",
       "      <td>13</td>\n",
       "      <td>8</td>\n",
       "    </tr>\n",
       "    <tr>\n",
       "      <th>Garden</th>\n",
       "      <td>12</td>\n",
       "      <td>4</td>\n",
       "      <td>52</td>\n",
       "      <td>0</td>\n",
       "      <td>4</td>\n",
       "      <td>0</td>\n",
       "    </tr>\n",
       "    <tr>\n",
       "      <th>Water</th>\n",
       "      <td>6</td>\n",
       "      <td>2</td>\n",
       "      <td>1</td>\n",
       "      <td>34</td>\n",
       "      <td>8</td>\n",
       "      <td>2</td>\n",
       "    </tr>\n",
       "    <tr>\n",
       "      <th>Built</th>\n",
       "      <td>14</td>\n",
       "      <td>4</td>\n",
       "      <td>1</td>\n",
       "      <td>2</td>\n",
       "      <td>301</td>\n",
       "      <td>0</td>\n",
       "    </tr>\n",
       "    <tr>\n",
       "      <th>Unused</th>\n",
       "      <td>3</td>\n",
       "      <td>6</td>\n",
       "      <td>3</td>\n",
       "      <td>2</td>\n",
       "      <td>4</td>\n",
       "      <td>72</td>\n",
       "    </tr>\n",
       "  </tbody>\n",
       "</table>\n",
       "</div>"
      ],
      "text/plain": [
       "            Cultivated  Forest  Garden  Water  Built  Unused\n",
       "Cultivated         824     120       2      5    124       4\n",
       "Forest              49     397      18      3     13       8\n",
       "Garden              12       4      52      0      4       0\n",
       "Water                6       2       1     34      8       2\n",
       "Built               14       4       1      2    301       0\n",
       "Unused               3       6       3      2      4      72"
      ]
     },
     "metadata": {},
     "output_type": "display_data"
    }
   ],
   "source": [
    "display(df)"
   ]
  },
  {
   "cell_type": "markdown",
   "metadata": {},
   "source": [
    "## Testing Parent Class (Neither)"
   ]
  },
  {
   "cell_type": "code",
   "execution_count": 4,
   "metadata": {},
   "outputs": [],
   "source": [
    "coast_95_20_neither = pontiPy(df)"
   ]
  },
  {
   "cell_type": "code",
   "execution_count": 5,
   "metadata": {},
   "outputs": [
    {
     "name": "stdout",
     "output_type": "stream",
     "text": [
      "Miss: 424\n",
      "Exchange for Category 2: 7\n",
      "Total Size: 2104\n",
      "Shift: 148.0\n",
      "Total Difference: 496\n",
      "Difference for Category 2: 45\n"
     ]
    }
   ],
   "source": [
    "print(\"Miss:\", coast_95_20_neither.column_disagreement())\n",
    "print(\"Exchange for Category 2:\", coast_95_20_neither.exchange(2, Total = True))\n",
    "print(\"Total Size:\", coast_95_20_neither.size())\n",
    "print(\"Shift:\", coast_95_20_neither.shift())\n",
    "print(\"Total Difference:\", coast_95_20_neither.difference())\n",
    "print(\"Difference for Category 2:\", coast_95_20_neither.difference(2))"
   ]
  },
  {
   "cell_type": "code",
   "execution_count": 6,
   "metadata": {},
   "outputs": [
    {
     "name": "stdout",
     "output_type": "stream",
     "text": [
      "Exchange for Category 2: 7\n",
      "{'Category 1': 49, 'Category 2': 2, 'Category 3': 5, 'Category 4': 14, 'Category 5': 3, 'Total Exchange': 73}\n",
      "{'Category 0': 49, 'Category 2': 4, 'Category 3': 2, 'Category 4': 4, 'Category 5': 6, 'Total Exchange': 65}\n",
      "{'Category 0': 2, 'Category 1': 4, 'Category 3': 0, 'Category 4': 1, 'Category 5': 0, 'Total Exchange': 7}\n",
      "{'Category 0': 5, 'Category 1': 2, 'Category 2': 0, 'Category 4': 2, 'Category 5': 2, 'Total Exchange': 11}\n",
      "2\n"
     ]
    }
   ],
   "source": [
    "print(\"Exchange for Category 2:\", coast_95_20_neither.exchange(2, Total = True))\n",
    "print(coast_95_20_neither.exchange(0))\n",
    "print(coast_95_20_neither.exchange(1))\n",
    "print(coast_95_20_neither.exchange(2))\n",
    "print(coast_95_20_neither.exchange(3))\n",
    "print(coast_95_20_neither.exchange(2, 0))"
   ]
  },
  {
   "cell_type": "code",
   "execution_count": 7,
   "metadata": {},
   "outputs": [
    {
     "name": "stdout",
     "output_type": "stream",
     "text": [
      "Total Size: 2104\n",
      "1987\n",
      "1021\n",
      "149\n",
      "99\n"
     ]
    }
   ],
   "source": [
    "print(\"Total Size:\", coast_95_20_neither.size())\n",
    "print(coast_95_20_neither.size(0))\n",
    "print(coast_95_20_neither.size(1))\n",
    "print(coast_95_20_neither.size(2))\n",
    "print(coast_95_20_neither.size(3))"
   ]
  },
  {
   "cell_type": "code",
   "execution_count": 8,
   "metadata": {},
   "outputs": [
    {
     "name": "stdout",
     "output_type": "stream",
     "text": [
      "Shift: 148.0\n"
     ]
    }
   ],
   "source": [
    "print(\"Shift:\", coast_95_20_neither.shift())"
   ]
  },
  {
   "cell_type": "code",
   "execution_count": 9,
   "metadata": {},
   "outputs": [
    {
     "name": "stdout",
     "output_type": "stream",
     "text": [
      "Total Difference: 496\n",
      "Difference for Category 2: 45\n"
     ]
    }
   ],
   "source": [
    "print(\"Total Difference:\", coast_95_20_neither.difference())\n",
    "print(\"Difference for Category 2:\", coast_95_20_neither.difference(2))"
   ]
  },
  {
   "cell_type": "code",
   "execution_count": 10,
   "metadata": {},
   "outputs": [
    {
     "name": "stdout",
     "output_type": "stream",
     "text": [
      "{'False Alarm': 171}\n"
     ]
    }
   ],
   "source": [
    "print(coast_95_20_neither.quantity(0, label = True))"
   ]
  },
  {
   "cell_type": "code",
   "execution_count": 11,
   "metadata": {},
   "outputs": [
    {
     "data": {
      "text/html": [
       "<div>\n",
       "<style scoped>\n",
       "    .dataframe tbody tr th:only-of-type {\n",
       "        vertical-align: middle;\n",
       "    }\n",
       "\n",
       "    .dataframe tbody tr th {\n",
       "        vertical-align: top;\n",
       "    }\n",
       "\n",
       "    .dataframe thead th {\n",
       "        text-align: right;\n",
       "    }\n",
       "</style>\n",
       "<table border=\"1\" class=\"dataframe\">\n",
       "  <thead>\n",
       "    <tr style=\"text-align: right;\">\n",
       "      <th></th>\n",
       "      <th>Cultivated</th>\n",
       "      <th>Forest</th>\n",
       "      <th>Garden</th>\n",
       "      <th>Water</th>\n",
       "      <th>Built</th>\n",
       "      <th>Unused</th>\n",
       "      <th>Sum</th>\n",
       "      <th>False Alarms</th>\n",
       "    </tr>\n",
       "  </thead>\n",
       "  <tbody>\n",
       "    <tr>\n",
       "      <th>Cultivated</th>\n",
       "      <td>824</td>\n",
       "      <td>120</td>\n",
       "      <td>2</td>\n",
       "      <td>5</td>\n",
       "      <td>124</td>\n",
       "      <td>4</td>\n",
       "      <td>1079</td>\n",
       "      <td>255</td>\n",
       "    </tr>\n",
       "    <tr>\n",
       "      <th>Forest</th>\n",
       "      <td>49</td>\n",
       "      <td>397</td>\n",
       "      <td>18</td>\n",
       "      <td>3</td>\n",
       "      <td>13</td>\n",
       "      <td>8</td>\n",
       "      <td>488</td>\n",
       "      <td>91</td>\n",
       "    </tr>\n",
       "    <tr>\n",
       "      <th>Garden</th>\n",
       "      <td>12</td>\n",
       "      <td>4</td>\n",
       "      <td>52</td>\n",
       "      <td>0</td>\n",
       "      <td>4</td>\n",
       "      <td>0</td>\n",
       "      <td>72</td>\n",
       "      <td>20</td>\n",
       "    </tr>\n",
       "    <tr>\n",
       "      <th>Water</th>\n",
       "      <td>6</td>\n",
       "      <td>2</td>\n",
       "      <td>1</td>\n",
       "      <td>34</td>\n",
       "      <td>8</td>\n",
       "      <td>2</td>\n",
       "      <td>53</td>\n",
       "      <td>19</td>\n",
       "    </tr>\n",
       "    <tr>\n",
       "      <th>Built</th>\n",
       "      <td>14</td>\n",
       "      <td>4</td>\n",
       "      <td>1</td>\n",
       "      <td>2</td>\n",
       "      <td>301</td>\n",
       "      <td>0</td>\n",
       "      <td>322</td>\n",
       "      <td>21</td>\n",
       "    </tr>\n",
       "    <tr>\n",
       "      <th>Unused</th>\n",
       "      <td>3</td>\n",
       "      <td>6</td>\n",
       "      <td>3</td>\n",
       "      <td>2</td>\n",
       "      <td>4</td>\n",
       "      <td>72</td>\n",
       "      <td>90</td>\n",
       "      <td>18</td>\n",
       "    </tr>\n",
       "    <tr>\n",
       "      <th>Sum</th>\n",
       "      <td>908</td>\n",
       "      <td>533</td>\n",
       "      <td>77</td>\n",
       "      <td>46</td>\n",
       "      <td>454</td>\n",
       "      <td>86</td>\n",
       "      <td>2104</td>\n",
       "      <td>424</td>\n",
       "    </tr>\n",
       "    <tr>\n",
       "      <th>Misses</th>\n",
       "      <td>84</td>\n",
       "      <td>136</td>\n",
       "      <td>25</td>\n",
       "      <td>12</td>\n",
       "      <td>153</td>\n",
       "      <td>14</td>\n",
       "      <td>424</td>\n",
       "      <td></td>\n",
       "    </tr>\n",
       "  </tbody>\n",
       "</table>\n",
       "</div>"
      ],
      "text/plain": [
       "            Cultivated  Forest  Garden  Water  Built  Unused   Sum  \\\n",
       "Cultivated         824     120       2      5    124       4  1079   \n",
       "Forest              49     397      18      3     13       8   488   \n",
       "Garden              12       4      52      0      4       0    72   \n",
       "Water                6       2       1     34      8       2    53   \n",
       "Built               14       4       1      2    301       0   322   \n",
       "Unused               3       6       3      2      4      72    90   \n",
       "Sum                908     533      77     46    454      86  2104   \n",
       "Misses              84     136      25     12    153      14   424   \n",
       "\n",
       "           False Alarms  \n",
       "Cultivated          255  \n",
       "Forest               91  \n",
       "Garden               20  \n",
       "Water                19  \n",
       "Built                21  \n",
       "Unused               18  \n",
       "Sum                 424  \n",
       "Misses                   "
      ]
     },
     "execution_count": 11,
     "metadata": {},
     "output_type": "execute_result"
    }
   ],
   "source": [
    "coast_95_20_neither.matrix()"
   ]
  },
  {
   "cell_type": "code",
   "execution_count": 12,
   "metadata": {},
   "outputs": [
    {
     "data": {
      "text/html": [
       "<div>\n",
       "<style scoped>\n",
       "    .dataframe tbody tr th:only-of-type {\n",
       "        vertical-align: middle;\n",
       "    }\n",
       "\n",
       "    .dataframe tbody tr th {\n",
       "        vertical-align: top;\n",
       "    }\n",
       "\n",
       "    .dataframe thead th {\n",
       "        text-align: right;\n",
       "    }\n",
       "</style>\n",
       "<table border=\"1\" class=\"dataframe\">\n",
       "  <thead>\n",
       "    <tr style=\"text-align: right;\">\n",
       "      <th></th>\n",
       "      <th>Cultivated</th>\n",
       "      <th>Forest</th>\n",
       "      <th>Garden</th>\n",
       "      <th>Water</th>\n",
       "      <th>Built</th>\n",
       "      <th>Unused</th>\n",
       "    </tr>\n",
       "  </thead>\n",
       "  <tbody>\n",
       "    <tr>\n",
       "      <th>Cultivated</th>\n",
       "      <td>824</td>\n",
       "      <td>120</td>\n",
       "      <td>2</td>\n",
       "      <td>5</td>\n",
       "      <td>124</td>\n",
       "      <td>4</td>\n",
       "    </tr>\n",
       "    <tr>\n",
       "      <th>Forest</th>\n",
       "      <td>49</td>\n",
       "      <td>397</td>\n",
       "      <td>18</td>\n",
       "      <td>3</td>\n",
       "      <td>13</td>\n",
       "      <td>8</td>\n",
       "    </tr>\n",
       "    <tr>\n",
       "      <th>Garden</th>\n",
       "      <td>12</td>\n",
       "      <td>4</td>\n",
       "      <td>52</td>\n",
       "      <td>0</td>\n",
       "      <td>4</td>\n",
       "      <td>0</td>\n",
       "    </tr>\n",
       "    <tr>\n",
       "      <th>Water</th>\n",
       "      <td>6</td>\n",
       "      <td>2</td>\n",
       "      <td>1</td>\n",
       "      <td>34</td>\n",
       "      <td>8</td>\n",
       "      <td>2</td>\n",
       "    </tr>\n",
       "    <tr>\n",
       "      <th>Built</th>\n",
       "      <td>14</td>\n",
       "      <td>4</td>\n",
       "      <td>1</td>\n",
       "      <td>2</td>\n",
       "      <td>301</td>\n",
       "      <td>0</td>\n",
       "    </tr>\n",
       "    <tr>\n",
       "      <th>Unused</th>\n",
       "      <td>3</td>\n",
       "      <td>6</td>\n",
       "      <td>3</td>\n",
       "      <td>2</td>\n",
       "      <td>4</td>\n",
       "      <td>72</td>\n",
       "    </tr>\n",
       "  </tbody>\n",
       "</table>\n",
       "</div>"
      ],
      "text/plain": [
       "            Cultivated  Forest  Garden  Water  Built  Unused\n",
       "Cultivated         824     120       2      5    124       4\n",
       "Forest              49     397      18      3     13       8\n",
       "Garden              12       4      52      0      4       0\n",
       "Water                6       2       1     34      8       2\n",
       "Built               14       4       1      2    301       0\n",
       "Unused               3       6       3      2      4      72"
      ]
     },
     "execution_count": 12,
     "metadata": {},
     "output_type": "execute_result"
    }
   ],
   "source": [
    "coast_95_20_neither.dataframe"
   ]
  },
  {
   "cell_type": "markdown",
   "metadata": {},
   "source": [
    "## Testing Change Subclass"
   ]
  },
  {
   "cell_type": "code",
   "execution_count": 13,
   "metadata": {},
   "outputs": [],
   "source": [
    "coast_95_20_change = pontiPy_Change(df)"
   ]
  },
  {
   "cell_type": "code",
   "execution_count": 14,
   "metadata": {},
   "outputs": [
    {
     "name": "stdout",
     "output_type": "stream",
     "text": [
      "424\n",
      "424\n"
     ]
    }
   ],
   "source": [
    "# Functions available: Will return the same value\n",
    "print(coast_95_20_change.gain())\n",
    "print(coast_95_20_change.column_disagreement())"
   ]
  },
  {
   "cell_type": "code",
   "execution_count": 15,
   "metadata": {},
   "outputs": [
    {
     "name": "stdout",
     "output_type": "stream",
     "text": [
      "424\n",
      "424\n"
     ]
    }
   ],
   "source": [
    "# Functions available: Will return the same value\n",
    "print(coast_95_20_change.loss())\n",
    "# OR\n",
    "print(coast_95_20_change.row_disagreement())"
   ]
  },
  {
   "cell_type": "code",
   "execution_count": 16,
   "metadata": {},
   "outputs": [
    {
     "name": "stdout",
     "output_type": "stream",
     "text": [
      "1608\n",
      "1608\n"
     ]
    }
   ],
   "source": [
    "# Functions available: Will return the same value\n",
    "print(coast_95_20_change.persistence())\n",
    "# OR\n",
    "print(coast_95_20_change.agreement())"
   ]
  },
  {
   "cell_type": "code",
   "execution_count": 17,
   "metadata": {},
   "outputs": [
    {
     "name": "stdout",
     "output_type": "stream",
     "text": [
      "Exchange for Category 2: 7\n"
     ]
    }
   ],
   "source": [
    "print(\"Exchange for Category 2:\", coast_95_20_change.exchange(2, Total = True))"
   ]
  },
  {
   "cell_type": "code",
   "execution_count": 18,
   "metadata": {},
   "outputs": [
    {
     "name": "stdout",
     "output_type": "stream",
     "text": [
      "Total Size: 2104\n"
     ]
    }
   ],
   "source": [
    "print(\"Total Size:\", coast_95_20_change.size())"
   ]
  },
  {
   "cell_type": "code",
   "execution_count": 19,
   "metadata": {},
   "outputs": [
    {
     "name": "stdout",
     "output_type": "stream",
     "text": [
      "Shift: 148.0\n"
     ]
    }
   ],
   "source": [
    "print(\"Shift:\", coast_95_20_change.shift())"
   ]
  },
  {
   "cell_type": "code",
   "execution_count": 20,
   "metadata": {},
   "outputs": [
    {
     "name": "stdout",
     "output_type": "stream",
     "text": [
      "{'False Alarm': 171}\n"
     ]
    }
   ],
   "source": [
    "print(coast_95_20_change.quantity(0, label = True))"
   ]
  },
  {
   "cell_type": "code",
   "execution_count": 21,
   "metadata": {},
   "outputs": [
    {
     "data": {
      "text/html": [
       "<div>\n",
       "<style scoped>\n",
       "    .dataframe tbody tr th:only-of-type {\n",
       "        vertical-align: middle;\n",
       "    }\n",
       "\n",
       "    .dataframe tbody tr th {\n",
       "        vertical-align: top;\n",
       "    }\n",
       "\n",
       "    .dataframe thead th {\n",
       "        text-align: right;\n",
       "    }\n",
       "</style>\n",
       "<table border=\"1\" class=\"dataframe\">\n",
       "  <thead>\n",
       "    <tr style=\"text-align: right;\">\n",
       "      <th></th>\n",
       "      <th>Cultivated</th>\n",
       "      <th>Forest</th>\n",
       "      <th>Garden</th>\n",
       "      <th>Water</th>\n",
       "      <th>Built</th>\n",
       "      <th>Unused</th>\n",
       "      <th>Sum</th>\n",
       "      <th>Loss</th>\n",
       "    </tr>\n",
       "  </thead>\n",
       "  <tbody>\n",
       "    <tr>\n",
       "      <th>Cultivated</th>\n",
       "      <td>824</td>\n",
       "      <td>120</td>\n",
       "      <td>2</td>\n",
       "      <td>5</td>\n",
       "      <td>124</td>\n",
       "      <td>4</td>\n",
       "      <td>1079</td>\n",
       "      <td>255</td>\n",
       "    </tr>\n",
       "    <tr>\n",
       "      <th>Forest</th>\n",
       "      <td>49</td>\n",
       "      <td>397</td>\n",
       "      <td>18</td>\n",
       "      <td>3</td>\n",
       "      <td>13</td>\n",
       "      <td>8</td>\n",
       "      <td>488</td>\n",
       "      <td>91</td>\n",
       "    </tr>\n",
       "    <tr>\n",
       "      <th>Garden</th>\n",
       "      <td>12</td>\n",
       "      <td>4</td>\n",
       "      <td>52</td>\n",
       "      <td>0</td>\n",
       "      <td>4</td>\n",
       "      <td>0</td>\n",
       "      <td>72</td>\n",
       "      <td>20</td>\n",
       "    </tr>\n",
       "    <tr>\n",
       "      <th>Water</th>\n",
       "      <td>6</td>\n",
       "      <td>2</td>\n",
       "      <td>1</td>\n",
       "      <td>34</td>\n",
       "      <td>8</td>\n",
       "      <td>2</td>\n",
       "      <td>53</td>\n",
       "      <td>19</td>\n",
       "    </tr>\n",
       "    <tr>\n",
       "      <th>Built</th>\n",
       "      <td>14</td>\n",
       "      <td>4</td>\n",
       "      <td>1</td>\n",
       "      <td>2</td>\n",
       "      <td>301</td>\n",
       "      <td>0</td>\n",
       "      <td>322</td>\n",
       "      <td>21</td>\n",
       "    </tr>\n",
       "    <tr>\n",
       "      <th>Unused</th>\n",
       "      <td>3</td>\n",
       "      <td>6</td>\n",
       "      <td>3</td>\n",
       "      <td>2</td>\n",
       "      <td>4</td>\n",
       "      <td>72</td>\n",
       "      <td>90</td>\n",
       "      <td>18</td>\n",
       "    </tr>\n",
       "    <tr>\n",
       "      <th>Sum</th>\n",
       "      <td>908</td>\n",
       "      <td>533</td>\n",
       "      <td>77</td>\n",
       "      <td>46</td>\n",
       "      <td>454</td>\n",
       "      <td>86</td>\n",
       "      <td>2104</td>\n",
       "      <td>424</td>\n",
       "    </tr>\n",
       "    <tr>\n",
       "      <th>Gain</th>\n",
       "      <td>84</td>\n",
       "      <td>136</td>\n",
       "      <td>25</td>\n",
       "      <td>12</td>\n",
       "      <td>153</td>\n",
       "      <td>14</td>\n",
       "      <td>424</td>\n",
       "      <td></td>\n",
       "    </tr>\n",
       "  </tbody>\n",
       "</table>\n",
       "</div>"
      ],
      "text/plain": [
       "            Cultivated  Forest  Garden  Water  Built  Unused   Sum Loss\n",
       "Cultivated         824     120       2      5    124       4  1079  255\n",
       "Forest              49     397      18      3     13       8   488   91\n",
       "Garden              12       4      52      0      4       0    72   20\n",
       "Water                6       2       1     34      8       2    53   19\n",
       "Built               14       4       1      2    301       0   322   21\n",
       "Unused               3       6       3      2      4      72    90   18\n",
       "Sum                908     533      77     46    454      86  2104  424\n",
       "Gain                84     136      25     12    153      14   424     "
      ]
     },
     "execution_count": 21,
     "metadata": {},
     "output_type": "execute_result"
    }
   ],
   "source": [
    "coast_95_20_change.matrix()"
   ]
  },
  {
   "cell_type": "markdown",
   "metadata": {},
   "source": [
    "## Testing Error Subclass"
   ]
  },
  {
   "cell_type": "code",
   "execution_count": 22,
   "metadata": {},
   "outputs": [],
   "source": [
    "coast_95_20_error = pontiPy_Error(df)"
   ]
  },
  {
   "cell_type": "code",
   "execution_count": 23,
   "metadata": {},
   "outputs": [
    {
     "name": "stdout",
     "output_type": "stream",
     "text": [
      "424\n",
      "424\n",
      "136\n",
      "136\n"
     ]
    }
   ],
   "source": [
    "# Functions available: Will return the same value\n",
    "print(coast_95_20_error.miss())\n",
    "print(coast_95_20_error.column_disagreement())\n",
    "# OR\n",
    "print(coast_95_20_error.miss(1))\n",
    "print(coast_95_20_error.column_disagreement(1))"
   ]
  },
  {
   "cell_type": "code",
   "execution_count": 24,
   "metadata": {},
   "outputs": [
    {
     "name": "stdout",
     "output_type": "stream",
     "text": [
      "424\n",
      "424\n",
      "91\n",
      "91\n"
     ]
    }
   ],
   "source": [
    "# Functions available: Will return the same value\n",
    "print(coast_95_20_error.false_alarm())\n",
    "print(coast_95_20_error.row_disagreement())\n",
    "# OR\n",
    "print(coast_95_20_error.false_alarm(1))\n",
    "print(coast_95_20_error.row_disagreement(1))"
   ]
  },
  {
   "cell_type": "code",
   "execution_count": 25,
   "metadata": {},
   "outputs": [
    {
     "name": "stdout",
     "output_type": "stream",
     "text": [
      "1608\n",
      "1608\n",
      "397\n",
      "397\n"
     ]
    }
   ],
   "source": [
    "# Functions available: Will return the same value\n",
    "print(coast_95_20_error.hit())\n",
    "print(coast_95_20_error.agreement())\n",
    "# OR\n",
    "print(coast_95_20_error.hit(1))\n",
    "print(coast_95_20_error.agreement(1))"
   ]
  },
  {
   "cell_type": "code",
   "execution_count": 26,
   "metadata": {},
   "outputs": [
    {
     "name": "stdout",
     "output_type": "stream",
     "text": [
      "Exchange for Category 2: 7\n"
     ]
    }
   ],
   "source": [
    "print(\"Exchange for Category 2:\", coast_95_20_error.exchange(2, Total = True))"
   ]
  },
  {
   "cell_type": "code",
   "execution_count": 27,
   "metadata": {},
   "outputs": [
    {
     "name": "stdout",
     "output_type": "stream",
     "text": [
      "Total Size: 2104\n"
     ]
    }
   ],
   "source": [
    "print(\"Total Size:\", coast_95_20_error.size())"
   ]
  },
  {
   "cell_type": "code",
   "execution_count": 28,
   "metadata": {},
   "outputs": [
    {
     "name": "stdout",
     "output_type": "stream",
     "text": [
      "Shift: 148.0\n"
     ]
    }
   ],
   "source": [
    "print(\"Shift:\", coast_95_20_error.shift())"
   ]
  },
  {
   "cell_type": "code",
   "execution_count": 29,
   "metadata": {},
   "outputs": [
    {
     "name": "stdout",
     "output_type": "stream",
     "text": [
      "{'False Alarm': 171}\n"
     ]
    }
   ],
   "source": [
    "print(coast_95_20_error.quantity(0, label = True))"
   ]
  },
  {
   "cell_type": "code",
   "execution_count": 30,
   "metadata": {},
   "outputs": [
    {
     "data": {
      "text/html": [
       "<div>\n",
       "<style scoped>\n",
       "    .dataframe tbody tr th:only-of-type {\n",
       "        vertical-align: middle;\n",
       "    }\n",
       "\n",
       "    .dataframe tbody tr th {\n",
       "        vertical-align: top;\n",
       "    }\n",
       "\n",
       "    .dataframe thead th {\n",
       "        text-align: right;\n",
       "    }\n",
       "</style>\n",
       "<table border=\"1\" class=\"dataframe\">\n",
       "  <thead>\n",
       "    <tr style=\"text-align: right;\">\n",
       "      <th></th>\n",
       "      <th>Cultivated</th>\n",
       "      <th>Forest</th>\n",
       "      <th>Garden</th>\n",
       "      <th>Water</th>\n",
       "      <th>Built</th>\n",
       "      <th>Unused</th>\n",
       "      <th>Sum</th>\n",
       "      <th>False Alarms</th>\n",
       "    </tr>\n",
       "  </thead>\n",
       "  <tbody>\n",
       "    <tr>\n",
       "      <th>Cultivated</th>\n",
       "      <td>824</td>\n",
       "      <td>120</td>\n",
       "      <td>2</td>\n",
       "      <td>5</td>\n",
       "      <td>124</td>\n",
       "      <td>4</td>\n",
       "      <td>1079</td>\n",
       "      <td>255</td>\n",
       "    </tr>\n",
       "    <tr>\n",
       "      <th>Forest</th>\n",
       "      <td>49</td>\n",
       "      <td>397</td>\n",
       "      <td>18</td>\n",
       "      <td>3</td>\n",
       "      <td>13</td>\n",
       "      <td>8</td>\n",
       "      <td>488</td>\n",
       "      <td>91</td>\n",
       "    </tr>\n",
       "    <tr>\n",
       "      <th>Garden</th>\n",
       "      <td>12</td>\n",
       "      <td>4</td>\n",
       "      <td>52</td>\n",
       "      <td>0</td>\n",
       "      <td>4</td>\n",
       "      <td>0</td>\n",
       "      <td>72</td>\n",
       "      <td>20</td>\n",
       "    </tr>\n",
       "    <tr>\n",
       "      <th>Water</th>\n",
       "      <td>6</td>\n",
       "      <td>2</td>\n",
       "      <td>1</td>\n",
       "      <td>34</td>\n",
       "      <td>8</td>\n",
       "      <td>2</td>\n",
       "      <td>53</td>\n",
       "      <td>19</td>\n",
       "    </tr>\n",
       "    <tr>\n",
       "      <th>Built</th>\n",
       "      <td>14</td>\n",
       "      <td>4</td>\n",
       "      <td>1</td>\n",
       "      <td>2</td>\n",
       "      <td>301</td>\n",
       "      <td>0</td>\n",
       "      <td>322</td>\n",
       "      <td>21</td>\n",
       "    </tr>\n",
       "    <tr>\n",
       "      <th>Unused</th>\n",
       "      <td>3</td>\n",
       "      <td>6</td>\n",
       "      <td>3</td>\n",
       "      <td>2</td>\n",
       "      <td>4</td>\n",
       "      <td>72</td>\n",
       "      <td>90</td>\n",
       "      <td>18</td>\n",
       "    </tr>\n",
       "    <tr>\n",
       "      <th>Sum</th>\n",
       "      <td>908</td>\n",
       "      <td>533</td>\n",
       "      <td>77</td>\n",
       "      <td>46</td>\n",
       "      <td>454</td>\n",
       "      <td>86</td>\n",
       "      <td>2104</td>\n",
       "      <td>424</td>\n",
       "    </tr>\n",
       "    <tr>\n",
       "      <th>Misses</th>\n",
       "      <td>84</td>\n",
       "      <td>136</td>\n",
       "      <td>25</td>\n",
       "      <td>12</td>\n",
       "      <td>153</td>\n",
       "      <td>14</td>\n",
       "      <td>424</td>\n",
       "      <td></td>\n",
       "    </tr>\n",
       "  </tbody>\n",
       "</table>\n",
       "</div>"
      ],
      "text/plain": [
       "            Cultivated  Forest  Garden  Water  Built  Unused   Sum  \\\n",
       "Cultivated         824     120       2      5    124       4  1079   \n",
       "Forest              49     397      18      3     13       8   488   \n",
       "Garden              12       4      52      0      4       0    72   \n",
       "Water                6       2       1     34      8       2    53   \n",
       "Built               14       4       1      2    301       0   322   \n",
       "Unused               3       6       3      2      4      72    90   \n",
       "Sum                908     533      77     46    454      86  2104   \n",
       "Misses              84     136      25     12    153      14   424   \n",
       "\n",
       "           False Alarms  \n",
       "Cultivated          255  \n",
       "Forest               91  \n",
       "Garden               20  \n",
       "Water                19  \n",
       "Built                21  \n",
       "Unused               18  \n",
       "Sum                 424  \n",
       "Misses                   "
      ]
     },
     "execution_count": 30,
     "metadata": {},
     "output_type": "execute_result"
    }
   ],
   "source": [
    "coast_95_20_error.matrix()"
   ]
  }
 ],
 "metadata": {
  "kernelspec": {
   "display_name": "Python 3",
   "language": "python",
   "name": "python3"
  },
  "language_info": {
   "codemirror_mode": {
    "name": "ipython",
    "version": 3
   },
   "file_extension": ".py",
   "mimetype": "text/x-python",
   "name": "python",
   "nbconvert_exporter": "python",
   "pygments_lexer": "ipython3",
   "version": "3.8.3"
  }
 },
 "nbformat": 4,
 "nbformat_minor": 4
}
