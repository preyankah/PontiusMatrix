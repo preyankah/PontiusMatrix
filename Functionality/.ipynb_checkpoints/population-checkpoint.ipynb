{
 "cells": [
  {
   "cell_type": "code",
   "execution_count": 1,
   "metadata": {},
   "outputs": [],
   "source": [
    "import pandas as pd"
   ]
  },
  {
   "cell_type": "code",
   "execution_count": 81,
   "metadata": {},
   "outputs": [],
   "source": [
    "class sampop(object):\n",
    "    def __init__ (self, df):\n",
    "        '''A dataframe is essentially the input for the matrix'''\n",
    "        self.df = pd.read_csv(df, index_col = 0)\n",
    "        '''Call printsample to visualize .csv file in dataframe'''\n",
    "        self.dfcopy = self.df.copy(deep = True)\n",
    "        '''Use dataframe.copy to create a copy of original dataframe'''\n",
    "        '''Or this step will mess up following calculations based on columns/rows'''\n",
    "        self.dfcopy['Sum_Diagnosis'] = self.dfcopy.sum(axis = 1)\n",
    "        #self.dfcopy.loc['Sum_Reference'] = self.dfcopy.sum(axis=0)\n",
    "        \n",
    "    def printsample(self, df, stratum):\n",
    "        '''stratum is a list users should enter. Elements in the list represent \n",
    "        observations in each stratum (pixels of each category).'''\n",
    "        #add = []\n",
    "        #for i in range(len(stratum))\n",
    "        self.dfcopy['Stratum'] = stratum\n",
    "        return self.dfcopy\n",
    "    \n",
    "    def population (self, df, stratum):\n",
    "        '''stratum is a list users should enter. Elements in the list represent \n",
    "        observations in each stratum (pixels of each category).'''\n",
    "        #self.dfcopy['Stratum'] = stratum\n",
    "        '''multiplier is a list of proportions between stratum and sample. \n",
    "        All values in 'sample' will multiply this ratio to get population values.'''\n",
    "        multiplier = [i / j for i, j in zip(stratum, self.dfcopy['Sum_Diagnosis'].to_list())] \n",
    "        # return multiplier\n",
    "        '''create a new population dataframe that is derived from sample dataframe.'''\n",
    "        population = self.dfcopy.iloc[:, 0:-1]\n",
    "        population = population.mul(multiplier, axis = 'rows')\n",
    "        population['Row_sum'] = population.sum(axis = 1)\n",
    "        population.loc['Column_sum'] = population.sum(axis = 0)\n",
    "        hits = []\n",
    "        false_alarms = []\n",
    "        populationsum = population['Row_sum'][:-1].to_list()\n",
    "        for i in range(len(population.columns)-1):\n",
    "            hits.append(population.iloc[i][i]) \n",
    "            false_alarms.append(populationsum[i] - hits[i])\n",
    "        #population['False_Alarms'] = false_alarms\n",
    "        #return population\n",
    "       # return hits\n",
    "        return false_alarms\n",
    "        "
   ]
  },
  {
   "cell_type": "code",
   "execution_count": 65,
   "metadata": {},
   "outputs": [
    {
     "data": {
      "text/html": [
       "<div>\n",
       "<style scoped>\n",
       "    .dataframe tbody tr th:only-of-type {\n",
       "        vertical-align: middle;\n",
       "    }\n",
       "\n",
       "    .dataframe tbody tr th {\n",
       "        vertical-align: top;\n",
       "    }\n",
       "\n",
       "    .dataframe thead th {\n",
       "        text-align: right;\n",
       "    }\n",
       "</style>\n",
       "<table border=\"1\" class=\"dataframe\">\n",
       "  <thead>\n",
       "    <tr style=\"text-align: right;\">\n",
       "      <th></th>\n",
       "      <th>Built</th>\n",
       "      <th>Barren</th>\n",
       "      <th>Forest</th>\n",
       "      <th>Water</th>\n",
       "      <th>Sum_Diagnosis</th>\n",
       "      <th>Stratum</th>\n",
       "    </tr>\n",
       "  </thead>\n",
       "  <tbody>\n",
       "    <tr>\n",
       "      <th>Built</th>\n",
       "      <td>612</td>\n",
       "      <td>0</td>\n",
       "      <td>0</td>\n",
       "      <td>0</td>\n",
       "      <td>612</td>\n",
       "      <td>6666</td>\n",
       "    </tr>\n",
       "    <tr>\n",
       "      <th>Barren</th>\n",
       "      <td>168</td>\n",
       "      <td>561</td>\n",
       "      <td>0</td>\n",
       "      <td>0</td>\n",
       "      <td>729</td>\n",
       "      <td>2114</td>\n",
       "    </tr>\n",
       "    <tr>\n",
       "      <th>Forest</th>\n",
       "      <td>292</td>\n",
       "      <td>83</td>\n",
       "      <td>2197</td>\n",
       "      <td>0</td>\n",
       "      <td>2572</td>\n",
       "      <td>11111</td>\n",
       "    </tr>\n",
       "    <tr>\n",
       "      <th>Water</th>\n",
       "      <td>0</td>\n",
       "      <td>0</td>\n",
       "      <td>0</td>\n",
       "      <td>183</td>\n",
       "      <td>183</td>\n",
       "      <td>1998</td>\n",
       "    </tr>\n",
       "  </tbody>\n",
       "</table>\n",
       "</div>"
      ],
      "text/plain": [
       "        Built  Barren  Forest  Water  Sum_Diagnosis  Stratum\n",
       "Built     612       0       0      0            612     6666\n",
       "Barren    168     561       0      0            729     2114\n",
       "Forest    292      83    2197      0           2572    11111\n",
       "Water       0       0       0    183            183     1998"
      ]
     },
     "execution_count": 65,
     "metadata": {},
     "output_type": "execute_result"
    }
   ],
   "source": [
    "sample = sampop('sample.csv')\n",
    "#temp = pd.read_csv('sample.csv', index_col = 0)\n",
    "stratum = [6666, 2114, 11111, 1998]\n",
    "sample.printsample('sample.csv', stratum)"
   ]
  },
  {
   "cell_type": "code",
   "execution_count": 82,
   "metadata": {},
   "outputs": [
    {
     "data": {
      "text/plain": [
       "[0.0, 487.17695473251024, 1619.9941679626754, 0.0]"
      ]
     },
     "execution_count": 82,
     "metadata": {},
     "output_type": "execute_result"
    }
   ],
   "source": [
    "sample = sampop('sample.csv')\n",
    "sample.population('sample.csv', stratum)"
   ]
  },
  {
   "cell_type": "code",
   "execution_count": null,
   "metadata": {},
   "outputs": [],
   "source": []
  }
 ],
 "metadata": {
  "kernelspec": {
   "display_name": "Python 3",
   "language": "python",
   "name": "python3"
  },
  "language_info": {
   "codemirror_mode": {
    "name": "ipython",
    "version": 3
   },
   "file_extension": ".py",
   "mimetype": "text/x-python",
   "name": "python",
   "nbconvert_exporter": "python",
   "pygments_lexer": "ipython3",
   "version": "3.8.3"
  }
 },
 "nbformat": 4,
 "nbformat_minor": 4
}
